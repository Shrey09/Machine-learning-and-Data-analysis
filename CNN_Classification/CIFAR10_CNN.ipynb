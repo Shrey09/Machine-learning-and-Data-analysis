{
  "nbformat": 4,
  "nbformat_minor": 0,
  "metadata": {
    "colab": {
      "name": "CIFAR10_CNN.ipynb",
      "version": "0.3.2",
      "provenance": [],
      "collapsed_sections": [],
      "include_colab_link": true
    },
    "kernelspec": {
      "name": "python3",
      "display_name": "Python 3"
    },
    "accelerator": "GPU"
  },
  "cells": [
    {
      "cell_type": "markdown",
      "metadata": {
        "id": "view-in-github",
        "colab_type": "text"
      },
      "source": [
        "[View in Colaboratory](https://colab.research.google.com/github/Shrey09/Machine-Learning-/blob/master/CIFAR10_CNN.ipynb)"
      ]
    },
    {
      "metadata": {
        "id": "da6LevYRTeuB",
        "colab_type": "code",
        "colab": {
          "base_uri": "https://localhost:8080/",
          "height": 187
        },
        "outputId": "96f00ada-6485-4428-c4ab-a10bb81913a3"
      },
      "cell_type": "code",
      "source": [
        "!pip install pydrive\n"
      ],
      "execution_count": 134,
      "outputs": [
        {
          "output_type": "stream",
          "text": [
            "Requirement already satisfied: pydrive in /usr/local/lib/python3.6/dist-packages (1.3.1)\r\n",
            "Requirement already satisfied: PyYAML>=3.0 in /usr/local/lib/python3.6/dist-packages (from pydrive) (3.12)\r\n",
            "Requirement already satisfied: google-api-python-client>=1.2 in /usr/local/lib/python3.6/dist-packages (from pydrive) (1.6.7)\r\n",
            "Requirement already satisfied: oauth2client>=4.0.0 in /usr/local/lib/python3.6/dist-packages (from pydrive) (4.1.2)\n",
            "Requirement already satisfied: six<2dev,>=1.6.1 in /usr/local/lib/python3.6/dist-packages (from google-api-python-client>=1.2->pydrive) (1.11.0)\n",
            "Requirement already satisfied: uritemplate<4dev,>=3.0.0 in /usr/local/lib/python3.6/dist-packages (from google-api-python-client>=1.2->pydrive) (3.0.0)\n",
            "Requirement already satisfied: httplib2<1dev,>=0.9.2 in /usr/local/lib/python3.6/dist-packages (from google-api-python-client>=1.2->pydrive) (0.11.3)\n",
            "Requirement already satisfied: pyasn1-modules>=0.0.5 in /usr/local/lib/python3.6/dist-packages (from oauth2client>=4.0.0->pydrive) (0.2.1)\n",
            "Requirement already satisfied: rsa>=3.1.4 in /usr/local/lib/python3.6/dist-packages (from oauth2client>=4.0.0->pydrive) (3.4.2)\n",
            "Requirement already satisfied: pyasn1>=0.1.7 in /usr/local/lib/python3.6/dist-packages (from oauth2client>=4.0.0->pydrive) (0.4.3)\n"
          ],
          "name": "stdout"
        }
      ]
    },
    {
      "metadata": {
        "id": "m9wj3KgpUXyo",
        "colab_type": "code",
        "colab": {}
      },
      "cell_type": "code",
      "source": [
        "from pydrive.auth import GoogleAuth\n",
        "from pydrive.drive import GoogleDrive\n",
        "from google.colab import auth\n",
        "from oauth2client.client import GoogleCredentials\n",
        "from googleapiclient.discovery import build\n",
        "from googleapiclient.http import MediaFileUpload"
      ],
      "execution_count": 0,
      "outputs": []
    },
    {
      "metadata": {
        "id": "b-2hTj-3UYvh",
        "colab_type": "code",
        "colab": {}
      },
      "cell_type": "code",
      "source": [
        "auth.authenticate_user()\n",
        "gauth = GoogleAuth()\n",
        "gauth.credentials = GoogleCredentials.get_application_default()\n",
        "drive = GoogleDrive(gauth)"
      ],
      "execution_count": 0,
      "outputs": []
    },
    {
      "metadata": {
        "id": "syQEVi2RU9w3",
        "colab_type": "code",
        "colab": {}
      },
      "cell_type": "code",
      "source": [
        "import numpy as np\n",
        "import pandas as pd\n",
        "\n",
        "from keras.datasets import mnist,cifar10\n",
        "from keras.utils import to_categorical\n",
        "from keras.models import Sequential\n",
        "from keras.layers import Conv2D,MaxPool2D,Activation,Dense,Dropout,Flatten\n",
        "from keras import regularizers\n",
        "from keras.layers.normalization import BatchNormalization\n",
        "from keras.optimizers import Adam,RMSprop\n",
        "from keras.preprocessing.image import ImageDataGenerator\n",
        "from keras.callbacks import ReduceLROnPlateau\n",
        "\n",
        "import matplotlib.pyplot as plt\n",
        "%matplotlib inline\n",
        "import itertools\n",
        "from sklearn.metrics import confusion_matrix"
      ],
      "execution_count": 0,
      "outputs": []
    },
    {
      "metadata": {
        "id": "49uSnZ8XVHQP",
        "colab_type": "code",
        "colab": {}
      },
      "cell_type": "code",
      "source": [
        "(x_train, y_train), (x_test, y_test) = cifar10.load_data()"
      ],
      "execution_count": 0,
      "outputs": []
    },
    {
      "metadata": {
        "id": "FzgWcpHSV4fR",
        "colab_type": "code",
        "colab": {
          "base_uri": "https://localhost:8080/",
          "height": 85
        },
        "outputId": "9aec65c6-776f-4e5a-9d81-ead5d14a5eba"
      },
      "cell_type": "code",
      "source": [
        "print(\"X_train Shape: \",x_train.shape)\n",
        "print(\"Y_train Shape: \",y_train.shape)\n",
        "print(\"X_test Shape: \",x_test.shape)\n",
        "print(\"Y_test Shape: \",y_test.shape)"
      ],
      "execution_count": 139,
      "outputs": [
        {
          "output_type": "stream",
          "text": [
            "X_train Shape:  (50000, 32, 32, 3)\n",
            "Y_train Shape:  (50000, 1)\n",
            "X_test Shape:  (10000, 32, 32, 3)\n",
            "Y_test Shape:  (10000, 1)\n"
          ],
          "name": "stdout"
        }
      ]
    },
    {
      "metadata": {
        "id": "IifTKD7zKXRm",
        "colab_type": "code",
        "colab": {
          "base_uri": "https://localhost:8080/",
          "height": 351
        },
        "outputId": "ca29488e-eeee-45ff-be06-95185f9100de"
      },
      "cell_type": "code",
      "source": [
        "for i in range(5):\n",
        "  data = plt.imshow(x_train[i,:,:,:])\n",
        "  print(y_train[i,:])"
      ],
      "execution_count": 140,
      "outputs": [
        {
          "output_type": "stream",
          "text": [
            "[6]\n",
            "[9]\n",
            "[9]\n",
            "[4]\n",
            "[1]\n"
          ],
          "name": "stdout"
        },
        {
          "output_type": "display_data",
          "data": {
            "image/png": "[encoded data removed]",
            "text/plain": [
              "<matplotlib.figure.Figure at 0x7fed33ffe3c8>"
            ]
          },
          "metadata": {
            "tags": []
          }
        }
      ]
    },
    {
      "metadata": {
        "id": "fLqgA0FGYk23",
        "colab_type": "code",
        "colab": {}
      },
      "cell_type": "code",
      "source": [
        "#Normalize the data\n",
        "\n",
        "x_train = x_train / 255.0\n",
        "x_test = x_test / 255.0"
      ],
      "execution_count": 0,
      "outputs": []
    },
    {
      "metadata": {
        "id": "p2H89mF4Kdbi",
        "colab_type": "code",
        "colab": {
          "base_uri": "https://localhost:8080/",
          "height": 351
        },
        "outputId": "ea8e4c1c-d965-47ea-90fe-0683613179f7"
      },
      "cell_type": "code",
      "source": [
        "for i in range(5):\n",
        "  data = plt.imshow(x_train[i,:,:,:])\n",
        "  print(y_train[i,:])"
      ],
      "execution_count": 142,
      "outputs": [
        {
          "output_type": "stream",
          "text": [
            "[6]\n",
            "[9]\n",
            "[9]\n",
            "[4]\n",
            "[1]\n"
          ],
          "name": "stdout"
        },
        {
          "output_type": "display_data",
          "data": {
            "image/png": "[encoded data removed]",
            "text/plain": [
              "<matplotlib.figure.Figure at 0x7fed33ffee80>"
            ]
          },
          "metadata": {
            "tags": []
          }
        }
      ]
    },
    {
      "metadata": {
        "id": "nilszv2bZShs",
        "colab_type": "text"
      },
      "cell_type": "markdown",
      "source": [
        "**Encode label**"
      ]
    },
    {
      "metadata": {
        "id": "nGGq8DXcZQmG",
        "colab_type": "code",
        "colab": {}
      },
      "cell_type": "code",
      "source": [
        "y_train = to_categorical(y_train, num_classes = 10)\n",
        "y_test =  to_categorical(y_test, num_classes = 10)\n",
        "input_shape=(x_train.shape[1],x_train.shape[2],x_train.shape[3])"
      ],
      "execution_count": 0,
      "outputs": []
    },
    {
      "metadata": {
        "id": "Hn9iHDiZKiZI",
        "colab_type": "code",
        "colab": {
          "base_uri": "https://localhost:8080/",
          "height": 351
        },
        "outputId": "db9ea9b7-1593-4b97-f4eb-57cc1bad4c1a"
      },
      "cell_type": "code",
      "source": [
        "for i in range(5):\n",
        "  data = plt.imshow(x_train[i,:,:,:])\n",
        "  print(y_train[i,:])"
      ],
      "execution_count": 144,
      "outputs": [
        {
          "output_type": "stream",
          "text": [
            "[0. 0. 0. 0. 0. 0. 1. 0. 0. 0.]\n",
            "[0. 0. 0. 0. 0. 0. 0. 0. 0. 1.]\n",
            "[0. 0. 0. 0. 0. 0. 0. 0. 0. 1.]\n",
            "[0. 0. 0. 0. 1. 0. 0. 0. 0. 0.]\n",
            "[0. 1. 0. 0. 0. 0. 0. 0. 0. 0.]\n"
          ],
          "name": "stdout"
        },
        {
          "output_type": "display_data",
          "data": {
            "image/png": "[encoded data removed]",
            "text/plain": [
              "<matplotlib.figure.Figure at 0x7fed33ffecc0>"
            ]
          },
          "metadata": {
            "tags": []
          }
        }
      ]
    },
    {
      "metadata": {
        "id": "yPolfxH8Z4Bu",
        "colab_type": "code",
        "colab": {}
      },
      "cell_type": "code",
      "source": [
        "model = Sequential()\n",
        "\n",
        "model.add(Conv2D(filters = 32, kernel_size = (5,5),padding = 'Same', \n",
        "                 activation ='relu', input_shape = input_shape,))\n",
        "model.add(BatchNormalization())\n",
        "model.add(Conv2D(filters = 32, kernel_size = (5,5),padding = 'Same', \n",
        "                 activation ='relu'))\n",
        "model.add(BatchNormalization())\n",
        "model.add(MaxPool2D(pool_size=(2,2)))\n",
        "model.add(Dropout(0.5))\n",
        "\n",
        "\n",
        "model.add(Conv2D(filters = 64, kernel_size = (3,3),padding = 'Same', \n",
        "                 activation ='relu'))\n",
        "model.add(BatchNormalization())\n",
        "model.add(Conv2D(filters = 64, kernel_size = (3,3),padding = 'Same', \n",
        "                 activation ='relu'))\n",
        "model.add(BatchNormalization())\n",
        "model.add(MaxPool2D(pool_size=(2,2)))\n",
        "model.add(Dropout(0.5))\n",
        "\n",
        "model.add(Conv2D(filters = 128, kernel_size = (3,3),padding = 'Same', \n",
        "                 activation ='relu'))\n",
        "model.add(BatchNormalization())\n",
        "model.add(Conv2D(filters = 128, kernel_size = (3,3),padding = 'Same', \n",
        "                 activation ='relu'))\n",
        "model.add(BatchNormalization())\n",
        "model.add(MaxPool2D(pool_size=(2,2)))\n",
        "model.add(Dropout(0.5))\n",
        "\n",
        "model.add(Conv2D(filters = 256, kernel_size = (3,3),padding = 'Same', \n",
        "                 activation ='relu'))\n",
        "model.add(BatchNormalization())\n",
        "model.add(Conv2D(filters = 256, kernel_size = (3,3),padding = 'Same', \n",
        "                 activation ='relu'))\n",
        "model.add(BatchNormalization())\n",
        "model.add(MaxPool2D(pool_size=(2,2)))\n",
        "model.add(Dropout(0.5))\n",
        "\n",
        "\n",
        "model.add(Flatten())\n",
        "model.add(Dense(128, activation = \"relu\"))\n",
        "model.add(Dropout(0.3))\n",
        "model.add(Dense(64, activation = \"relu\"))\n",
        "model.add(Dropout(0.3))\n",
        "model.add(Dense(32, activation = \"relu\"))\n",
        "model.add(Dropout(0.3))\n",
        "model.add(Dense(10, activation = \"softmax\"))"
      ],
      "execution_count": 0,
      "outputs": []
    },
    {
      "metadata": {
        "id": "m6q4QlHddqsz",
        "colab_type": "code",
        "colab": {
          "base_uri": "https://localhost:8080/",
          "height": 1241
        },
        "outputId": "92019986-5d49-4e5a-9e36-8be25f87276e"
      },
      "cell_type": "code",
      "source": [
        "print(model.summary())"
      ],
      "execution_count": 146,
      "outputs": [
        {
          "output_type": "stream",
          "text": [
            "_________________________________________________________________\n",
            "Layer (type)                 Output Shape              Param #   \n",
            "=================================================================\n",
            "conv2d_65 (Conv2D)           (None, 32, 32, 32)        2432      \n",
            "_________________________________________________________________\n",
            "batch_normalization_65 (Batc (None, 32, 32, 32)        128       \n",
            "_________________________________________________________________\n",
            "conv2d_66 (Conv2D)           (None, 32, 32, 32)        25632     \n",
            "_________________________________________________________________\n",
            "batch_normalization_66 (Batc (None, 32, 32, 32)        128       \n",
            "_________________________________________________________________\n",
            "max_pooling2d_28 (MaxPooling (None, 16, 16, 32)        0         \n",
            "_________________________________________________________________\n",
            "dropout_52 (Dropout)         (None, 16, 16, 32)        0         \n",
            "_________________________________________________________________\n",
            "conv2d_67 (Conv2D)           (None, 16, 16, 64)        18496     \n",
            "_________________________________________________________________\n",
            "batch_normalization_67 (Batc (None, 16, 16, 64)        256       \n",
            "_________________________________________________________________\n",
            "conv2d_68 (Conv2D)           (None, 16, 16, 64)        36928     \n",
            "_________________________________________________________________\n",
            "batch_normalization_68 (Batc (None, 16, 16, 64)        256       \n",
            "_________________________________________________________________\n",
            "max_pooling2d_29 (MaxPooling (None, 8, 8, 64)          0         \n",
            "_________________________________________________________________\n",
            "dropout_53 (Dropout)         (None, 8, 8, 64)          0         \n",
            "_________________________________________________________________\n",
            "conv2d_69 (Conv2D)           (None, 8, 8, 128)         73856     \n",
            "_________________________________________________________________\n",
            "batch_normalization_69 (Batc (None, 8, 8, 128)         512       \n",
            "_________________________________________________________________\n",
            "conv2d_70 (Conv2D)           (None, 8, 8, 128)         147584    \n",
            "_________________________________________________________________\n",
            "batch_normalization_70 (Batc (None, 8, 8, 128)         512       \n",
            "_________________________________________________________________\n",
            "max_pooling2d_30 (MaxPooling (None, 4, 4, 128)         0         \n",
            "_________________________________________________________________\n",
            "dropout_54 (Dropout)         (None, 4, 4, 128)         0         \n",
            "_________________________________________________________________\n",
            "conv2d_71 (Conv2D)           (None, 4, 4, 256)         295168    \n",
            "_________________________________________________________________\n",
            "batch_normalization_71 (Batc (None, 4, 4, 256)         1024      \n",
            "_________________________________________________________________\n",
            "conv2d_72 (Conv2D)           (None, 4, 4, 256)         590080    \n",
            "_________________________________________________________________\n",
            "batch_normalization_72 (Batc (None, 4, 4, 256)         1024      \n",
            "_________________________________________________________________\n",
            "max_pooling2d_31 (MaxPooling (None, 2, 2, 256)         0         \n",
            "_________________________________________________________________\n",
            "dropout_55 (Dropout)         (None, 2, 2, 256)         0         \n",
            "_________________________________________________________________\n",
            "flatten_9 (Flatten)          (None, 1024)              0         \n",
            "_________________________________________________________________\n",
            "dense_29 (Dense)             (None, 128)               131200    \n",
            "_________________________________________________________________\n",
            "dropout_56 (Dropout)         (None, 128)               0         \n",
            "_________________________________________________________________\n",
            "dense_30 (Dense)             (None, 64)                8256      \n",
            "_________________________________________________________________\n",
            "dropout_57 (Dropout)         (None, 64)                0         \n",
            "_________________________________________________________________\n",
            "dense_31 (Dense)             (None, 32)                2080      \n",
            "_________________________________________________________________\n",
            "dropout_58 (Dropout)         (None, 32)                0         \n",
            "_________________________________________________________________\n",
            "dense_32 (Dense)             (None, 10)                330       \n",
            "=================================================================\n",
            "Total params: 1,335,882\n",
            "Trainable params: 1,333,962\n",
            "Non-trainable params: 1,920\n",
            "_________________________________________________________________\n",
            "None\n"
          ],
          "name": "stdout"
        }
      ]
    },
    {
      "metadata": {
        "id": "tHL6IOgGd1L9",
        "colab_type": "code",
        "colab": {}
      },
      "cell_type": "code",
      "source": [
        "model.compile(optimizer=\"Adam\",loss=\"categorical_crossentropy\",metrics=[\"accuracy\"])"
      ],
      "execution_count": 0,
      "outputs": []
    },
    {
      "metadata": {
        "id": "FPVktsM-d2Ln",
        "colab_type": "code",
        "colab": {}
      },
      "cell_type": "code",
      "source": [
        "learning_rate_reduction = ReduceLROnPlateau(monitor='val_acc', \n",
        "                                            patience=3, \n",
        "                                            verbose=1, \n",
        "                                            factor=0.5, \n",
        "                                            min_lr=0.00001)"
      ],
      "execution_count": 0,
      "outputs": []
    },
    {
      "metadata": {
        "id": "CSWqBO3Md2aJ",
        "colab_type": "code",
        "colab": {}
      },
      "cell_type": "code",
      "source": [
        "epochs = 60\n",
        "batch_size = 64"
      ],
      "execution_count": 0,
      "outputs": []
    },
    {
      "metadata": {
        "id": "WJy-NfxIe7ij",
        "colab_type": "code",
        "colab": {}
      },
      "cell_type": "code",
      "source": [
        "# datagen = ImageDataGenerator(\n",
        "#         featurewise_center=False,  # set input mean to 0 over the dataset\n",
        "#         samplewise_center=False,  # set each sample mean to 0\n",
        "#         featurewise_std_normalization=False,  # divide inputs by std of the dataset\n",
        "#         samplewise_std_normalization=False,  # divide each input by its std\n",
        "#         zca_whitening=False,  # apply ZCA whitening\n",
        "#         rotation_range=10,  # randomly rotate images in the range (degrees, 0 to 180)\n",
        "#         zoom_range = 0.1, # Randomly zoom image \n",
        "#         width_shift_range=0.1,  # randomly shift images horizontally (fraction of total width)\n",
        "#         height_shift_range=0.1,  # randomly shift images vertically (fraction of total height)\n",
        "#         horizontal_flip=False,  # randomly flip images\n",
        "#         vertical_flip=False)  # randomly flip images\n",
        "\n",
        "\n",
        "# datagen.fit(x_train)"
      ],
      "execution_count": 0,
      "outputs": []
    },
    {
      "metadata": {
        "id": "TVCzFHmCfeRo",
        "colab_type": "code",
        "colab": {
          "base_uri": "https://localhost:8080/",
          "height": 2332
        },
        "outputId": "8a208c6b-14ff-4bc9-ced5-11fd5aa5fcb8"
      },
      "cell_type": "code",
      "source": [
        "history = model.fit(x_train,y_train,\n",
        "                              epochs = epochs, \n",
        "                              validation_data = (x_test,y_test),\n",
        "                              batch_size=batch_size,\n",
        "                              callbacks=[learning_rate_reduction])"
      ],
      "execution_count": 151,
      "outputs": [
        {
          "output_type": "stream",
          "text": [
            "Train on 50000 samples, validate on 10000 samples\n",
            "Epoch 1/60\n",
            "43968/50000 [=========================>....] - ETA: 8s - loss: 2.0738 - acc: 0.2218"
          ],
          "name": "stdout"
        },
        {
          "output_type": "stream",
          "text": [
            "50000/50000 [==============================] - 72s 1ms/step - loss: 2.0463 - acc: 0.2293 - val_loss: 1.7327 - val_acc: 0.3290\n",
            "Epoch 2/60\n",
            "26624/50000 [==============>...............] - ETA: 21s - loss: 1.7723 - acc: 0.3208"
          ],
          "name": "stdout"
        },
        {
          "output_type": "stream",
          "text": [
            "50000/50000 [==============================] - 48s 959us/step - loss: 1.7305 - acc: 0.3384 - val_loss: 1.8276 - val_acc: 0.3103\n",
            "Epoch 3/60\n",
            "19840/50000 [==========>...................] - ETA: 27s - loss: 1.5982 - acc: 0.3987"
          ],
          "name": "stdout"
        },
        {
          "output_type": "stream",
          "text": [
            "50000/50000 [==============================] - 48s 964us/step - loss: 1.5572 - acc: 0.4137 - val_loss: 1.6803 - val_acc: 0.4420\n",
            "Epoch 4/60\n",
            "17280/50000 [=========>....................] - ETA: 29s - loss: 1.4603 - acc: 0.4602"
          ],
          "name": "stdout"
        },
        {
          "output_type": "stream",
          "text": [
            "50000/50000 [==============================] - 48s 965us/step - loss: 1.4046 - acc: 0.4913 - val_loss: 1.2235 - val_acc: 0.5672\n",
            "Epoch 5/60\n",
            "16320/50000 [========>.....................] - ETA: 30s - loss: 1.3133 - acc: 0.5368"
          ],
          "name": "stdout"
        },
        {
          "output_type": "stream",
          "text": [
            "50000/50000 [==============================] - 48s 954us/step - loss: 1.2732 - acc: 0.5567 - val_loss: 1.0565 - val_acc: 0.6114\n",
            "Epoch 6/60\n",
            "16000/50000 [========>.....................] - ETA: 30s - loss: 1.1960 - acc: 0.5934"
          ],
          "name": "stdout"
        },
        {
          "output_type": "stream",
          "text": [
            "50000/50000 [==============================] - 48s 959us/step - loss: 1.1711 - acc: 0.6029 - val_loss: 1.1179 - val_acc: 0.6181\n",
            "Epoch 7/60\n",
            "15872/50000 [========>.....................] - ETA: 30s - loss: 1.1079 - acc: 0.6266"
          ],
          "name": "stdout"
        },
        {
          "output_type": "stream",
          "text": [
            "50000/50000 [==============================] - 48s 961us/step - loss: 1.0880 - acc: 0.6367 - val_loss: 1.0702 - val_acc: 0.6321\n",
            "Epoch 8/60\n",
            "15808/50000 [========>.....................] - ETA: 31s - loss: 1.0430 - acc: 0.6510"
          ],
          "name": "stdout"
        },
        {
          "output_type": "stream",
          "text": [
            "50000/50000 [==============================] - 48s 961us/step - loss: 1.0276 - acc: 0.6612 - val_loss: 0.8873 - val_acc: 0.6997\n",
            "Epoch 9/60\n",
            "15808/50000 [========>.....................] - ETA: 30s - loss: 0.9869 - acc: 0.6778"
          ],
          "name": "stdout"
        },
        {
          "output_type": "stream",
          "text": [
            "50000/50000 [==============================] - 48s 958us/step - loss: 0.9834 - acc: 0.6793 - val_loss: 0.8345 - val_acc: 0.7232\n",
            "Epoch 10/60\n",
            "15680/50000 [========>.....................] - ETA: 30s - loss: 0.9410 - acc: 0.6913"
          ],
          "name": "stdout"
        },
        {
          "output_type": "stream",
          "text": [
            "50000/50000 [==============================] - 48s 956us/step - loss: 0.9397 - acc: 0.6947 - val_loss: 0.8512 - val_acc: 0.7174\n",
            "Epoch 11/60\n",
            "15680/50000 [========>.....................] - ETA: 31s - loss: 0.9010 - acc: 0.7097"
          ],
          "name": "stdout"
        },
        {
          "output_type": "stream",
          "text": [
            "50000/50000 [==============================] - 48s 960us/step - loss: 0.8914 - acc: 0.7143 - val_loss: 0.7027 - val_acc: 0.7710\n",
            "Epoch 12/60\n",
            "15680/50000 [========>.....................] - ETA: 31s - loss: 0.8442 - acc: 0.7352"
          ],
          "name": "stdout"
        },
        {
          "output_type": "stream",
          "text": [
            "50000/50000 [==============================] - 48s 958us/step - loss: 0.8585 - acc: 0.7266 - val_loss: 0.9596 - val_acc: 0.6879\n",
            "Epoch 13/60\n",
            "15680/50000 [========>.....................] - ETA: 31s - loss: 0.8307 - acc: 0.7350"
          ],
          "name": "stdout"
        },
        {
          "output_type": "stream",
          "text": [
            "50000/50000 [==============================] - 48s 958us/step - loss: 0.8374 - acc: 0.7361 - val_loss: 0.7493 - val_acc: 0.7437\n",
            "Epoch 14/60\n",
            "15680/50000 [========>.....................] - ETA: 31s - loss: 0.8095 - acc: 0.7437"
          ],
          "name": "stdout"
        },
        {
          "output_type": "stream",
          "text": [
            "50000/50000 [==============================] - 48s 960us/step - loss: 0.8018 - acc: 0.7452 - val_loss: 0.6801 - val_acc: 0.7811\n",
            "Epoch 15/60\n",
            "15680/50000 [========>.....................] - ETA: 31s - loss: 0.7681 - acc: 0.7579"
          ],
          "name": "stdout"
        },
        {
          "output_type": "stream",
          "text": [
            "50000/50000 [==============================] - 48s 962us/step - loss: 0.7867 - acc: 0.7526 - val_loss: 0.7074 - val_acc: 0.7669\n",
            "Epoch 16/60\n",
            "15680/50000 [========>.....................] - ETA: 31s - loss: 0.7723 - acc: 0.7598"
          ],
          "name": "stdout"
        },
        {
          "output_type": "stream",
          "text": [
            "50000/50000 [==============================] - 48s 958us/step - loss: 0.7603 - acc: 0.7612 - val_loss: 0.7101 - val_acc: 0.7701\n",
            "Epoch 17/60\n",
            "15680/50000 [========>.....................] - ETA: 31s - loss: 0.7143 - acc: 0.7761"
          ],
          "name": "stdout"
        },
        {
          "output_type": "stream",
          "text": [
            "50000/50000 [==============================] - 48s 962us/step - loss: 0.7433 - acc: 0.7654 - val_loss: 0.7004 - val_acc: 0.7802\n",
            "\n",
            "Epoch 00017: ReduceLROnPlateau reducing learning rate to 0.0005000000237487257.\n",
            "Epoch 18/60\n",
            "11520/50000 [=====>........................] - ETA: 34s - loss: 0.7017 - acc: 0.7777"
          ],
          "name": "stdout"
        },
        {
          "output_type": "stream",
          "text": [
            "50000/50000 [==============================] - 48s 956us/step - loss: 0.6812 - acc: 0.7871 - val_loss: 0.5691 - val_acc: 0.8148\n",
            "Epoch 19/60\n",
            "14080/50000 [=======>......................] - ETA: 32s - loss: 0.6719 - acc: 0.7940"
          ],
          "name": "stdout"
        },
        {
          "output_type": "stream",
          "text": [
            "50000/50000 [==============================] - 48s 958us/step - loss: 0.6614 - acc: 0.7924 - val_loss: 0.5911 - val_acc: 0.8098\n",
            "Epoch 20/60\n",
            "15040/50000 [========>.....................] - ETA: 31s - loss: 0.6265 - acc: 0.8041"
          ],
          "name": "stdout"
        },
        {
          "output_type": "stream",
          "text": [
            "50000/50000 [==============================] - 48s 957us/step - loss: 0.6429 - acc: 0.7998 - val_loss: 0.6129 - val_acc: 0.8099\n",
            "Epoch 21/60\n",
            "15424/50000 [========>.....................] - ETA: 31s - loss: 0.6366 - acc: 0.7996"
          ],
          "name": "stdout"
        },
        {
          "output_type": "stream",
          "text": [
            "50000/50000 [==============================] - 48s 957us/step - loss: 0.6232 - acc: 0.8041 - val_loss: 0.6444 - val_acc: 0.7977\n",
            "\n",
            "Epoch 00021: ReduceLROnPlateau reducing learning rate to 0.0002500000118743628.\n",
            "Epoch 22/60\n",
            "11456/50000 [=====>........................] - ETA: 34s - loss: 0.5977 - acc: 0.8100"
          ],
          "name": "stdout"
        },
        {
          "output_type": "stream",
          "text": [
            "50000/50000 [==============================] - 48s 957us/step - loss: 0.5955 - acc: 0.8132 - val_loss: 0.5627 - val_acc: 0.8228\n",
            "Epoch 23/60\n",
            "14080/50000 [=======>......................] - ETA: 32s - loss: 0.5733 - acc: 0.8180"
          ],
          "name": "stdout"
        },
        {
          "output_type": "stream",
          "text": [
            "50000/50000 [==============================] - 48s 960us/step - loss: 0.5752 - acc: 0.8179 - val_loss: 0.5231 - val_acc: 0.8356\n",
            "Epoch 24/60\n",
            "15040/50000 [========>.....................] - ETA: 31s - loss: 0.5692 - acc: 0.8201"
          ],
          "name": "stdout"
        },
        {
          "output_type": "stream",
          "text": [
            "50000/50000 [==============================] - 48s 955us/step - loss: 0.5692 - acc: 0.8211 - val_loss: 0.5411 - val_acc: 0.8271\n",
            "Epoch 25/60\n",
            "15424/50000 [========>.....................] - ETA: 31s - loss: 0.5685 - acc: 0.8229"
          ],
          "name": "stdout"
        },
        {
          "output_type": "stream",
          "text": [
            "50000/50000 [==============================] - 48s 958us/step - loss: 0.5672 - acc: 0.8208 - val_loss: 0.5389 - val_acc: 0.8292\n",
            "Epoch 26/60\n",
            "15552/50000 [========>.....................] - ETA: 31s - loss: 0.5508 - acc: 0.8254"
          ],
          "name": "stdout"
        },
        {
          "output_type": "stream",
          "text": [
            "50000/50000 [==============================] - 48s 962us/step - loss: 0.5545 - acc: 0.8270 - val_loss: 0.5374 - val_acc: 0.8335\n",
            "\n",
            "Epoch 00026: ReduceLROnPlateau reducing learning rate to 0.0001250000059371814.\n",
            "Epoch 27/60\n",
            "11456/50000 [=====>........................] - ETA: 34s - loss: 0.5474 - acc: 0.8277"
          ],
          "name": "stdout"
        },
        {
          "output_type": "stream",
          "text": [
            "50000/50000 [==============================] - 48s 958us/step - loss: 0.5386 - acc: 0.8295 - val_loss: 0.5063 - val_acc: 0.8423\n",
            "Epoch 28/60\n",
            "14080/50000 [=======>......................] - ETA: 32s - loss: 0.5353 - acc: 0.8317"
          ],
          "name": "stdout"
        },
        {
          "output_type": "stream",
          "text": [
            "50000/50000 [==============================] - 48s 956us/step - loss: 0.5320 - acc: 0.8321 - val_loss: 0.5189 - val_acc: 0.8372\n",
            "Epoch 29/60\n",
            "15040/50000 [========>.....................] - ETA: 31s - loss: 0.5317 - acc: 0.8302"
          ],
          "name": "stdout"
        },
        {
          "output_type": "stream",
          "text": [
            "50000/50000 [==============================] - 48s 955us/step - loss: 0.5227 - acc: 0.8325 - val_loss: 0.5089 - val_acc: 0.8427\n",
            "Epoch 30/60\n",
            "15424/50000 [========>.....................] - ETA: 31s - loss: 0.5301 - acc: 0.8330"
          ],
          "name": "stdout"
        },
        {
          "output_type": "stream",
          "text": [
            "50000/50000 [==============================] - 48s 957us/step - loss: 0.5207 - acc: 0.8369 - val_loss: 0.5055 - val_acc: 0.8433\n",
            "Epoch 31/60\n",
            "15552/50000 [========>.....................] - ETA: 31s - loss: 0.5203 - acc: 0.8366"
          ],
          "name": "stdout"
        },
        {
          "output_type": "stream",
          "text": [
            "50000/50000 [==============================] - 48s 956us/step - loss: 0.5213 - acc: 0.8363 - val_loss: 0.5106 - val_acc: 0.8421\n",
            "Epoch 32/60\n",
            "15616/50000 [========>.....................] - ETA: 30s - loss: 0.5316 - acc: 0.8334"
          ],
          "name": "stdout"
        },
        {
          "output_type": "stream",
          "text": [
            "50000/50000 [==============================] - 48s 955us/step - loss: 0.5182 - acc: 0.8374 - val_loss: 0.5038 - val_acc: 0.8447\n",
            "Epoch 33/60\n",
            "15616/50000 [========>.....................] - ETA: 31s - loss: 0.5033 - acc: 0.8392"
          ],
          "name": "stdout"
        },
        {
          "output_type": "stream",
          "text": [
            "50000/50000 [==============================] - 48s 956us/step - loss: 0.5146 - acc: 0.8363 - val_loss: 0.5023 - val_acc: 0.8437\n",
            "Epoch 34/60\n",
            "15616/50000 [========>.....................] - ETA: 31s - loss: 0.5067 - acc: 0.8393"
          ],
          "name": "stdout"
        },
        {
          "output_type": "stream",
          "text": [
            "50000/50000 [==============================] - 48s 959us/step - loss: 0.5113 - acc: 0.8388 - val_loss: 0.5100 - val_acc: 0.8439\n",
            "Epoch 35/60\n",
            "15808/50000 [========>.....................] - ETA: 30s - loss: 0.5004 - acc: 0.8436"
          ],
          "name": "stdout"
        },
        {
          "output_type": "stream",
          "text": [
            "50000/50000 [==============================] - 48s 956us/step - loss: 0.5071 - acc: 0.8398 - val_loss: 0.5141 - val_acc: 0.8403\n",
            "\n",
            "Epoch 00035: ReduceLROnPlateau reducing learning rate to 6.25000029685907e-05.\n",
            "Epoch 36/60\n",
            "11584/50000 [=====>........................] - ETA: 34s - loss: 0.4909 - acc: 0.8438"
          ],
          "name": "stdout"
        },
        {
          "output_type": "stream",
          "text": [
            "50000/50000 [==============================] - 47s 949us/step - loss: 0.4938 - acc: 0.8436 - val_loss: 0.5118 - val_acc: 0.8422\n",
            "Epoch 37/60\n",
            "14144/50000 [=======>......................] - ETA: 32s - loss: 0.4889 - acc: 0.8424"
          ],
          "name": "stdout"
        },
        {
          "output_type": "stream",
          "text": [
            "50000/50000 [==============================] - 48s 958us/step - loss: 0.4934 - acc: 0.8439 - val_loss: 0.5019 - val_acc: 0.8444\n",
            "Epoch 38/60\n",
            "15104/50000 [========>.....................] - ETA: 31s - loss: 0.4855 - acc: 0.8496"
          ],
          "name": "stdout"
        },
        {
          "output_type": "stream",
          "text": [
            "50000/50000 [==============================] - 48s 961us/step - loss: 0.4946 - acc: 0.8450 - val_loss: 0.5044 - val_acc: 0.8459\n",
            "Epoch 39/60\n",
            "15424/50000 [========>.....................] - ETA: 31s - loss: 0.4917 - acc: 0.8440"
          ],
          "name": "stdout"
        },
        {
          "output_type": "stream",
          "text": [
            "50000/50000 [==============================] - 48s 953us/step - loss: 0.4928 - acc: 0.8429 - val_loss: 0.5155 - val_acc: 0.8432\n",
            "Epoch 40/60\n",
            "15552/50000 [========>.....................] - ETA: 31s - loss: 0.4953 - acc: 0.8439"
          ],
          "name": "stdout"
        },
        {
          "output_type": "stream",
          "text": [
            "50000/50000 [==============================] - 48s 955us/step - loss: 0.4904 - acc: 0.8469 - val_loss: 0.5060 - val_acc: 0.8459\n",
            "Epoch 41/60\n",
            "15616/50000 [========>.....................] - ETA: 31s - loss: 0.4773 - acc: 0.8505"
          ],
          "name": "stdout"
        },
        {
          "output_type": "stream",
          "text": [
            "50000/50000 [==============================] - 48s 958us/step - loss: 0.4840 - acc: 0.8474 - val_loss: 0.4986 - val_acc: 0.8480\n",
            "Epoch 42/60\n",
            "15616/50000 [========>.....................] - ETA: 31s - loss: 0.4744 - acc: 0.8488"
          ],
          "name": "stdout"
        },
        {
          "output_type": "stream",
          "text": [
            "50000/50000 [==============================] - 48s 958us/step - loss: 0.4881 - acc: 0.8454 - val_loss: 0.4989 - val_acc: 0.8464\n",
            "Epoch 43/60\n",
            "15616/50000 [========>.....................] - ETA: 30s - loss: 0.4793 - acc: 0.8470"
          ],
          "name": "stdout"
        },
        {
          "output_type": "stream",
          "text": [
            "50000/50000 [==============================] - 48s 957us/step - loss: 0.4799 - acc: 0.8470 - val_loss: 0.5075 - val_acc: 0.8449\n",
            "Epoch 44/60\n",
            "15616/50000 [========>.....................] - ETA: 30s - loss: 0.4779 - acc: 0.8464"
          ],
          "name": "stdout"
        },
        {
          "output_type": "stream",
          "text": [
            "50000/50000 [==============================] - 48s 950us/step - loss: 0.4755 - acc: 0.8490 - val_loss: 0.5020 - val_acc: 0.8483\n",
            "Epoch 45/60\n",
            "15616/50000 [========>.....................] - ETA: 31s - loss: 0.4833 - acc: 0.8459"
          ],
          "name": "stdout"
        },
        {
          "output_type": "stream",
          "text": [
            "50000/50000 [==============================] - 48s 959us/step - loss: 0.4796 - acc: 0.8467 - val_loss: 0.5055 - val_acc: 0.8453\n",
            "Epoch 46/60\n",
            "15616/50000 [========>.....................] - ETA: 31s - loss: 0.4753 - acc: 0.8486"
          ],
          "name": "stdout"
        },
        {
          "output_type": "stream",
          "text": [
            "50000/50000 [==============================] - 48s 955us/step - loss: 0.4731 - acc: 0.8510 - val_loss: 0.5037 - val_acc: 0.8488\n",
            "Epoch 47/60\n",
            "15616/50000 [========>.....................] - ETA: 31s - loss: 0.4626 - acc: 0.8513"
          ],
          "name": "stdout"
        },
        {
          "output_type": "stream",
          "text": [
            "50000/50000 [==============================] - 48s 953us/step - loss: 0.4749 - acc: 0.8497 - val_loss: 0.4868 - val_acc: 0.8522\n",
            "Epoch 48/60\n",
            "15616/50000 [========>.....................] - ETA: 31s - loss: 0.4671 - acc: 0.8526"
          ],
          "name": "stdout"
        },
        {
          "output_type": "stream",
          "text": [
            "50000/50000 [==============================] - 48s 957us/step - loss: 0.4659 - acc: 0.8535 - val_loss: 0.4970 - val_acc: 0.8485\n",
            "Epoch 49/60\n",
            "15616/50000 [========>.....................] - ETA: 30s - loss: 0.4626 - acc: 0.8540"
          ],
          "name": "stdout"
        },
        {
          "output_type": "stream",
          "text": [
            "50000/50000 [==============================] - 48s 953us/step - loss: 0.4712 - acc: 0.8504 - val_loss: 0.4934 - val_acc: 0.8482\n",
            "Epoch 50/60\n",
            "15616/50000 [========>.....................] - ETA: 31s - loss: 0.4423 - acc: 0.8563"
          ],
          "name": "stdout"
        },
        {
          "output_type": "stream",
          "text": [
            "50000/50000 [==============================] - 48s 954us/step - loss: 0.4679 - acc: 0.8521 - val_loss: 0.5031 - val_acc: 0.8469\n",
            "\n",
            "Epoch 00050: ReduceLROnPlateau reducing learning rate to 3.125000148429535e-05.\n",
            "Epoch 51/60\n",
            "11520/50000 [=====>........................] - ETA: 34s - loss: 0.4706 - acc: 0.8520"
          ],
          "name": "stdout"
        },
        {
          "output_type": "stream",
          "text": [
            "50000/50000 [==============================] - 47s 943us/step - loss: 0.4632 - acc: 0.8531 - val_loss: 0.4970 - val_acc: 0.8486\n",
            "Epoch 52/60\n",
            "14144/50000 [=======>......................] - ETA: 31s - loss: 0.4620 - acc: 0.8541"
          ],
          "name": "stdout"
        },
        {
          "output_type": "stream",
          "text": [
            "50000/50000 [==============================] - 47s 941us/step - loss: 0.4684 - acc: 0.8515 - val_loss: 0.4911 - val_acc: 0.8499\n",
            "Epoch 53/60\n",
            "15104/50000 [========>.....................] - ETA: 31s - loss: 0.4534 - acc: 0.8524"
          ],
          "name": "stdout"
        },
        {
          "output_type": "stream",
          "text": [
            "50000/50000 [==============================] - 48s 955us/step - loss: 0.4604 - acc: 0.8526 - val_loss: 0.5018 - val_acc: 0.8475\n",
            "\n",
            "Epoch 00053: ReduceLROnPlateau reducing learning rate to 1.5625000742147677e-05.\n",
            "Epoch 54/60\n",
            "11328/50000 [=====>........................] - ETA: 34s - loss: 0.4586 - acc: 0.8534"
          ],
          "name": "stdout"
        },
        {
          "output_type": "stream",
          "text": [
            "50000/50000 [==============================] - 48s 956us/step - loss: 0.4633 - acc: 0.8533 - val_loss: 0.4959 - val_acc: 0.8497\n",
            "Epoch 55/60\n",
            "14016/50000 [=======>......................] - ETA: 32s - loss: 0.4568 - acc: 0.8548"
          ],
          "name": "stdout"
        },
        {
          "output_type": "stream",
          "text": [
            "50000/50000 [==============================] - 48s 957us/step - loss: 0.4548 - acc: 0.8551 - val_loss: 0.4981 - val_acc: 0.8486\n",
            "Epoch 56/60\n",
            "15040/50000 [========>.....................] - ETA: 31s - loss: 0.4604 - acc: 0.8551"
          ],
          "name": "stdout"
        },
        {
          "output_type": "stream",
          "text": [
            "50000/50000 [==============================] - 48s 961us/step - loss: 0.4595 - acc: 0.8559 - val_loss: 0.5005 - val_acc: 0.8480\n",
            "\n",
            "Epoch 00056: ReduceLROnPlateau reducing learning rate to 1e-05.\n",
            "Epoch 57/60\n",
            "11968/50000 [======>.......................] - ETA: 34s - loss: 0.4471 - acc: 0.8580"
          ],
          "name": "stdout"
        },
        {
          "output_type": "stream",
          "text": [
            "50000/50000 [==============================] - 48s 959us/step - loss: 0.4543 - acc: 0.8556 - val_loss: 0.4982 - val_acc: 0.8495\n",
            "Epoch 58/60\n",
            "14272/50000 [=======>......................] - ETA: 32s - loss: 0.4662 - acc: 0.8513"
          ],
          "name": "stdout"
        },
        {
          "output_type": "stream",
          "text": [
            "50000/50000 [==============================] - 48s 950us/step - loss: 0.4593 - acc: 0.8553 - val_loss: 0.4955 - val_acc: 0.8502\n",
            "Epoch 59/60\n",
            "15168/50000 [========>.....................] - ETA: 31s - loss: 0.4562 - acc: 0.8535"
          ],
          "name": "stdout"
        },
        {
          "output_type": "stream",
          "text": [
            "50000/50000 [==============================] - 48s 958us/step - loss: 0.4536 - acc: 0.8535 - val_loss: 0.4983 - val_acc: 0.8493\n",
            "Epoch 60/60\n",
            "15488/50000 [========>.....................] - ETA: 31s - loss: 0.4601 - acc: 0.8519"
          ],
          "name": "stdout"
        },
        {
          "output_type": "stream",
          "text": [
            "50000/50000 [==============================] - 48s 956us/step - loss: 0.4577 - acc: 0.8543 - val_loss: 0.4939 - val_acc: 0.8505\n"
          ],
          "name": "stdout"
        }
      ]
    },
    {
      "metadata": {
        "id": "OOjK65Bbf7XS",
        "colab_type": "code",
        "colab": {
          "base_uri": "https://localhost:8080/",
          "height": 85
        },
        "outputId": "72bf5668-da02-421d-d783-8bf33abca0f2"
      },
      "cell_type": "code",
      "source": [
        "score = model.evaluate(x_test, y_test, verbose=0)\n",
        "score_train=model.evaluate(x_train,y_train,verbose=0)\n",
        "print(\"Train loss:\",score_train[0])\n",
        "print(\"Train acuuracy:\",score_train[1])\n",
        "print('Test loss:', score[0])\n",
        "print('Test accuracy:', score[1])"
      ],
      "execution_count": 152,
      "outputs": [
        {
          "output_type": "stream",
          "text": [
            "Train loss: 0.22404719228744507\n",
            "Train acuuracy: 0.92272\n",
            "Test loss: 0.49390924801826475\n",
            "Test accuracy: 0.8505\n"
          ],
          "name": "stdout"
        }
      ]
    },
    {
      "metadata": {
        "id": "O4-0hHZugomR",
        "colab_type": "code",
        "colab": {
          "base_uri": "https://localhost:8080/",
          "height": 588
        },
        "outputId": "e568e01e-504b-4b13-a585-d9fc09a0cf18"
      },
      "cell_type": "code",
      "source": [
        "print(history.history.keys())\n",
        "# summarize history for accuracy\n",
        "plt.plot(history.history['acc'])\n",
        "plt.plot(history.history['val_acc'])\n",
        "plt.title('model accuracy')\n",
        "plt.ylabel('accuracy')\n",
        "plt.xlabel('epoch')\n",
        "plt.legend(['train', 'test'], loc='upper left')\n",
        "plt.show()\n",
        "# summarize history for loss\n",
        "plt.plot(history.history['loss'])\n",
        "plt.plot(history.history['val_loss'])\n",
        "plt.title('model loss')\n",
        "plt.ylabel('loss')\n",
        "plt.xlabel('epoch')\n",
        "plt.legend(['train', 'test'], loc='upper left')\n",
        "plt.show()"
      ],
      "execution_count": 153,
      "outputs": [
        {
          "output_type": "stream",
          "text": [
            "dict_keys(['val_loss', 'val_acc', 'loss', 'acc', 'lr'])\n"
          ],
          "name": "stdout"
        },
        {
          "output_type": "display_data",
          "data": {
            "image/png": "[encoded data removed]",
            "text/plain": [
              "<matplotlib.figure.Figure at 0x7fed3406b668>"
            ]
          },
          "metadata": {
            "tags": []
          }
        },
        {
          "output_type": "display_data",
          "data": {
            "image/png": "[encoded data removed]",
            "text/plain": [
              "<matplotlib.figure.Figure at 0x7fed3241e7b8>"
            ]
          },
          "metadata": {
            "tags": []
          }
        }
      ]
    },
    {
      "metadata": {
        "id": "lowPIVJGhRSX",
        "colab_type": "code",
        "colab": {
          "base_uri": "https://localhost:8080/",
          "height": 311
        },
        "outputId": "46af75ea-a839-4734-f262-1d8a8d146d68"
      },
      "cell_type": "code",
      "source": [
        "def plot_confusion_matrix(cm, classes,\n",
        "                          normalize=False,\n",
        "                          title='Confusion matrix',\n",
        "                          cmap=plt.cm.Blues):\n",
        "    \"\"\"\n",
        "    This function prints and plots the confusion matrix.\n",
        "    Normalization can be applied by setting `normalize=True`.\n",
        "    \"\"\"\n",
        "    plt.imshow(cm, interpolation='nearest', cmap=cmap)\n",
        "    plt.title(title)\n",
        "    plt.colorbar()\n",
        "    tick_marks = np.arange(len(classes))\n",
        "    plt.xticks(tick_marks, classes, rotation=45)\n",
        "    plt.yticks(tick_marks, classes)\n",
        "\n",
        "    if normalize:\n",
        "        cm = cm.astype('float') / cm.sum(axis=1)[:, np.newaxis]\n",
        "\n",
        "    thresh = cm.max() / 2.\n",
        "    for i, j in itertools.product(range(cm.shape[0]), range(cm.shape[1])):\n",
        "        plt.text(j, i, cm[i, j],\n",
        "                 horizontalalignment=\"center\",\n",
        "                 color=\"white\" if cm[i, j] > thresh else \"black\")\n",
        "\n",
        "    plt.tight_layout()\n",
        "    plt.ylabel('True label')\n",
        "    plt.xlabel('Predicted label')\n",
        "\n",
        "# Predict the values from the validation dataset\n",
        "Y_pred = model.predict(x_test)\n",
        "# Convert predictions classes to one hot vectors \n",
        "Y_pred_classes = np.argmax(Y_pred,axis = 1) \n",
        "# Convert validation observations to one hot vectors\n",
        "Y_true = np.argmax(y_test,axis = 1) \n",
        "# compute the confusion matrix\n",
        "confusion_mtx = confusion_matrix(Y_true, Y_pred_classes) \n",
        "# plot the confusion matrix\n",
        "plot_confusion_matrix(confusion_mtx, classes = range(10))"
      ],
      "execution_count": 154,
      "outputs": [
        {
          "output_type": "display_data",
          "data": {
            "image/png": "[encoded data removed]",
            "text/plain": [
              "<matplotlib.figure.Figure at 0x7fed3406b9b0>"
            ]
          },
          "metadata": {
            "tags": []
          }
        }
      ]
    },
    {
      "metadata": {
        "id": "cI0-dWCOhf6a",
        "colab_type": "code",
        "colab": {}
      },
      "cell_type": "code",
      "source": [
        ""
      ],
      "execution_count": 0,
      "outputs": []
    }
  ]
}