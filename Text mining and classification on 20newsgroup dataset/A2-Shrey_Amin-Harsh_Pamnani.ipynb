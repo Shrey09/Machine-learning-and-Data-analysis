{
 "cells": [
  {
   "cell_type": "markdown",
   "metadata": {},
   "source": [
    "# Assignment-2 (CSCI-5901)\n",
    "\n",
    "### Shrey Amin - B00822245\n",
    "### Harsh Pamnani - B00802614"
   ]
  },
  {
   "cell_type": "markdown",
   "metadata": {},
   "source": [
    "### Importing libraries\n",
    "\n",
    "Importing all the required libraries: nltk, pandas, numpy, and sklearn."
   ]
  },
  {
   "cell_type": "code",
   "execution_count": 2,
   "metadata": {},
   "outputs": [
    {
     "name": "stdout",
     "output_type": "stream",
     "text": [
      "Requirement already satisfied: nltk in c:\\users\\harsh pamnani\\appdata\\local\\programs\\python\\python37\\lib\\site-packages (3.4.4)\n",
      "Requirement already satisfied: six in c:\\users\\harsh pamnani\\appdata\\local\\programs\\python\\python37\\lib\\site-packages (from nltk) (1.12.0)\n"
     ]
    }
   ],
   "source": [
    "!pip install nltk\n",
    "import nltk\n",
    "from sklearn.datasets import fetch_20newsgroups\n",
    "from nltk.tokenize import sent_tokenize\n",
    "from nltk.tokenize import word_tokenize\n",
    "import numpy as np\n",
    "import pandas as pd\n",
    "from nltk.corpus import stopwords"
   ]
  },
  {
   "cell_type": "markdown",
   "metadata": {},
   "source": [
    "### Load 20 news group dataset\n",
    "\n",
    "Loading the dataset of 20 news group dataset having only 4 categories: alt.atheism, talk.religion.misc, comp.graphics, and sci.space. After that, printing the dataset size, target size, and target lables of the news group dataset."
   ]
  },
  {
   "cell_type": "code",
   "execution_count": 8,
   "metadata": {},
   "outputs": [
    {
     "name": "stdout",
     "output_type": "stream",
     "text": [
      "Dataset size is   :  (3387,)\n",
      "Target size is    :  (3387,)\n",
      "Target labels are :  [0 1 1 ... 2 1 1]\n"
     ]
    }
   ],
   "source": [
    "# Loading dataset with only 4 categories\n",
    "filterCategories=['alt.atheism', 'talk.religion.misc', 'comp.graphics', 'sci.space']\n",
    "newsgroups_data = fetch_20newsgroups(subset='all', shuffle=True, categories=filterCategories)\n",
    "print(\"Dataset size is   : \",newsgroups_data.filenames.shape)\n",
    "print(\"Target size is    : \",newsgroups_data.target.shape)\n",
    "print(\"Target labels are : \",newsgroups_data.target)\n"
   ]
  },
  {
   "cell_type": "code",
   "execution_count": 11,
   "metadata": {},
   "outputs": [
    {
     "name": "stdout",
     "output_type": "stream",
     "text": [
      "From: healta@saturn.wwc.edu (Tammy R Healy)\n",
      "Subject: Re: who are we to judge, Bobby?\n",
      "Lines: 38\n",
      "Organization: Walla Walla College\n",
      "Lines: 38\n",
      "\n",
      "In article <1993Apr14.213356.22176@ultb.isc.rit.edu> snm6394@ultb.isc.rit.edu (S.N. Mozumder ) writes:\n",
      ">From: snm6394@ultb.isc.rit.edu (S.N. Mozumder )\n",
      ">Subject: Re: who are we to judge, Bobby?\n",
      ">Date: Wed, 14 Apr 1993 21:33:56 GMT\n",
      ">In article <healta.56.734556346@saturn.wwc.edu> healta@saturn.wwc.edu (TAMMY R HEALY) writes:\n",
      ">>Bobby,\n",
      ">>\n",
      ">>I would like to take the liberty to quote from a Christian writer named \n",
      ">>Ellen G. White.  I hope that what she said will help you to edit your \n",
      ">>remarks in this group in the future.\n",
      ">>\n",
      ">>\"Do not set yourself as a standard.  Do not make your opinions, your views \n",
      ">>of duty, your interpretations of scripture, a criterion for others and in \n",
      ">>your heart condemn them if they do not come up to your ideal.\"\n",
      ">>                         Thoughts Fromthe Mount of Blessing p. 124\n",
      ">>\n",
      ">>I hope quoting this doesn't make the atheists gag, but I think Ellen White \n",
      ">>put it better than I could.\n",
      ">> \n",
      ">>Tammy\n",
      ">\n",
      ">Point?\n",
      ">\n",
      ">Peace,\n",
      ">\n",
      ">Bobby Mozumder\n",
      ">\n",
      "My point is that you set up your views as the only way to believe.  Saying \n",
      "that all eveil in this world is caused by atheism is ridiculous and \n",
      "counterproductive to dialogue in this newsgroups.  I see in your posts a \n",
      "spirit of condemnation of the atheists in this newsgroup bacause they don'\n",
      "t believe exactly as you do.  If you're here to try to convert the atheists \n",
      "here, you're failing miserably.  Who wants to be in position of constantly \n",
      "defending themselves agaist insulting attacks, like you seem to like to do?!\n",
      "I'm sorry you're so blind that you didn't get the messgae in the quote, \n",
      "everyone else has seemed to.\n",
      "\n",
      "Tammy\n",
      "\n"
     ]
    }
   ],
   "source": [
    "# Replacing all the new lines of the each document and creating a list for the same.\n",
    "for i in range(len(newsgroups_data)):\n",
    "    newsgroups_data.data[i]=\"\\n\".join(newsgroups_data.data[i].split(\"\\n\"))\n",
    "\n",
    "print(newsgroups_data.data[0])"
   ]
  },
  {
   "cell_type": "markdown",
   "metadata": {},
   "source": [
    "# Q1 Collocation extraction"
   ]
  },
  {
   "cell_type": "markdown",
   "metadata": {},
   "source": [
    "## Q1-a Tokenize the words\n",
    "\n",
    "We have tokenized each news article into words using \"word_tokenize\" method from nltk library. \"tokens_words_for_newsgroups\" list will contain the words for each document."
   ]
  },
  {
   "cell_type": "code",
   "execution_count": 15,
   "metadata": {},
   "outputs": [
    {
     "name": "stdout",
     "output_type": "stream",
     "text": [
      "Token words generated for 3387 documents.\n",
      "Token words for first documents are : \n",
      "['From', ':', 'healta', '@', 'saturn.wwc.edu', '(', 'Tammy', 'R', 'Healy', ')', 'Subject', ':', 'Re', ':', 'who', 'are', 'we', 'to', 'judge', ',', 'Bobby', '?', 'Lines', ':', '38', 'Organization', ':', 'Walla', 'Walla', 'College', 'Lines', ':', '38', 'In', 'article', '<', '1993Apr14.213356.22176', '@', 'ultb.isc.rit.edu', '>', 'snm6394', '@', 'ultb.isc.rit.edu', '(', 'S.N', '.', 'Mozumder', ')', 'writes', ':', '>', 'From', ':', 'snm6394', '@', 'ultb.isc.rit.edu', '(', 'S.N', '.', 'Mozumder', ')', '>', 'Subject', ':', 'Re', ':', 'who', 'are', 'we', 'to', 'judge', ',', 'Bobby', '?', '>', 'Date', ':', 'Wed', ',', '14', 'Apr', '1993', '21:33:56', 'GMT', '>', 'In', 'article', '<', 'healta.56.734556346', '@', 'saturn.wwc.edu', '>', 'healta', '@', 'saturn.wwc.edu', '(', 'TAMMY', 'R', 'HEALY', ')', 'writes', ':', '>', '>', 'Bobby', ',', '>', '>', '>', '>', 'I', 'would', 'like', 'to', 'take', 'the', 'liberty', 'to', 'quote', 'from', 'a', 'Christian', 'writer', 'named', '>', '>', 'Ellen', 'G.', 'White', '.', 'I', 'hope', 'that', 'what', 'she', 'said', 'will', 'help', 'you', 'to', 'edit', 'your', '>', '>', 'remarks', 'in', 'this', 'group', 'in', 'the', 'future', '.', '>', '>', '>', '>', \"''\", 'Do', 'not', 'set', 'yourself', 'as', 'a', 'standard', '.', 'Do', 'not', 'make', 'your', 'opinions', ',', 'your', 'views', '>', '>', 'of', 'duty', ',', 'your', 'interpretations', 'of', 'scripture', ',', 'a', 'criterion', 'for', 'others', 'and', 'in', '>', '>', 'your', 'heart', 'condemn', 'them', 'if', 'they', 'do', 'not', 'come', 'up', 'to', 'your', 'ideal', '.', \"''\", '>', '>', 'Thoughts', 'Fromthe', 'Mount', 'of', 'Blessing', 'p.', '124', '>', '>', '>', '>', 'I', 'hope', 'quoting', 'this', 'does', \"n't\", 'make', 'the', 'atheists', 'gag', ',', 'but', 'I', 'think', 'Ellen', 'White', '>', '>', 'put', 'it', 'better', 'than', 'I', 'could', '.', '>', '>', '>', '>', 'Tammy', '>', '>', 'Point', '?', '>', '>', 'Peace', ',', '>', '>', 'Bobby', 'Mozumder', '>', 'My', 'point', 'is', 'that', 'you', 'set', 'up', 'your', 'views', 'as', 'the', 'only', 'way', 'to', 'believe', '.', 'Saying', 'that', 'all', 'eveil', 'in', 'this', 'world', 'is', 'caused', 'by', 'atheism', 'is', 'ridiculous', 'and', 'counterproductive', 'to', 'dialogue', 'in', 'this', 'newsgroups', '.', 'I', 'see', 'in', 'your', 'posts', 'a', 'spirit', 'of', 'condemnation', 'of', 'the', 'atheists', 'in', 'this', 'newsgroup', 'bacause', 'they', \"don'\", 't', 'believe', 'exactly', 'as', 'you', 'do', '.', 'If', 'you', \"'re\", 'here', 'to', 'try', 'to', 'convert', 'the', 'atheists', 'here', ',', 'you', \"'re\", 'failing', 'miserably', '.', 'Who', 'wants', 'to', 'be', 'in', 'position', 'of', 'constantly', 'defending', 'themselves', 'agaist', 'insulting', 'attacks', ',', 'like', 'you', 'seem', 'to', 'like', 'to', 'do', '?', '!', 'I', \"'m\", 'sorry', 'you', \"'re\", 'so', 'blind', 'that', 'you', 'did', \"n't\", 'get', 'the', 'messgae', 'in', 'the', 'quote', ',', 'everyone', 'else', 'has', 'seemed', 'to', '.', 'Tammy']\n"
     ]
    }
   ],
   "source": [
    "tokens_words_for_newsgroups=[]\n",
    "for i in range(len(newsgroups_data.data)):\n",
    "    tokens_words_for_newsgroups.append(word_tokenize(newsgroups_data.data[i]))\n",
    "\n",
    "print(\"Token words generated for\", len(tokens_words_for_newsgroups), \"documents.\")    \n",
    "print(\"Token words for first documents are : \")\n",
    "print(tokens_words_for_newsgroups[0])"
   ]
  },
  {
   "cell_type": "markdown",
   "metadata": {},
   "source": [
    "### Cleaning the dataset\n",
    "\n",
    "Cleaning the dataset before identifying bigram collocation to identify meaningful bigram collocations. For cleaning the dataset, we have removed stopwords, non-alphabetic characters and token words with length less than 2 characters."
   ]
  },
  {
   "cell_type": "code",
   "execution_count": 21,
   "metadata": {},
   "outputs": [
    {
     "name": "stdout",
     "output_type": "stream",
     "text": [
      "Cleaned tokens for first document are :\n",
      " ['from', 'healta', 'tammy', 'healy', 'subject', 'judge', 'bobby', 'lines', 'organization', 'walla', 'walla', 'college', 'lines', 'article', 'mozumder', 'writes', 'from', 'mozumder', 'subject', 'judge', 'bobby', 'date', 'wed', 'apr', 'gmt', 'article', 'healta', 'tammy', 'healy', 'writes', 'bobby', 'would', 'like', 'take', 'liberty', 'quote', 'christian', 'writer', 'named', 'ellen', 'white', 'hope', 'said', 'help', 'edit', 'remarks', 'group', 'future', 'set', 'standard', 'make', 'opinions', 'views', 'duty', 'interpretations', 'scripture', 'criterion', 'others', 'heart', 'condemn', 'come', 'ideal', 'thoughts', 'fromthe', 'mount', 'blessing', 'hope', 'quoting', 'make', 'atheists', 'gag', 'think', 'ellen', 'white', 'put', 'better', 'could', 'tammy', 'point', 'peace', 'bobby', 'mozumder', 'point', 'set', 'views', 'way', 'believe', 'saying', 'eveil', 'world', 'caused', 'atheism', 'ridiculous', 'counterproductive', 'dialogue', 'newsgroups', 'see', 'posts', 'spirit', 'condemnation', 'atheists', 'newsgroup', 'bacause', 'believe', 'exactly', 'try', 'convert', 'atheists', 'failing', 'miserably', 'who', 'wants', 'position', 'constantly', 'defending', 'agaist', 'insulting', 'attacks', 'like', 'seem', 'like', 'sorry', 'blind', 'get', 'messgae', 'quote', 'everyone', 'else', 'seemed', 'tammy']\n"
     ]
    }
   ],
   "source": [
    "newsgroup_cleaned_tokens = []\n",
    "stop_words_english = set(stopwords.words(\"english\"))\n",
    "\n",
    "for i in range(len(tokens_words_for_newsgroups)):\n",
    "    temp_words_list = []\n",
    "    for word in tokens_words_for_newsgroups[i]:\n",
    "        if ((word not in stop_words_english) and (word.isalpha()) and (len(word) > 2)):\n",
    "            temp_words_list.append(word.lower())\n",
    "    newsgroup_cleaned_tokens.append(temp_words_list)\n",
    "\n",
    "print(\"Cleaned tokens for first document are :\\n\", newsgroup_cleaned_tokens[0])"
   ]
  },
  {
   "cell_type": "markdown",
   "metadata": {},
   "source": [
    "## Part-of-speech(POS) tagging\n",
    "\n",
    "Performed POS tagging on generated token of words."
   ]
  },
  {
   "cell_type": "code",
   "execution_count": 22,
   "metadata": {},
   "outputs": [
    {
     "name": "stdout",
     "output_type": "stream",
     "text": [
      "POS tagging generated for 3387 documents\n",
      "Pos-tagged words for first document are :\n",
      " [('from', 'IN'), ('healta', 'JJ'), ('tammy', 'NN'), ('healy', 'NN'), ('subject', 'JJ'), ('judge', 'NN'), ('bobby', 'NN'), ('lines', 'NNS'), ('organization', 'NN'), ('walla', 'NN'), ('walla', 'NN'), ('college', 'NN'), ('lines', 'NNS'), ('article', 'NN'), ('mozumder', 'NN'), ('writes', 'VBZ'), ('from', 'IN'), ('mozumder', 'NN'), ('subject', 'NN'), ('judge', 'NN'), ('bobby', 'NN'), ('date', 'NN'), ('wed', 'VBD'), ('apr', 'JJ'), ('gmt', 'NN'), ('article', 'NN'), ('healta', 'NN'), ('tammy', 'NN'), ('healy', 'NN'), ('writes', 'VBZ'), ('bobby', 'RB'), ('would', 'MD'), ('like', 'VB'), ('take', 'VB'), ('liberty', 'JJ'), ('quote', 'NN'), ('christian', 'JJ'), ('writer', 'NN'), ('named', 'VBN'), ('ellen', 'IN'), ('white', 'JJ'), ('hope', 'NN'), ('said', 'VBD'), ('help', 'NN'), ('edit', 'NN'), ('remarks', 'NNS'), ('group', 'NN'), ('future', 'NN'), ('set', 'VBN'), ('standard', 'JJ'), ('make', 'VBP'), ('opinions', 'NNS'), ('views', 'NNS'), ('duty', 'NN'), ('interpretations', 'NNS'), ('scripture', 'VBP'), ('criterion', 'NN'), ('others', 'NNS'), ('heart', 'NN'), ('condemn', 'VBZ'), ('come', 'JJ'), ('ideal', 'JJ'), ('thoughts', 'NNS'), ('fromthe', 'VBP'), ('mount', 'NN'), ('blessing', 'VBG'), ('hope', 'NN'), ('quoting', 'VBG'), ('make', 'VB'), ('atheists', 'NNS'), ('gag', 'VB'), ('think', 'VBP'), ('ellen', 'VBN'), ('white', 'JJ'), ('put', 'NN'), ('better', 'RBR'), ('could', 'MD'), ('tammy', 'VB'), ('point', 'VB'), ('peace', 'NN'), ('bobby', 'NN'), ('mozumder', 'NN'), ('point', 'NN'), ('set', 'VBN'), ('views', 'NNS'), ('way', 'NN'), ('believe', 'VBP'), ('saying', 'VBG'), ('eveil', 'JJ'), ('world', 'NN'), ('caused', 'VBD'), ('atheism', 'NN'), ('ridiculous', 'JJ'), ('counterproductive', 'JJ'), ('dialogue', 'NN'), ('newsgroups', 'NNS'), ('see', 'VBP'), ('posts', 'NNS'), ('spirit', 'VBP'), ('condemnation', 'NN'), ('atheists', 'NNS'), ('newsgroup', 'VBP'), ('bacause', 'IN'), ('believe', 'VBP'), ('exactly', 'RB'), ('try', 'VBP'), ('convert', 'JJ'), ('atheists', 'NNS'), ('failing', 'VBG'), ('miserably', 'RB'), ('who', 'WP'), ('wants', 'VBZ'), ('position', 'NN'), ('constantly', 'RB'), ('defending', 'VBG'), ('agaist', 'NN'), ('insulting', 'VBG'), ('attacks', 'NNS'), ('like', 'IN'), ('seem', 'VBP'), ('like', 'IN'), ('sorry', 'NN'), ('blind', 'VBP'), ('get', 'VB'), ('messgae', 'JJ'), ('quote', 'NN'), ('everyone', 'NN'), ('else', 'RB'), ('seemed', 'VBD'), ('tammy', 'JJ')]\n"
     ]
    }
   ],
   "source": [
    "posTagged_words=[]\n",
    "for i in range(len(newsgroup_cleaned_tokens)):\n",
    "    posTagged_words.append(nltk.pos_tag(newsgroup_cleaned_tokens[i]))\n",
    "print(\"POS tagging generated for\", len(posTagged_words), \"documents\")\n",
    "print(\"Pos-tagged words for first document are :\\n\",posTagged_words[0])"
   ]
  },
  {
   "cell_type": "markdown",
   "metadata": {},
   "source": [
    "### Ceating a single tokenized words list\n",
    "\n",
    "Storing all the tokens from every article in a single list \"all_news_tokens\". Printing first 10 words from that list. This list will be used for generating bigrams"
   ]
  },
  {
   "cell_type": "code",
   "execution_count": 27,
   "metadata": {},
   "outputs": [
    {
     "name": "stdout",
     "output_type": "stream",
     "text": [
      "First 10 tokes are :\n"
     ]
    },
    {
     "data": {
      "text/plain": [
       "['from',\n",
       " 'healta',\n",
       " 'tammy',\n",
       " 'healy',\n",
       " 'subject',\n",
       " 'judge',\n",
       " 'bobby',\n",
       " 'lines',\n",
       " 'organization',\n",
       " 'walla']"
      ]
     },
     "execution_count": 27,
     "metadata": {},
     "output_type": "execute_result"
    }
   ],
   "source": [
    "all_news_tokens = []\n",
    "for tokens in newsgroup_cleaned_tokens:\n",
    "    for token in tokens:\n",
    "        all_news_tokens.append(token)\n",
    "\n",
    "print(\"First 10 tokes are :\")\n",
    "all_news_tokens[:10]"
   ]
  },
  {
   "cell_type": "markdown",
   "metadata": {},
   "source": [
    "## Q1-b Finding bigrams\n",
    "\n",
    "It shows the diagram of two adjacent words from tokens. We will be using BigramAssocMeasures from nlt collocations. After that, using BigramCollocationFinder to create biagram finder.\n",
    "\n",
    "Coding reference for all the bigram techniques:\n",
    "* https://medium.com/@nicharuch/collocations-identifying-phrases-that-act-like-individual-words-in-nlp-f58a93a2f84a \n",
    "* Tutorial-6"
   ]
  },
  {
   "cell_type": "code",
   "execution_count": 29,
   "metadata": {},
   "outputs": [],
   "source": [
    "bigrams = nltk.collocations.BigramAssocMeasures()\n",
    "bigramFinder = nltk.collocations.BigramCollocationFinder.from_words(all_news_tokens)"
   ]
  },
  {
   "cell_type": "markdown",
   "metadata": {},
   "source": [
    "## 1. Frequency with filter"
   ]
  },
  {
   "cell_type": "code",
   "execution_count": 30,
   "metadata": {},
   "outputs": [
    {
     "data": {
      "text/html": [
       "<div>\n",
       "<style scoped>\n",
       "    .dataframe tbody tr th:only-of-type {\n",
       "        vertical-align: middle;\n",
       "    }\n",
       "\n",
       "    .dataframe tbody tr th {\n",
       "        vertical-align: top;\n",
       "    }\n",
       "\n",
       "    .dataframe thead th {\n",
       "        text-align: right;\n",
       "    }\n",
       "</style>\n",
       "<table border=\"1\" class=\"dataframe\">\n",
       "  <thead>\n",
       "    <tr style=\"text-align: right;\">\n",
       "      <th></th>\n",
       "      <th>bigram</th>\n",
       "      <th>frequency</th>\n",
       "    </tr>\n",
       "  </thead>\n",
       "  <tbody>\n",
       "    <tr>\n",
       "      <th>12</th>\n",
       "      <td>(lines, article)</td>\n",
       "      <td>1088</td>\n",
       "    </tr>\n",
       "    <tr>\n",
       "      <th>1134</th>\n",
       "      <td>(organization, university)</td>\n",
       "      <td>495</td>\n",
       "    </tr>\n",
       "    <tr>\n",
       "      <th>1142</th>\n",
       "      <td>(writes, article)</td>\n",
       "      <td>490</td>\n",
       "    </tr>\n",
       "    <tr>\n",
       "      <th>206</th>\n",
       "      <td>(distribution, world)</td>\n",
       "      <td>371</td>\n",
       "    </tr>\n",
       "    <tr>\n",
       "      <th>137</th>\n",
       "      <td>(lines, distribution)</td>\n",
       "      <td>316</td>\n",
       "    </tr>\n",
       "    <tr>\n",
       "      <th>2155</th>\n",
       "      <td>(kent, sandvik)</td>\n",
       "      <td>211</td>\n",
       "    </tr>\n",
       "    <tr>\n",
       "      <th>1020</th>\n",
       "      <td>(computer, science)</td>\n",
       "      <td>188</td>\n",
       "    </tr>\n",
       "    <tr>\n",
       "      <th>1944</th>\n",
       "      <td>(usa, lines)</td>\n",
       "      <td>182</td>\n",
       "    </tr>\n",
       "    <tr>\n",
       "      <th>1951</th>\n",
       "      <td>(henry, spencer)</td>\n",
       "      <td>180</td>\n",
       "    </tr>\n",
       "    <tr>\n",
       "      <th>27</th>\n",
       "      <td>(would, like)</td>\n",
       "      <td>179</td>\n",
       "    </tr>\n",
       "    <tr>\n",
       "      <th>1825</th>\n",
       "      <td>(university, lines)</td>\n",
       "      <td>172</td>\n",
       "    </tr>\n",
       "    <tr>\n",
       "      <th>4175</th>\n",
       "      <td>(tin, version)</td>\n",
       "      <td>164</td>\n",
       "    </tr>\n",
       "    <tr>\n",
       "      <th>2288</th>\n",
       "      <td>(jon, livesey)</td>\n",
       "      <td>159</td>\n",
       "    </tr>\n",
       "    <tr>\n",
       "      <th>9731</th>\n",
       "      <td>(does, anyone)</td>\n",
       "      <td>156</td>\n",
       "    </tr>\n",
       "    <tr>\n",
       "      <th>2810</th>\n",
       "      <td>(for, example)</td>\n",
       "      <td>151</td>\n",
       "    </tr>\n",
       "    <tr>\n",
       "      <th>2287</th>\n",
       "      <td>(livesey, jon)</td>\n",
       "      <td>150</td>\n",
       "    </tr>\n",
       "    <tr>\n",
       "      <th>1929</th>\n",
       "      <td>(prb, pat)</td>\n",
       "      <td>146</td>\n",
       "    </tr>\n",
       "    <tr>\n",
       "      <th>4223</th>\n",
       "      <td>(computer, graphics)</td>\n",
       "      <td>141</td>\n",
       "    </tr>\n",
       "    <tr>\n",
       "      <th>21</th>\n",
       "      <td>(apr, gmt)</td>\n",
       "      <td>135</td>\n",
       "    </tr>\n",
       "    <tr>\n",
       "      <th>3048</th>\n",
       "      <td>(state, university)</td>\n",
       "      <td>133</td>\n",
       "    </tr>\n",
       "  </tbody>\n",
       "</table>\n",
       "</div>"
      ],
      "text/plain": [
       "                          bigram  frequency\n",
       "12              (lines, article)       1088\n",
       "1134  (organization, university)        495\n",
       "1142           (writes, article)        490\n",
       "206        (distribution, world)        371\n",
       "137        (lines, distribution)        316\n",
       "2155             (kent, sandvik)        211\n",
       "1020         (computer, science)        188\n",
       "1944                (usa, lines)        182\n",
       "1951            (henry, spencer)        180\n",
       "27                 (would, like)        179\n",
       "1825         (university, lines)        172\n",
       "4175              (tin, version)        164\n",
       "2288              (jon, livesey)        159\n",
       "9731              (does, anyone)        156\n",
       "2810              (for, example)        151\n",
       "2287              (livesey, jon)        150\n",
       "1929                  (prb, pat)        146\n",
       "4223        (computer, graphics)        141\n",
       "21                    (apr, gmt)        135\n",
       "3048         (state, university)        133"
      ]
     },
     "execution_count": 30,
     "metadata": {},
     "output_type": "execute_result"
    }
   ],
   "source": [
    "# Simple bigram using frequency count.\n",
    "# Finding 20 best results using frequency count\n",
    "frequency_bigram = bigramFinder.ngram_fd.items()\n",
    "bigramFrequency = pd.DataFrame(list(frequency_bigram), columns=['bigram','frequency']).sort_values(by='frequency', ascending=False)\n",
    "bigramFrequency.head(20)"
   ]
  },
  {
   "cell_type": "markdown",
   "metadata": {},
   "source": [
    "### Applying POS filter"
   ]
  },
  {
   "cell_type": "code",
   "execution_count": 32,
   "metadata": {},
   "outputs": [
    {
     "data": {
      "text/html": [
       "<div>\n",
       "<style scoped>\n",
       "    .dataframe tbody tr th:only-of-type {\n",
       "        vertical-align: middle;\n",
       "    }\n",
       "\n",
       "    .dataframe tbody tr th {\n",
       "        vertical-align: top;\n",
       "    }\n",
       "\n",
       "    .dataframe thead th {\n",
       "        text-align: right;\n",
       "    }\n",
       "</style>\n",
       "<table border=\"1\" class=\"dataframe\">\n",
       "  <thead>\n",
       "    <tr style=\"text-align: right;\">\n",
       "      <th></th>\n",
       "      <th>bigram</th>\n",
       "      <th>frequency</th>\n",
       "    </tr>\n",
       "  </thead>\n",
       "  <tbody>\n",
       "    <tr>\n",
       "      <th>0</th>\n",
       "      <td>(lines, article)</td>\n",
       "      <td>1088</td>\n",
       "    </tr>\n",
       "    <tr>\n",
       "      <th>1</th>\n",
       "      <td>(organization, university)</td>\n",
       "      <td>495</td>\n",
       "    </tr>\n",
       "    <tr>\n",
       "      <th>2</th>\n",
       "      <td>(writes, article)</td>\n",
       "      <td>490</td>\n",
       "    </tr>\n",
       "    <tr>\n",
       "      <th>3</th>\n",
       "      <td>(distribution, world)</td>\n",
       "      <td>371</td>\n",
       "    </tr>\n",
       "    <tr>\n",
       "      <th>4</th>\n",
       "      <td>(lines, distribution)</td>\n",
       "      <td>316</td>\n",
       "    </tr>\n",
       "    <tr>\n",
       "      <th>5</th>\n",
       "      <td>(kent, sandvik)</td>\n",
       "      <td>211</td>\n",
       "    </tr>\n",
       "    <tr>\n",
       "      <th>6</th>\n",
       "      <td>(computer, science)</td>\n",
       "      <td>188</td>\n",
       "    </tr>\n",
       "    <tr>\n",
       "      <th>7</th>\n",
       "      <td>(usa, lines)</td>\n",
       "      <td>182</td>\n",
       "    </tr>\n",
       "    <tr>\n",
       "      <th>8</th>\n",
       "      <td>(henry, spencer)</td>\n",
       "      <td>180</td>\n",
       "    </tr>\n",
       "    <tr>\n",
       "      <th>9</th>\n",
       "      <td>(university, lines)</td>\n",
       "      <td>172</td>\n",
       "    </tr>\n",
       "    <tr>\n",
       "      <th>10</th>\n",
       "      <td>(tin, version)</td>\n",
       "      <td>164</td>\n",
       "    </tr>\n",
       "    <tr>\n",
       "      <th>11</th>\n",
       "      <td>(jon, livesey)</td>\n",
       "      <td>159</td>\n",
       "    </tr>\n",
       "    <tr>\n",
       "      <th>12</th>\n",
       "      <td>(livesey, jon)</td>\n",
       "      <td>150</td>\n",
       "    </tr>\n",
       "    <tr>\n",
       "      <th>13</th>\n",
       "      <td>(prb, pat)</td>\n",
       "      <td>146</td>\n",
       "    </tr>\n",
       "    <tr>\n",
       "      <th>14</th>\n",
       "      <td>(computer, graphics)</td>\n",
       "      <td>141</td>\n",
       "    </tr>\n",
       "    <tr>\n",
       "      <th>15</th>\n",
       "      <td>(apr, gmt)</td>\n",
       "      <td>135</td>\n",
       "    </tr>\n",
       "    <tr>\n",
       "      <th>16</th>\n",
       "      <td>(state, university)</td>\n",
       "      <td>133</td>\n",
       "    </tr>\n",
       "    <tr>\n",
       "      <th>17</th>\n",
       "      <td>(space, station)</td>\n",
       "      <td>132</td>\n",
       "    </tr>\n",
       "    <tr>\n",
       "      <th>18</th>\n",
       "      <td>(anonymous, ftp)</td>\n",
       "      <td>128</td>\n",
       "    </tr>\n",
       "    <tr>\n",
       "      <th>19</th>\n",
       "      <td>(institute, technology)</td>\n",
       "      <td>125</td>\n",
       "    </tr>\n",
       "  </tbody>\n",
       "</table>\n",
       "</div>"
      ],
      "text/plain": [
       "                        bigram  frequency\n",
       "0             (lines, article)       1088\n",
       "1   (organization, university)        495\n",
       "2            (writes, article)        490\n",
       "3        (distribution, world)        371\n",
       "4        (lines, distribution)        316\n",
       "5              (kent, sandvik)        211\n",
       "6          (computer, science)        188\n",
       "7                 (usa, lines)        182\n",
       "8             (henry, spencer)        180\n",
       "9          (university, lines)        172\n",
       "10              (tin, version)        164\n",
       "11              (jon, livesey)        159\n",
       "12              (livesey, jon)        150\n",
       "13                  (prb, pat)        146\n",
       "14        (computer, graphics)        141\n",
       "15                  (apr, gmt)        135\n",
       "16         (state, university)        133\n",
       "17            (space, station)        132\n",
       "18            (anonymous, ftp)        128\n",
       "19     (institute, technology)        125"
      ]
     },
     "execution_count": 32,
     "metadata": {},
     "output_type": "execute_result"
    }
   ],
   "source": [
    "# frequency bigrams with top 20 results with filter\n",
    "def applyPOSFilter(bigram):\n",
    "    primary_pos_tags = ('JJR', 'JJS', 'JJ', 'NNP', 'NNS', 'NN', 'NNPS')\n",
    "    secondary_pos_tags = ('NNPS', 'NN', 'NNP', 'NNS')\n",
    "    pos_tags = nltk.pos_tag(bigram)\n",
    "    if ((pos_tags[0][1] in primary_pos_tags) and (pos_tags[1][1] in secondary_pos_tags)):\n",
    "        return True\n",
    "    return False\n",
    "    \n",
    "#filter bigrams using POS tagging\n",
    "frequency_bigram_filter = bigramFrequency[bigramFrequency.bigram.map(lambda x: applyPOSFilter(x))]\n",
    "frequency_bigram_filter=frequency_bigram_filter.head(20).reset_index().drop(columns=['index'])\n",
    "frequency_bigram_filter"
   ]
  },
  {
   "cell_type": "markdown",
   "metadata": {},
   "source": [
    "## 2. Bigrams using PMI "
   ]
  },
  {
   "cell_type": "code",
   "execution_count": 11,
   "metadata": {},
   "outputs": [
    {
     "data": {
      "text/plain": [
       "[('aam', 'khas'),\n",
       " ('aangeboden', 'binnen'),\n",
       " ('aantal', 'voordrachten'),\n",
       " ('aatdb', 'arabidopsis'),\n",
       " ('abounded', 'intensified'),\n",
       " ('abuser', 'immenant'),\n",
       " ('abusers', 'beltway'),\n",
       " ('accelerating', 'cavities'),\n",
       " ('acedb', 'caenorhabditis'),\n",
       " ('aceitunas', 'alforja'),\n",
       " ('actuator', 'dda'),\n",
       " ('adabas', 'sybase'),\n",
       " ('adders', 'multipliers'),\n",
       " ('addison', 'wesley'),\n",
       " ('admiral', 'hyman'),\n",
       " ('aert', 'jansz'),\n",
       " ('afarensis', 'mya'),\n",
       " ('afd', 'aoct'),\n",
       " ('afgestemd', 'tweedejaars'),\n",
       " ('aforesaid', 'prefixes')]"
      ]
     },
     "execution_count": 11,
     "metadata": {},
     "output_type": "execute_result"
    }
   ],
   "source": [
    "# Collocation using PMI score\n",
    "bigramFinder.nbest(bigrams.pmi,20)"
   ]
  },
  {
   "cell_type": "code",
   "execution_count": 12,
   "metadata": {},
   "outputs": [
    {
     "data": {
      "text/html": [
       "<div>\n",
       "<style scoped>\n",
       "    .dataframe tbody tr th:only-of-type {\n",
       "        vertical-align: middle;\n",
       "    }\n",
       "\n",
       "    .dataframe tbody tr th {\n",
       "        vertical-align: top;\n",
       "    }\n",
       "\n",
       "    .dataframe thead th {\n",
       "        text-align: right;\n",
       "    }\n",
       "</style>\n",
       "<table border=\"1\" class=\"dataframe\">\n",
       "  <thead>\n",
       "    <tr style=\"text-align: right;\">\n",
       "      <th></th>\n",
       "      <th>bigram</th>\n",
       "      <th>PMI</th>\n",
       "    </tr>\n",
       "  </thead>\n",
       "  <tbody>\n",
       "    <tr>\n",
       "      <th>0</th>\n",
       "      <td>(aam, khas)</td>\n",
       "      <td>19.04229</td>\n",
       "    </tr>\n",
       "    <tr>\n",
       "      <th>1</th>\n",
       "      <td>(pcboard, usr)</td>\n",
       "      <td>19.04229</td>\n",
       "    </tr>\n",
       "    <tr>\n",
       "      <th>2</th>\n",
       "      <td>(periterr, pericynthion)</td>\n",
       "      <td>19.04229</td>\n",
       "    </tr>\n",
       "    <tr>\n",
       "      <th>3</th>\n",
       "      <td>(perfecetly, reasoable)</td>\n",
       "      <td>19.04229</td>\n",
       "    </tr>\n",
       "    <tr>\n",
       "      <th>4</th>\n",
       "      <td>(pentacost, hymn)</td>\n",
       "      <td>19.04229</td>\n",
       "    </tr>\n",
       "    <tr>\n",
       "      <th>5</th>\n",
       "      <td>(pelletized, ceramic)</td>\n",
       "      <td>19.04229</td>\n",
       "    </tr>\n",
       "    <tr>\n",
       "      <th>6</th>\n",
       "      <td>(pedro, almodovar)</td>\n",
       "      <td>19.04229</td>\n",
       "    </tr>\n",
       "    <tr>\n",
       "      <th>7</th>\n",
       "      <td>(peacefully, enjoin)</td>\n",
       "      <td>19.04229</td>\n",
       "    </tr>\n",
       "    <tr>\n",
       "      <th>8</th>\n",
       "      <td>(patrimony, zorastrian)</td>\n",
       "      <td>19.04229</td>\n",
       "    </tr>\n",
       "    <tr>\n",
       "      <th>9</th>\n",
       "      <td>(plurbis, unum)</td>\n",
       "      <td>19.04229</td>\n",
       "    </tr>\n",
       "    <tr>\n",
       "      <th>10</th>\n",
       "      <td>(passel, sterile)</td>\n",
       "      <td>19.04229</td>\n",
       "    </tr>\n",
       "    <tr>\n",
       "      <th>11</th>\n",
       "      <td>(particularities, aam)</td>\n",
       "      <td>19.04229</td>\n",
       "    </tr>\n",
       "    <tr>\n",
       "      <th>12</th>\n",
       "      <td>(partake, joyously)</td>\n",
       "      <td>19.04229</td>\n",
       "    </tr>\n",
       "    <tr>\n",
       "      <th>13</th>\n",
       "      <td>(paronoid, moromn)</td>\n",
       "      <td>19.04229</td>\n",
       "    </tr>\n",
       "    <tr>\n",
       "      <th>14</th>\n",
       "      <td>(parabola, queasiness)</td>\n",
       "      <td>19.04229</td>\n",
       "    </tr>\n",
       "    <tr>\n",
       "      <th>15</th>\n",
       "      <td>(overige, sprekers)</td>\n",
       "      <td>19.04229</td>\n",
       "    </tr>\n",
       "    <tr>\n",
       "      <th>16</th>\n",
       "      <td>(permannet, ftsc)</td>\n",
       "      <td>19.04229</td>\n",
       "    </tr>\n",
       "    <tr>\n",
       "      <th>17</th>\n",
       "      <td>(perplexed, thereabout)</td>\n",
       "      <td>19.04229</td>\n",
       "    </tr>\n",
       "    <tr>\n",
       "      <th>18</th>\n",
       "      <td>(persecutions, abounded)</td>\n",
       "      <td>19.04229</td>\n",
       "    </tr>\n",
       "    <tr>\n",
       "      <th>19</th>\n",
       "      <td>(pert, gant)</td>\n",
       "      <td>19.04229</td>\n",
       "    </tr>\n",
       "  </tbody>\n",
       "</table>\n",
       "</div>"
      ],
      "text/plain": [
       "                      bigram       PMI\n",
       "0                (aam, khas)  19.04229\n",
       "1             (pcboard, usr)  19.04229\n",
       "2   (periterr, pericynthion)  19.04229\n",
       "3    (perfecetly, reasoable)  19.04229\n",
       "4          (pentacost, hymn)  19.04229\n",
       "5      (pelletized, ceramic)  19.04229\n",
       "6         (pedro, almodovar)  19.04229\n",
       "7       (peacefully, enjoin)  19.04229\n",
       "8    (patrimony, zorastrian)  19.04229\n",
       "9            (plurbis, unum)  19.04229\n",
       "10         (passel, sterile)  19.04229\n",
       "11    (particularities, aam)  19.04229\n",
       "12       (partake, joyously)  19.04229\n",
       "13        (paronoid, moromn)  19.04229\n",
       "14    (parabola, queasiness)  19.04229\n",
       "15       (overige, sprekers)  19.04229\n",
       "16         (permannet, ftsc)  19.04229\n",
       "17   (perplexed, thereabout)  19.04229\n",
       "18  (persecutions, abounded)  19.04229\n",
       "19              (pert, gant)  19.04229"
      ]
     },
     "execution_count": 12,
     "metadata": {},
     "output_type": "execute_result"
    }
   ],
   "source": [
    "# Collocation using PMI score\n",
    "bigramPMITable = pd.DataFrame(list(bigramFinder.score_ngrams(bigrams.pmi)), columns=['bigram','PMI']).sort_values(by='PMI', ascending=False)\n",
    "bigramPMITable=bigramPMITable.head(20).reset_index().drop(columns=['index'])\n",
    "bigramPMITable"
   ]
  },
  {
   "cell_type": "markdown",
   "metadata": {},
   "source": [
    "## 3. Bigrams using T-test"
   ]
  },
  {
   "cell_type": "code",
   "execution_count": 13,
   "metadata": {},
   "outputs": [
    {
     "data": {
      "text/plain": [
       "[('lines', 'article'),\n",
       " ('organization', 'university'),\n",
       " ('writes', 'article'),\n",
       " ('distribution', 'world'),\n",
       " ('lines', 'distribution'),\n",
       " ('kent', 'sandvik'),\n",
       " ('computer', 'science'),\n",
       " ('henry', 'spencer'),\n",
       " ('usa', 'lines'),\n",
       " ('tin', 'version'),\n",
       " ('jon', 'livesey'),\n",
       " ('would', 'like'),\n",
       " ('does', 'anyone'),\n",
       " ('university', 'lines'),\n",
       " ('livesey', 'jon'),\n",
       " ('for', 'example'),\n",
       " ('prb', 'pat'),\n",
       " ('computer', 'graphics'),\n",
       " ('apr', 'gmt'),\n",
       " ('state', 'university')]"
      ]
     },
     "execution_count": 13,
     "metadata": {},
     "output_type": "execute_result"
    }
   ],
   "source": [
    "bigramFinder.nbest(bigrams.student_t,20)"
   ]
  },
  {
   "cell_type": "code",
   "execution_count": 14,
   "metadata": {},
   "outputs": [
    {
     "data": {
      "text/html": [
       "<div>\n",
       "<style scoped>\n",
       "    .dataframe tbody tr th:only-of-type {\n",
       "        vertical-align: middle;\n",
       "    }\n",
       "\n",
       "    .dataframe tbody tr th {\n",
       "        vertical-align: top;\n",
       "    }\n",
       "\n",
       "    .dataframe thead th {\n",
       "        text-align: right;\n",
       "    }\n",
       "</style>\n",
       "<table border=\"1\" class=\"dataframe\">\n",
       "  <thead>\n",
       "    <tr style=\"text-align: right;\">\n",
       "      <th></th>\n",
       "      <th>bigram</th>\n",
       "      <th>T-score</th>\n",
       "    </tr>\n",
       "  </thead>\n",
       "  <tbody>\n",
       "    <tr>\n",
       "      <th>0</th>\n",
       "      <td>(lines, article)</td>\n",
       "      <td>32.531515</td>\n",
       "    </tr>\n",
       "    <tr>\n",
       "      <th>1</th>\n",
       "      <td>(organization, university)</td>\n",
       "      <td>21.792828</td>\n",
       "    </tr>\n",
       "    <tr>\n",
       "      <th>2</th>\n",
       "      <td>(writes, article)</td>\n",
       "      <td>21.621953</td>\n",
       "    </tr>\n",
       "    <tr>\n",
       "      <th>3</th>\n",
       "      <td>(distribution, world)</td>\n",
       "      <td>19.191999</td>\n",
       "    </tr>\n",
       "    <tr>\n",
       "      <th>4</th>\n",
       "      <td>(lines, distribution)</td>\n",
       "      <td>17.501842</td>\n",
       "    </tr>\n",
       "    <tr>\n",
       "      <th>5</th>\n",
       "      <td>(kent, sandvik)</td>\n",
       "      <td>14.514741</td>\n",
       "    </tr>\n",
       "    <tr>\n",
       "      <th>6</th>\n",
       "      <td>(computer, science)</td>\n",
       "      <td>13.641671</td>\n",
       "    </tr>\n",
       "    <tr>\n",
       "      <th>7</th>\n",
       "      <td>(henry, spencer)</td>\n",
       "      <td>13.404664</td>\n",
       "    </tr>\n",
       "    <tr>\n",
       "      <th>8</th>\n",
       "      <td>(usa, lines)</td>\n",
       "      <td>13.314280</td>\n",
       "    </tr>\n",
       "    <tr>\n",
       "      <th>9</th>\n",
       "      <td>(tin, version)</td>\n",
       "      <td>12.786509</td>\n",
       "    </tr>\n",
       "    <tr>\n",
       "      <th>10</th>\n",
       "      <td>(jon, livesey)</td>\n",
       "      <td>12.596347</td>\n",
       "    </tr>\n",
       "    <tr>\n",
       "      <th>11</th>\n",
       "      <td>(would, like)</td>\n",
       "      <td>12.587358</td>\n",
       "    </tr>\n",
       "    <tr>\n",
       "      <th>12</th>\n",
       "      <td>(does, anyone)</td>\n",
       "      <td>12.454849</td>\n",
       "    </tr>\n",
       "    <tr>\n",
       "      <th>13</th>\n",
       "      <td>(university, lines)</td>\n",
       "      <td>12.299323</td>\n",
       "    </tr>\n",
       "    <tr>\n",
       "      <th>14</th>\n",
       "      <td>(livesey, jon)</td>\n",
       "      <td>12.233887</td>\n",
       "    </tr>\n",
       "    <tr>\n",
       "      <th>15</th>\n",
       "      <td>(for, example)</td>\n",
       "      <td>12.228209</td>\n",
       "    </tr>\n",
       "    <tr>\n",
       "      <th>16</th>\n",
       "      <td>(prb, pat)</td>\n",
       "      <td>12.076009</td>\n",
       "    </tr>\n",
       "    <tr>\n",
       "      <th>17</th>\n",
       "      <td>(computer, graphics)</td>\n",
       "      <td>11.786374</td>\n",
       "    </tr>\n",
       "    <tr>\n",
       "      <th>18</th>\n",
       "      <td>(apr, gmt)</td>\n",
       "      <td>11.610912</td>\n",
       "    </tr>\n",
       "    <tr>\n",
       "      <th>19</th>\n",
       "      <td>(state, university)</td>\n",
       "      <td>11.440077</td>\n",
       "    </tr>\n",
       "  </tbody>\n",
       "</table>\n",
       "</div>"
      ],
      "text/plain": [
       "                        bigram    T-score\n",
       "0             (lines, article)  32.531515\n",
       "1   (organization, university)  21.792828\n",
       "2            (writes, article)  21.621953\n",
       "3        (distribution, world)  19.191999\n",
       "4        (lines, distribution)  17.501842\n",
       "5              (kent, sandvik)  14.514741\n",
       "6          (computer, science)  13.641671\n",
       "7             (henry, spencer)  13.404664\n",
       "8                 (usa, lines)  13.314280\n",
       "9               (tin, version)  12.786509\n",
       "10              (jon, livesey)  12.596347\n",
       "11               (would, like)  12.587358\n",
       "12              (does, anyone)  12.454849\n",
       "13         (university, lines)  12.299323\n",
       "14              (livesey, jon)  12.233887\n",
       "15              (for, example)  12.228209\n",
       "16                  (prb, pat)  12.076009\n",
       "17        (computer, graphics)  11.786374\n",
       "18                  (apr, gmt)  11.610912\n",
       "19         (state, university)  11.440077"
      ]
     },
     "execution_count": 14,
     "metadata": {},
     "output_type": "execute_result"
    }
   ],
   "source": [
    "#  bigrams with T-test (top 20 values)\n",
    "bigramTTesttable = pd.DataFrame(list(bigramFinder.score_ngrams(bigrams.student_t)), columns=['bigram','T-score']).sort_values(by='T-score', ascending=False)\n",
    "bigramTTesttable.head(20)"
   ]
  },
  {
   "cell_type": "markdown",
   "metadata": {},
   "source": [
    "### Applying POS filter in T-test"
   ]
  },
  {
   "cell_type": "code",
   "execution_count": 15,
   "metadata": {},
   "outputs": [
    {
     "data": {
      "text/html": [
       "<div>\n",
       "<style scoped>\n",
       "    .dataframe tbody tr th:only-of-type {\n",
       "        vertical-align: middle;\n",
       "    }\n",
       "\n",
       "    .dataframe tbody tr th {\n",
       "        vertical-align: top;\n",
       "    }\n",
       "\n",
       "    .dataframe thead th {\n",
       "        text-align: right;\n",
       "    }\n",
       "</style>\n",
       "<table border=\"1\" class=\"dataframe\">\n",
       "  <thead>\n",
       "    <tr style=\"text-align: right;\">\n",
       "      <th></th>\n",
       "      <th>bigram</th>\n",
       "      <th>T-score</th>\n",
       "    </tr>\n",
       "  </thead>\n",
       "  <tbody>\n",
       "    <tr>\n",
       "      <th>0</th>\n",
       "      <td>(lines, article)</td>\n",
       "      <td>32.531515</td>\n",
       "    </tr>\n",
       "    <tr>\n",
       "      <th>1</th>\n",
       "      <td>(organization, university)</td>\n",
       "      <td>21.792828</td>\n",
       "    </tr>\n",
       "    <tr>\n",
       "      <th>2</th>\n",
       "      <td>(writes, article)</td>\n",
       "      <td>21.621953</td>\n",
       "    </tr>\n",
       "    <tr>\n",
       "      <th>3</th>\n",
       "      <td>(distribution, world)</td>\n",
       "      <td>19.191999</td>\n",
       "    </tr>\n",
       "    <tr>\n",
       "      <th>4</th>\n",
       "      <td>(lines, distribution)</td>\n",
       "      <td>17.501842</td>\n",
       "    </tr>\n",
       "    <tr>\n",
       "      <th>5</th>\n",
       "      <td>(kent, sandvik)</td>\n",
       "      <td>14.514741</td>\n",
       "    </tr>\n",
       "    <tr>\n",
       "      <th>6</th>\n",
       "      <td>(computer, science)</td>\n",
       "      <td>13.641671</td>\n",
       "    </tr>\n",
       "    <tr>\n",
       "      <th>7</th>\n",
       "      <td>(henry, spencer)</td>\n",
       "      <td>13.404664</td>\n",
       "    </tr>\n",
       "    <tr>\n",
       "      <th>8</th>\n",
       "      <td>(usa, lines)</td>\n",
       "      <td>13.314280</td>\n",
       "    </tr>\n",
       "    <tr>\n",
       "      <th>9</th>\n",
       "      <td>(tin, version)</td>\n",
       "      <td>12.786509</td>\n",
       "    </tr>\n",
       "    <tr>\n",
       "      <th>10</th>\n",
       "      <td>(jon, livesey)</td>\n",
       "      <td>12.596347</td>\n",
       "    </tr>\n",
       "    <tr>\n",
       "      <th>11</th>\n",
       "      <td>(university, lines)</td>\n",
       "      <td>12.299323</td>\n",
       "    </tr>\n",
       "    <tr>\n",
       "      <th>12</th>\n",
       "      <td>(livesey, jon)</td>\n",
       "      <td>12.233887</td>\n",
       "    </tr>\n",
       "    <tr>\n",
       "      <th>13</th>\n",
       "      <td>(prb, pat)</td>\n",
       "      <td>12.076009</td>\n",
       "    </tr>\n",
       "    <tr>\n",
       "      <th>14</th>\n",
       "      <td>(computer, graphics)</td>\n",
       "      <td>11.786374</td>\n",
       "    </tr>\n",
       "    <tr>\n",
       "      <th>15</th>\n",
       "      <td>(apr, gmt)</td>\n",
       "      <td>11.610912</td>\n",
       "    </tr>\n",
       "    <tr>\n",
       "      <th>16</th>\n",
       "      <td>(state, university)</td>\n",
       "      <td>11.440077</td>\n",
       "    </tr>\n",
       "    <tr>\n",
       "      <th>17</th>\n",
       "      <td>(space, station)</td>\n",
       "      <td>11.411700</td>\n",
       "    </tr>\n",
       "    <tr>\n",
       "      <th>18</th>\n",
       "      <td>(anonymous, ftp)</td>\n",
       "      <td>11.302758</td>\n",
       "    </tr>\n",
       "    <tr>\n",
       "      <th>19</th>\n",
       "      <td>(institute, technology)</td>\n",
       "      <td>11.162339</td>\n",
       "    </tr>\n",
       "  </tbody>\n",
       "</table>\n",
       "</div>"
      ],
      "text/plain": [
       "                        bigram    T-score\n",
       "0             (lines, article)  32.531515\n",
       "1   (organization, university)  21.792828\n",
       "2            (writes, article)  21.621953\n",
       "3        (distribution, world)  19.191999\n",
       "4        (lines, distribution)  17.501842\n",
       "5              (kent, sandvik)  14.514741\n",
       "6          (computer, science)  13.641671\n",
       "7             (henry, spencer)  13.404664\n",
       "8                 (usa, lines)  13.314280\n",
       "9               (tin, version)  12.786509\n",
       "10              (jon, livesey)  12.596347\n",
       "11         (university, lines)  12.299323\n",
       "12              (livesey, jon)  12.233887\n",
       "13                  (prb, pat)  12.076009\n",
       "14        (computer, graphics)  11.786374\n",
       "15                  (apr, gmt)  11.610912\n",
       "16         (state, university)  11.440077\n",
       "17            (space, station)  11.411700\n",
       "18            (anonymous, ftp)  11.302758\n",
       "19     (institute, technology)  11.162339"
      ]
     },
     "execution_count": 15,
     "metadata": {},
     "output_type": "execute_result"
    }
   ],
   "source": [
    "# applying pos filter in T-test\n",
    "filtered_TTest_bigrams = bigramTTesttable[bigramTTesttable.bigram.map(lambda x: applyPOSFilter(x))]\n",
    "filtered_TTest_bigrams=filtered_TTest_bigrams.head(20).reset_index().drop(columns=['index'])\n",
    "filtered_TTest_bigrams"
   ]
  },
  {
   "cell_type": "markdown",
   "metadata": {},
   "source": [
    "## 4. Bigrams using Chi-Square"
   ]
  },
  {
   "cell_type": "code",
   "execution_count": 16,
   "metadata": {},
   "outputs": [
    {
     "data": {
      "text/plain": [
       "[('aaaa', 'bbbb'),\n",
       " ('aam', 'khas'),\n",
       " ('aangeboden', 'binnen'),\n",
       " ('aantal', 'voordrachten'),\n",
       " ('aatdb', 'arabidopsis'),\n",
       " ('aawin', 'aaplay'),\n",
       " ('abg', 'fubbg'),\n",
       " ('abounded', 'intensified'),\n",
       " ('abpsoft', 'mehl'),\n",
       " ('abuser', 'immenant'),\n",
       " ('abusers', 'beltway'),\n",
       " ('accelerating', 'cavities'),\n",
       " ('acedb', 'caenorhabditis'),\n",
       " ('aceitunas', 'alforja'),\n",
       " ('actuator', 'dda'),\n",
       " ('adabas', 'sybase'),\n",
       " ('adage', 'ikonas'),\n",
       " ('adders', 'multipliers'),\n",
       " ('addison', 'wesley'),\n",
       " ('admiral', 'hyman')]"
      ]
     },
     "execution_count": 16,
     "metadata": {},
     "output_type": "execute_result"
    }
   ],
   "source": [
    "bigramFinder.nbest(bigrams.chi_sq,20)"
   ]
  },
  {
   "cell_type": "code",
   "execution_count": 17,
   "metadata": {},
   "outputs": [
    {
     "data": {
      "text/html": [
       "<div>\n",
       "<style scoped>\n",
       "    .dataframe tbody tr th:only-of-type {\n",
       "        vertical-align: middle;\n",
       "    }\n",
       "\n",
       "    .dataframe tbody tr th {\n",
       "        vertical-align: top;\n",
       "    }\n",
       "\n",
       "    .dataframe thead th {\n",
       "        text-align: right;\n",
       "    }\n",
       "</style>\n",
       "<table border=\"1\" class=\"dataframe\">\n",
       "  <thead>\n",
       "    <tr style=\"text-align: right;\">\n",
       "      <th></th>\n",
       "      <th>bigram</th>\n",
       "      <th>chi-square</th>\n",
       "    </tr>\n",
       "  </thead>\n",
       "  <tbody>\n",
       "    <tr>\n",
       "      <th>0</th>\n",
       "      <td>(aaaa, bbbb)</td>\n",
       "      <td>539884.0</td>\n",
       "    </tr>\n",
       "    <tr>\n",
       "      <th>1</th>\n",
       "      <td>(pacman, visicalc)</td>\n",
       "      <td>539884.0</td>\n",
       "    </tr>\n",
       "    <tr>\n",
       "      <th>2</th>\n",
       "      <td>(patrimony, zorastrian)</td>\n",
       "      <td>539884.0</td>\n",
       "    </tr>\n",
       "    <tr>\n",
       "      <th>3</th>\n",
       "      <td>(passel, sterile)</td>\n",
       "      <td>539884.0</td>\n",
       "    </tr>\n",
       "    <tr>\n",
       "      <th>4</th>\n",
       "      <td>(particularities, aam)</td>\n",
       "      <td>539884.0</td>\n",
       "    </tr>\n",
       "    <tr>\n",
       "      <th>5</th>\n",
       "      <td>(partake, joyously)</td>\n",
       "      <td>539884.0</td>\n",
       "    </tr>\n",
       "    <tr>\n",
       "      <th>6</th>\n",
       "      <td>(paronoid, moromn)</td>\n",
       "      <td>539884.0</td>\n",
       "    </tr>\n",
       "    <tr>\n",
       "      <th>7</th>\n",
       "      <td>(parke, fascia)</td>\n",
       "      <td>539884.0</td>\n",
       "    </tr>\n",
       "    <tr>\n",
       "      <th>8</th>\n",
       "      <td>(parabola, queasiness)</td>\n",
       "      <td>539884.0</td>\n",
       "    </tr>\n",
       "    <tr>\n",
       "      <th>9</th>\n",
       "      <td>(pankaj, oberoi)</td>\n",
       "      <td>539884.0</td>\n",
       "    </tr>\n",
       "    <tr>\n",
       "      <th>10</th>\n",
       "      <td>(padmini, srivathsa)</td>\n",
       "      <td>539884.0</td>\n",
       "    </tr>\n",
       "    <tr>\n",
       "      <th>11</th>\n",
       "      <td>(overige, sprekers)</td>\n",
       "      <td>539884.0</td>\n",
       "    </tr>\n",
       "    <tr>\n",
       "      <th>12</th>\n",
       "      <td>(pcboard, usr)</td>\n",
       "      <td>539884.0</td>\n",
       "    </tr>\n",
       "    <tr>\n",
       "      <th>13</th>\n",
       "      <td>(overbearing, totalitarianists)</td>\n",
       "      <td>539884.0</td>\n",
       "    </tr>\n",
       "    <tr>\n",
       "      <th>14</th>\n",
       "      <td>(outskirts, bumping)</td>\n",
       "      <td>539884.0</td>\n",
       "    </tr>\n",
       "    <tr>\n",
       "      <th>15</th>\n",
       "      <td>(outcasts, mainline)</td>\n",
       "      <td>539884.0</td>\n",
       "    </tr>\n",
       "    <tr>\n",
       "      <th>16</th>\n",
       "      <td>(othe, optimisations)</td>\n",
       "      <td>539884.0</td>\n",
       "    </tr>\n",
       "    <tr>\n",
       "      <th>17</th>\n",
       "      <td>(otc, plt)</td>\n",
       "      <td>539884.0</td>\n",
       "    </tr>\n",
       "    <tr>\n",
       "      <th>18</th>\n",
       "      <td>(ostanes, hystaspes)</td>\n",
       "      <td>539884.0</td>\n",
       "    </tr>\n",
       "    <tr>\n",
       "      <th>19</th>\n",
       "      <td>(osman, basbugoglu)</td>\n",
       "      <td>539884.0</td>\n",
       "    </tr>\n",
       "  </tbody>\n",
       "</table>\n",
       "</div>"
      ],
      "text/plain": [
       "                             bigram  chi-square\n",
       "0                      (aaaa, bbbb)    539884.0\n",
       "1                (pacman, visicalc)    539884.0\n",
       "2           (patrimony, zorastrian)    539884.0\n",
       "3                 (passel, sterile)    539884.0\n",
       "4            (particularities, aam)    539884.0\n",
       "5               (partake, joyously)    539884.0\n",
       "6                (paronoid, moromn)    539884.0\n",
       "7                   (parke, fascia)    539884.0\n",
       "8            (parabola, queasiness)    539884.0\n",
       "9                  (pankaj, oberoi)    539884.0\n",
       "10             (padmini, srivathsa)    539884.0\n",
       "11              (overige, sprekers)    539884.0\n",
       "12                   (pcboard, usr)    539884.0\n",
       "13  (overbearing, totalitarianists)    539884.0\n",
       "14             (outskirts, bumping)    539884.0\n",
       "15             (outcasts, mainline)    539884.0\n",
       "16            (othe, optimisations)    539884.0\n",
       "17                       (otc, plt)    539884.0\n",
       "18             (ostanes, hystaspes)    539884.0\n",
       "19              (osman, basbugoglu)    539884.0"
      ]
     },
     "execution_count": 17,
     "metadata": {},
     "output_type": "execute_result"
    }
   ],
   "source": [
    "# bigrams with chi-square \n",
    "bigramChiTable = pd.DataFrame(list(bigramFinder.score_ngrams(bigrams.chi_sq)), columns=['bigram','chi-square']).sort_values(by='chi-square', ascending=False)\n",
    "bigramChiTable=bigramChiTable.head(20).reset_index().drop(columns=['index'])\n",
    "bigramChiTable"
   ]
  },
  {
   "cell_type": "markdown",
   "metadata": {},
   "source": [
    "## Q1-c Overlap among the techniques\n",
    "\n",
    "As shown in the table below, \"Frequency with Filter\" and \"T-test with Filter\" techniques have almost same results. The most 2 adjacent words are \"lines\" and \"article\" according to this result. Apart from this, results of \"PMI\" and \"Chi-Square Test\" are also similar. However, results of \"Frequency with Filter\" and \"T-test with Filter\" are not at all matching with the results of \"PMI\" and \"Chi-Square Test\" techniques.\n",
    "\n",
    "\n",
    "#### Combining the results\n",
    "\n",
    "It makes sense to combine results obtained from multiple techniques. For example, \"Frequency with Filter\" and \"T-test with Filter\" have almost similar results, so if we combine both the results, we can get more insights on the result, as the bigrams which are produced by both the models will have less chance of error. Also, if we combine both the results of PMI and Frequency with filter and we can take advantage of both probability lift and frequency of occurrence.\n",
    "\n",
    "Reference: https://medium.com/@nicharuch/collocations-identifying-phrases-that-act-like-individual-words-in-nlp-f58a93a2f84a\n",
    "\n",
    "\n",
    "### Comparing all the bigram techniques top 20 results"
   ]
  },
  {
   "cell_type": "code",
   "execution_count": 18,
   "metadata": {},
   "outputs": [
    {
     "data": {
      "text/html": [
       "<div>\n",
       "<style scoped>\n",
       "    .dataframe tbody tr th:only-of-type {\n",
       "        vertical-align: middle;\n",
       "    }\n",
       "\n",
       "    .dataframe tbody tr th {\n",
       "        vertical-align: top;\n",
       "    }\n",
       "\n",
       "    .dataframe thead th {\n",
       "        text-align: right;\n",
       "    }\n",
       "</style>\n",
       "<table border=\"1\" class=\"dataframe\">\n",
       "  <thead>\n",
       "    <tr style=\"text-align: right;\">\n",
       "      <th></th>\n",
       "      <th>Frequency with Filter</th>\n",
       "      <th>PMI</th>\n",
       "      <th>T-test with Filter</th>\n",
       "      <th>Chi-Square Test</th>\n",
       "    </tr>\n",
       "  </thead>\n",
       "  <tbody>\n",
       "    <tr>\n",
       "      <th>0</th>\n",
       "      <td>(lines, article)</td>\n",
       "      <td>(aam, khas)</td>\n",
       "      <td>(lines, article)</td>\n",
       "      <td>(aaaa, bbbb)</td>\n",
       "    </tr>\n",
       "    <tr>\n",
       "      <th>1</th>\n",
       "      <td>(organization, university)</td>\n",
       "      <td>(pcboard, usr)</td>\n",
       "      <td>(organization, university)</td>\n",
       "      <td>(pacman, visicalc)</td>\n",
       "    </tr>\n",
       "    <tr>\n",
       "      <th>2</th>\n",
       "      <td>(writes, article)</td>\n",
       "      <td>(periterr, pericynthion)</td>\n",
       "      <td>(writes, article)</td>\n",
       "      <td>(patrimony, zorastrian)</td>\n",
       "    </tr>\n",
       "    <tr>\n",
       "      <th>3</th>\n",
       "      <td>(distribution, world)</td>\n",
       "      <td>(perfecetly, reasoable)</td>\n",
       "      <td>(distribution, world)</td>\n",
       "      <td>(passel, sterile)</td>\n",
       "    </tr>\n",
       "    <tr>\n",
       "      <th>4</th>\n",
       "      <td>(lines, distribution)</td>\n",
       "      <td>(pentacost, hymn)</td>\n",
       "      <td>(lines, distribution)</td>\n",
       "      <td>(particularities, aam)</td>\n",
       "    </tr>\n",
       "    <tr>\n",
       "      <th>5</th>\n",
       "      <td>(kent, sandvik)</td>\n",
       "      <td>(pelletized, ceramic)</td>\n",
       "      <td>(kent, sandvik)</td>\n",
       "      <td>(partake, joyously)</td>\n",
       "    </tr>\n",
       "    <tr>\n",
       "      <th>6</th>\n",
       "      <td>(computer, science)</td>\n",
       "      <td>(pedro, almodovar)</td>\n",
       "      <td>(computer, science)</td>\n",
       "      <td>(paronoid, moromn)</td>\n",
       "    </tr>\n",
       "    <tr>\n",
       "      <th>7</th>\n",
       "      <td>(usa, lines)</td>\n",
       "      <td>(peacefully, enjoin)</td>\n",
       "      <td>(henry, spencer)</td>\n",
       "      <td>(parke, fascia)</td>\n",
       "    </tr>\n",
       "    <tr>\n",
       "      <th>8</th>\n",
       "      <td>(henry, spencer)</td>\n",
       "      <td>(patrimony, zorastrian)</td>\n",
       "      <td>(usa, lines)</td>\n",
       "      <td>(parabola, queasiness)</td>\n",
       "    </tr>\n",
       "    <tr>\n",
       "      <th>9</th>\n",
       "      <td>(university, lines)</td>\n",
       "      <td>(plurbis, unum)</td>\n",
       "      <td>(tin, version)</td>\n",
       "      <td>(pankaj, oberoi)</td>\n",
       "    </tr>\n",
       "    <tr>\n",
       "      <th>10</th>\n",
       "      <td>(tin, version)</td>\n",
       "      <td>(passel, sterile)</td>\n",
       "      <td>(jon, livesey)</td>\n",
       "      <td>(padmini, srivathsa)</td>\n",
       "    </tr>\n",
       "    <tr>\n",
       "      <th>11</th>\n",
       "      <td>(jon, livesey)</td>\n",
       "      <td>(particularities, aam)</td>\n",
       "      <td>(university, lines)</td>\n",
       "      <td>(overige, sprekers)</td>\n",
       "    </tr>\n",
       "    <tr>\n",
       "      <th>12</th>\n",
       "      <td>(livesey, jon)</td>\n",
       "      <td>(partake, joyously)</td>\n",
       "      <td>(livesey, jon)</td>\n",
       "      <td>(pcboard, usr)</td>\n",
       "    </tr>\n",
       "    <tr>\n",
       "      <th>13</th>\n",
       "      <td>(prb, pat)</td>\n",
       "      <td>(paronoid, moromn)</td>\n",
       "      <td>(prb, pat)</td>\n",
       "      <td>(overbearing, totalitarianists)</td>\n",
       "    </tr>\n",
       "    <tr>\n",
       "      <th>14</th>\n",
       "      <td>(computer, graphics)</td>\n",
       "      <td>(parabola, queasiness)</td>\n",
       "      <td>(computer, graphics)</td>\n",
       "      <td>(outskirts, bumping)</td>\n",
       "    </tr>\n",
       "    <tr>\n",
       "      <th>15</th>\n",
       "      <td>(apr, gmt)</td>\n",
       "      <td>(overige, sprekers)</td>\n",
       "      <td>(apr, gmt)</td>\n",
       "      <td>(outcasts, mainline)</td>\n",
       "    </tr>\n",
       "    <tr>\n",
       "      <th>16</th>\n",
       "      <td>(state, university)</td>\n",
       "      <td>(permannet, ftsc)</td>\n",
       "      <td>(state, university)</td>\n",
       "      <td>(othe, optimisations)</td>\n",
       "    </tr>\n",
       "    <tr>\n",
       "      <th>17</th>\n",
       "      <td>(space, station)</td>\n",
       "      <td>(perplexed, thereabout)</td>\n",
       "      <td>(space, station)</td>\n",
       "      <td>(otc, plt)</td>\n",
       "    </tr>\n",
       "    <tr>\n",
       "      <th>18</th>\n",
       "      <td>(anonymous, ftp)</td>\n",
       "      <td>(persecutions, abounded)</td>\n",
       "      <td>(anonymous, ftp)</td>\n",
       "      <td>(ostanes, hystaspes)</td>\n",
       "    </tr>\n",
       "    <tr>\n",
       "      <th>19</th>\n",
       "      <td>(institute, technology)</td>\n",
       "      <td>(pert, gant)</td>\n",
       "      <td>(institute, technology)</td>\n",
       "      <td>(osman, basbugoglu)</td>\n",
       "    </tr>\n",
       "  </tbody>\n",
       "</table>\n",
       "</div>"
      ],
      "text/plain": [
       "         Frequency with Filter                       PMI  \\\n",
       "0             (lines, article)               (aam, khas)   \n",
       "1   (organization, university)            (pcboard, usr)   \n",
       "2            (writes, article)  (periterr, pericynthion)   \n",
       "3        (distribution, world)   (perfecetly, reasoable)   \n",
       "4        (lines, distribution)         (pentacost, hymn)   \n",
       "5              (kent, sandvik)     (pelletized, ceramic)   \n",
       "6          (computer, science)        (pedro, almodovar)   \n",
       "7                 (usa, lines)      (peacefully, enjoin)   \n",
       "8             (henry, spencer)   (patrimony, zorastrian)   \n",
       "9          (university, lines)           (plurbis, unum)   \n",
       "10              (tin, version)         (passel, sterile)   \n",
       "11              (jon, livesey)    (particularities, aam)   \n",
       "12              (livesey, jon)       (partake, joyously)   \n",
       "13                  (prb, pat)        (paronoid, moromn)   \n",
       "14        (computer, graphics)    (parabola, queasiness)   \n",
       "15                  (apr, gmt)       (overige, sprekers)   \n",
       "16         (state, university)         (permannet, ftsc)   \n",
       "17            (space, station)   (perplexed, thereabout)   \n",
       "18            (anonymous, ftp)  (persecutions, abounded)   \n",
       "19     (institute, technology)              (pert, gant)   \n",
       "\n",
       "            T-test with Filter                  Chi-Square Test  \n",
       "0             (lines, article)                     (aaaa, bbbb)  \n",
       "1   (organization, university)               (pacman, visicalc)  \n",
       "2            (writes, article)          (patrimony, zorastrian)  \n",
       "3        (distribution, world)                (passel, sterile)  \n",
       "4        (lines, distribution)           (particularities, aam)  \n",
       "5              (kent, sandvik)              (partake, joyously)  \n",
       "6          (computer, science)               (paronoid, moromn)  \n",
       "7             (henry, spencer)                  (parke, fascia)  \n",
       "8                 (usa, lines)           (parabola, queasiness)  \n",
       "9               (tin, version)                 (pankaj, oberoi)  \n",
       "10              (jon, livesey)             (padmini, srivathsa)  \n",
       "11         (university, lines)              (overige, sprekers)  \n",
       "12              (livesey, jon)                   (pcboard, usr)  \n",
       "13                  (prb, pat)  (overbearing, totalitarianists)  \n",
       "14        (computer, graphics)             (outskirts, bumping)  \n",
       "15                  (apr, gmt)             (outcasts, mainline)  \n",
       "16         (state, university)            (othe, optimisations)  \n",
       "17            (space, station)                       (otc, plt)  \n",
       "18            (anonymous, ftp)             (ostanes, hystaspes)  \n",
       "19     (institute, technology)              (osman, basbugoglu)  "
      ]
     },
     "execution_count": 18,
     "metadata": {},
     "output_type": "execute_result"
    }
   ],
   "source": [
    "bigrams_comparison = pd.concat([frequency_bigram_filter['bigram'], bigramPMITable['bigram'], filtered_TTest_bigrams['bigram'], bigramChiTable['bigram']],axis=1)\n",
    "bigrams_comparison.columns = ['Frequency with Filter', 'PMI', 'T-test with Filter', 'Chi-Square Test']\n",
    "bigrams_comparison"
   ]
  },
  {
   "cell_type": "markdown",
   "metadata": {},
   "source": [
    "# Q2. SVM and Naive Bayes for Text Classification"
   ]
  },
  {
   "cell_type": "markdown",
   "metadata": {},
   "source": [
    "## Q2-a Cleaning the dataset\n",
    "\n",
    "For cleaning the dataset we have followed 3 steps:\n",
    "1. Remove stop words\n",
    "2. Remove numbers and other non-letter characters\n",
    "3. Stem the words\n",
    "\n",
    "We have tokenized each news article into words using \"word_tokenize\" method from nltk library. \"tokens_words_for_newsgroups\" list will contain the words for each document. After that, for cleaning the dataset, we have removed stopwords, non-alphabetic characters and numbers. Moreover, we have also removed numbers. Thereafter, we have performed stemming on the words. For example, \"Game\" and \"Gaming\" represents the same word, so it can be considered as the single word. For stemming, we have user PorterStemmer from nltk library. After that, we have converted the stemmed word into sentences.\n",
    "\n",
    "All the 3 steps are shown below:\n"
   ]
  },
  {
   "cell_type": "markdown",
   "metadata": {},
   "source": [
    "### 1. Tokenize the articles"
   ]
  },
  {
   "cell_type": "code",
   "execution_count": 19,
   "metadata": {},
   "outputs": [
    {
     "name": "stdout",
     "output_type": "stream",
     "text": [
      "3387\n",
      "['From', ':', 'healta', '@', 'saturn.wwc.edu', '(', 'Tammy', 'R', 'Healy', ')', 'Subject', ':', 'Re', ':', 'who', 'are', 'we', 'to', 'judge', ',', 'Bobby', '?', 'Lines', ':', '38', 'Organization', ':', 'Walla', 'Walla', 'College', 'Lines', ':', '38', 'In', 'article', '<', '1993Apr14.213356.22176', '@', 'ultb.isc.rit.edu', '>', 'snm6394', '@', 'ultb.isc.rit.edu', '(', 'S.N', '.', 'Mozumder', ')', 'writes', ':', '>', 'From', ':', 'snm6394', '@', 'ultb.isc.rit.edu', '(', 'S.N', '.', 'Mozumder', ')', '>', 'Subject', ':', 'Re', ':', 'who', 'are', 'we', 'to', 'judge', ',', 'Bobby', '?', '>', 'Date', ':', 'Wed', ',', '14', 'Apr', '1993', '21:33:56', 'GMT', '>', 'In', 'article', '<', 'healta.56.734556346', '@', 'saturn.wwc.edu', '>', 'healta', '@', 'saturn.wwc.edu', '(', 'TAMMY', 'R', 'HEALY', ')', 'writes', ':', '>', '>', 'Bobby', ',', '>', '>', '>', '>', 'I', 'would', 'like', 'to', 'take', 'the', 'liberty', 'to', 'quote', 'from', 'a', 'Christian', 'writer', 'named', '>', '>', 'Ellen', 'G.', 'White', '.', 'I', 'hope', 'that', 'what', 'she', 'said', 'will', 'help', 'you', 'to', 'edit', 'your', '>', '>', 'remarks', 'in', 'this', 'group', 'in', 'the', 'future', '.', '>', '>', '>', '>', \"''\", 'Do', 'not', 'set', 'yourself', 'as', 'a', 'standard', '.', 'Do', 'not', 'make', 'your', 'opinions', ',', 'your', 'views', '>', '>', 'of', 'duty', ',', 'your', 'interpretations', 'of', 'scripture', ',', 'a', 'criterion', 'for', 'others', 'and', 'in', '>', '>', 'your', 'heart', 'condemn', 'them', 'if', 'they', 'do', 'not', 'come', 'up', 'to', 'your', 'ideal', '.', \"''\", '>', '>', 'Thoughts', 'Fromthe', 'Mount', 'of', 'Blessing', 'p.', '124', '>', '>', '>', '>', 'I', 'hope', 'quoting', 'this', 'does', \"n't\", 'make', 'the', 'atheists', 'gag', ',', 'but', 'I', 'think', 'Ellen', 'White', '>', '>', 'put', 'it', 'better', 'than', 'I', 'could', '.', '>', '>', '>', '>', 'Tammy', '>', '>', 'Point', '?', '>', '>', 'Peace', ',', '>', '>', 'Bobby', 'Mozumder', '>', 'My', 'point', 'is', 'that', 'you', 'set', 'up', 'your', 'views', 'as', 'the', 'only', 'way', 'to', 'believe', '.', 'Saying', 'that', 'all', 'eveil', 'in', 'this', 'world', 'is', 'caused', 'by', 'atheism', 'is', 'ridiculous', 'and', 'counterproductive', 'to', 'dialogue', 'in', 'this', 'newsgroups', '.', 'I', 'see', 'in', 'your', 'posts', 'a', 'spirit', 'of', 'condemnation', 'of', 'the', 'atheists', 'in', 'this', 'newsgroup', 'bacause', 'they', \"don'\", 't', 'believe', 'exactly', 'as', 'you', 'do', '.', 'If', 'you', \"'re\", 'here', 'to', 'try', 'to', 'convert', 'the', 'atheists', 'here', ',', 'you', \"'re\", 'failing', 'miserably', '.', 'Who', 'wants', 'to', 'be', 'in', 'position', 'of', 'constantly', 'defending', 'themselves', 'agaist', 'insulting', 'attacks', ',', 'like', 'you', 'seem', 'to', 'like', 'to', 'do', '?', '!', 'I', \"'m\", 'sorry', 'you', \"'re\", 'so', 'blind', 'that', 'you', 'did', \"n't\", 'get', 'the', 'messgae', 'in', 'the', 'quote', ',', 'everyone', 'else', 'has', 'seemed', 'to', '.', 'Tammy']\n"
     ]
    }
   ],
   "source": [
    "# tokenize each newsgroup into words\n",
    "tokens_words_for_newsgroups=[]\n",
    "for i in range(len(newsgroups_data.data)):\n",
    "    tokens_words_for_newsgroups.append(word_tokenize(newsgroups_data.data[i]))\n",
    "\n",
    "# printing tokens of first news article\n",
    "print(len(tokens_words_for_newsgroups))\n",
    "print(tokens_words_for_newsgroups[0])"
   ]
  },
  {
   "cell_type": "markdown",
   "metadata": {},
   "source": [
    "### 2. Removing stop-words, numbers and non-alphabetic characters"
   ]
  },
  {
   "cell_type": "code",
   "execution_count": 20,
   "metadata": {},
   "outputs": [
    {
     "name": "stdout",
     "output_type": "stream",
     "text": [
      "3387\n",
      "Cleaned tokens:\n",
      "\n",
      " ['healta', 'tammy', 'r', 'healy', 'subject', 'judge', 'bobby', 'lines', 'organization', 'walla', 'walla', 'college', 'lines', 'article', 'mozumder', 'writes', 'mozumder', 'subject', 'judge', 'bobby', 'date', 'wed', 'apr', 'gmt', 'article', 'healta', 'tammy', 'r', 'healy', 'writes', 'bobby', 'would', 'like', 'take', 'liberty', 'quote', 'christian', 'writer', 'named', 'ellen', 'white', 'hope', 'said', 'help', 'edit', 'remarks', 'group', 'future', 'set', 'standard', 'make', 'opinions', 'views', 'duty', 'interpretations', 'scripture', 'criterion', 'others', 'heart', 'condemn', 'come', 'ideal', 'thoughts', 'fromthe', 'mount', 'blessing', 'hope', 'quoting', 'make', 'atheists', 'gag', 'think', 'ellen', 'white', 'put', 'better', 'could', 'tammy', 'point', 'peace', 'bobby', 'mozumder', 'point', 'set', 'views', 'way', 'believe', 'saying', 'eveil', 'world', 'caused', 'atheism', 'ridiculous', 'counterproductive', 'dialogue', 'newsgroups', 'see', 'posts', 'spirit', 'condemnation', 'atheists', 'newsgroup', 'bacause', 'believe', 'exactly', 'try', 'convert', 'atheists', 'failing', 'miserably', 'wants', 'position', 'constantly', 'defending', 'agaist', 'insulting', 'attacks', 'like', 'seem', 'like', 'sorry', 'blind', 'get', 'messgae', 'quote', 'everyone', 'else', 'seemed', 'tammy']\n"
     ]
    }
   ],
   "source": [
    "# Removing stopwords, number and other non-letter characters\n",
    "newsGroup_filtered_tokens=[]\n",
    "stop_words_english =set(stopwords.words(\"english\"))\n",
    "\n",
    "for i in range(len(tokens_words_for_newsgroups)):\n",
    "    temp=[]\n",
    "    for w in tokens_words_for_newsgroups[i]:\n",
    "        w=w.lower()\n",
    "        if ((w not in stop_words_english) and w.isalpha()):\n",
    "            temp.append(w.lower())\n",
    "    newsGroup_filtered_tokens.append(temp)\n",
    "\n",
    "# Printing cleaned tokens of first news article\n",
    "print(len(newsGroup_filtered_tokens))\n",
    "print(\"Cleaned tokens:\\n\\n\",newsGroup_filtered_tokens[0])"
   ]
  },
  {
   "cell_type": "markdown",
   "metadata": {},
   "source": [
    "### 3. Stemming the tokens"
   ]
  },
  {
   "cell_type": "code",
   "execution_count": 21,
   "metadata": {},
   "outputs": [
    {
     "name": "stdout",
     "output_type": "stream",
     "text": [
      "Stemmed tokens\n",
      "\n",
      " ['healta', 'tammi', 'r', 'heali', 'subject', 'judg', 'bobbi', 'line', 'organ', 'walla', 'walla', 'colleg', 'line', 'articl', 'mozumd', 'write', 'mozumd', 'subject', 'judg', 'bobbi', 'date', 'wed', 'apr', 'gmt', 'articl', 'healta', 'tammi', 'r', 'heali', 'write', 'bobbi', 'would', 'like', 'take', 'liberti', 'quot', 'christian', 'writer', 'name', 'ellen', 'white', 'hope', 'said', 'help', 'edit', 'remark', 'group', 'futur', 'set', 'standard', 'make', 'opinion', 'view', 'duti', 'interpret', 'scriptur', 'criterion', 'other', 'heart', 'condemn', 'come', 'ideal', 'thought', 'fromth', 'mount', 'bless', 'hope', 'quot', 'make', 'atheist', 'gag', 'think', 'ellen', 'white', 'put', 'better', 'could', 'tammi', 'point', 'peac', 'bobbi', 'mozumd', 'point', 'set', 'view', 'way', 'believ', 'say', 'eveil', 'world', 'caus', 'atheism', 'ridicul', 'counterproduct', 'dialogu', 'newsgroup', 'see', 'post', 'spirit', 'condemn', 'atheist', 'newsgroup', 'bacaus', 'believ', 'exactli', 'tri', 'convert', 'atheist', 'fail', 'miser', 'want', 'posit', 'constantli', 'defend', 'agaist', 'insult', 'attack', 'like', 'seem', 'like', 'sorri', 'blind', 'get', 'messga', 'quot', 'everyon', 'els', 'seem', 'tammi']\n"
     ]
    }
   ],
   "source": [
    "# stemming the tokens\n",
    "from nltk.stem import PorterStemmer\n",
    "ps = PorterStemmer()\n",
    "stemmed_news_group=[]\n",
    "\n",
    "for i in range(len(newsGroup_filtered_tokens)):\n",
    "    temp=[]\n",
    "    for w in newsGroup_filtered_tokens[i]:\n",
    "        temp.append(ps.stem(w))\n",
    "    stemmed_news_group.append(temp)\n",
    "        \n",
    "print(\"Stemmed tokens\\n\\n\",stemmed_news_group[0])"
   ]
  },
  {
   "cell_type": "code",
   "execution_count": 22,
   "metadata": {},
   "outputs": [
    {
     "name": "stdout",
     "output_type": "stream",
     "text": [
      "healta tammi r heali subject judg bobbi line organ walla walla colleg line articl mozumd write mozumd subject judg bobbi date wed apr gmt articl healta tammi r heali write bobbi would like take liberti quot christian writer name ellen white hope said help edit remark group futur set standard make opinion view duti interpret scriptur criterion other heart condemn come ideal thought fromth mount bless hope quot make atheist gag think ellen white put better could tammi point peac bobbi mozumd point set view way believ say eveil world caus atheism ridicul counterproduct dialogu newsgroup see post spirit condemn atheist newsgroup bacaus believ exactli tri convert atheist fail miser want posit constantli defend agaist insult attack like seem like sorri blind get messga quot everyon els seem tammi\n"
     ]
    }
   ],
   "source": [
    "# coverting stemmed tokens into sentences\n",
    "for i in range(len(stemmed_news_group)):\n",
    "    stemmed_news_group[i]=\" \".join(stemmed_news_group[i])\n",
    "\n",
    "print(stemmed_news_group[0])"
   ]
  },
  {
   "cell_type": "markdown",
   "metadata": {},
   "source": [
    "## Q2-b Bag-of-words and tf-idf vector representation\n",
    "\n",
    "### Bag-of-words representation\n",
    "\n",
    "It is a way of representing the text data in Data Science. The problem with text data is that it can be completely random and very messy. However, Machine Learning algorithms expects the data to be in some formatted way. Hence, we can use bag-of-words representation for arranging the text data. It is a way in which features are extracted from the text data. This technique involves a list of known words and a measure on how to find the presence of these words. In the bag-of-words technique, the structure of words/sentences is not retained. Now, two documents are considered similar based on their similarity of bag-of-words.\n",
    "\n",
    "In our example, we will be using \"fit_transform\" method of \"CountVectorizer\" from scikit learn library. For our dataset, we have printed the bag-of-words shape and it shows that there are 23017 words in all of the documents.\n",
    "\n",
    "Reference: https://machinelearningmastery.com/gentle-introduction-bag-words-model/"
   ]
  },
  {
   "cell_type": "code",
   "execution_count": 23,
   "metadata": {},
   "outputs": [
    {
     "data": {
      "text/plain": [
       "(3387, 23107)"
      ]
     },
     "execution_count": 23,
     "metadata": {},
     "output_type": "execute_result"
    }
   ],
   "source": [
    "# bag of words representation\n",
    "from sklearn.feature_extraction.text import CountVectorizer\n",
    "count_vect = CountVectorizer()\n",
    "bagOfWords= count_vect.fit_transform(stemmed_news_group)\n",
    "bagOfWords.shape"
   ]
  },
  {
   "cell_type": "markdown",
   "metadata": {},
   "source": [
    "### TF-IDF weighted vector representation\n",
    "\n",
    "TF-IDF is acronym for Term Frequency-Inverse Document Frequency. It is a way in which text data can be represented in meaningful way. It will represent the frequency of words in the document. DF represents the number of total documents in the dataset. Now, if the words occurs in many documents, then its weight should be less. Because, if the word is in multiple documents, then it will not a major role in deciding the similarities between 2 documents. In our case, we are using \"fit_transform\" method from TfidfTransformer given in scikit learn library. We are supplying above generated bag-words to it."
   ]
  },
  {
   "cell_type": "code",
   "execution_count": 24,
   "metadata": {},
   "outputs": [
    {
     "data": {
      "text/plain": [
       "(3387, 23107)"
      ]
     },
     "execution_count": 24,
     "metadata": {},
     "output_type": "execute_result"
    }
   ],
   "source": [
    "# generating tf-idf vector\n",
    "from sklearn.feature_extraction.text import TfidfTransformer\n",
    "tfidf_transformer = TfidfTransformer()\n",
    "tfidf = tfidf_transformer.fit_transform(bagOfWords)\n",
    "tfidf.shape"
   ]
  },
  {
   "cell_type": "markdown",
   "metadata": {},
   "source": [
    "### Importing libraries"
   ]
  },
  {
   "cell_type": "code",
   "execution_count": 25,
   "metadata": {},
   "outputs": [],
   "source": [
    "from sklearn.model_selection import train_test_split\n",
    "from sklearn.metrics import  precision_score, recall_score,f1_score,accuracy_score\n",
    "from sklearn.naive_bayes import MultinomialNB\n",
    "from sklearn.linear_model import SGDClassifier\n",
    "from sklearn.svm import LinearSVC,SVC\n",
    "from sklearn.metrics import confusion_matrix\n",
    "import matplotlib.pyplot as plt"
   ]
  },
  {
   "cell_type": "markdown",
   "metadata": {},
   "source": [
    "## Q2-c Applying SVM and Multinomial NB\n",
    "\n",
    "### Splitting the dataset\n",
    "\n",
    "We have splitted out the dataset into 2 parts:\n",
    "1. Training set- 70%\n",
    "2. Testing set- 30%"
   ]
  },
  {
   "cell_type": "code",
   "execution_count": 26,
   "metadata": {},
   "outputs": [
    {
     "name": "stdout",
     "output_type": "stream",
     "text": [
      "(2370, 23107)\n",
      "(2370,)\n",
      "(1017, 23107)\n",
      "(1017,)\n"
     ]
    }
   ],
   "source": [
    "X_train, X_test, y_train, y_test = train_test_split(tfidf, newsgroups_data.target, test_size=0.30,random_state=42)\n",
    "print(X_train.shape)\n",
    "print(y_train.shape)\n",
    "print(X_test.shape)\n",
    "print(y_test.shape)\n",
    "y_train=y_train.reshape((y_train.shape[0],1))\n",
    "y_test=y_test.reshape((y_test.shape[0],1))\n",
    "evaluation=[0,0,0,0,0,0,0]"
   ]
  },
  {
   "cell_type": "markdown",
   "metadata": {},
   "source": [
    "## Train Multinomial NB\n",
    "\n",
    "We are providing X_train and Y_train to the MultinomilaNB and training the model."
   ]
  },
  {
   "cell_type": "code",
   "execution_count": 27,
   "metadata": {},
   "outputs": [
    {
     "name": "stderr",
     "output_type": "stream",
     "text": [
      "c:\\users\\shrey amin\\appdata\\local\\programs\\python\\python37\\lib\\site-packages\\sklearn\\utils\\validation.py:761: DataConversionWarning: A column-vector y was passed when a 1d array was expected. Please change the shape of y to (n_samples, ), for example using ravel().\n",
      "  y = column_or_1d(y, warn=True)\n"
     ]
    }
   ],
   "source": [
    "NB_clf = MultinomialNB().fit(X_train,y_train)"
   ]
  },
  {
   "cell_type": "markdown",
   "metadata": {},
   "source": [
    "### Evaluate MultinomialNB classifier\n",
    "\n",
    "For evaluating the performance of classifier we have created a common function `evaluateClassifier(classifier,model,index)` which will accept the classifier, the model name and index, and the function will return the predicted value for Y.\n",
    "\n",
    "In case of multinomial NB, we have received following results:\n",
    "- Training Accuracy : 94% (Approximately)\n",
    "- Test Accuracy : 91% (Approximately)\n",
    "- Precision : 92% (Approximately)\n",
    "- Recall : 91% (Approximately)\n",
    "\n",
    "As it can be seen, multinomial NB has training accuracy of 94%, which is considered a really good model. Also, on the testing dataset we have received approximately 91% accuracy, which indicates our model is not over-fitting in this case. Apart from these evaluation matrices, we have received approximately 92% precision and approximately 91% recall for the model."
   ]
  },
  {
   "cell_type": "code",
   "execution_count": 28,
   "metadata": {},
   "outputs": [],
   "source": [
    "# Reference: Lab-2\n",
    "def evaluateClassifier(classifier,model,index):\n",
    "    print(\"Performance of \"+model)\n",
    "    y_predicted=classifier.predict(X_test)\n",
    "    x_predicted=classifier.predict(X_train)\n",
    "    evaluation[index]=accuracy_score(y_test, y_predicted)\n",
    "    print(\"\\nTraining accuracy score: %1.3f\"%accuracy_score(y_train, x_predicted))\n",
    "    print( \"Test accuracy_score:%1.3f\"%accuracy_score(y_test, y_predicted) )\n",
    "    print(\"Precision: %1.3f\" % precision_score(y_test, y_predicted,average='weighted'))\n",
    "    print(\"Recall: %1.3f\" % recall_score(y_test, y_predicted,average='weighted'))\n",
    "    print(\"F1: %1.3f\\n\" % f1_score(y_test, y_predicted,average='weighted'))\n",
    "    return y_predicted"
   ]
  },
  {
   "cell_type": "code",
   "execution_count": 29,
   "metadata": {},
   "outputs": [
    {
     "name": "stdout",
     "output_type": "stream",
     "text": [
      "Performance of MultinomialNB classifier\n",
      "\n",
      "Training accuracy score: 0.944\n",
      "Test accuracy_score:0.908\n",
      "Precision: 0.922\n",
      "Recall: 0.908\n",
      "F1: 0.902\n",
      "\n"
     ]
    }
   ],
   "source": [
    "y_predicted_multinomialNB=evaluateClassifier(classifier=NB_clf,model=\"MultinomialNB classifier\",index=0)"
   ]
  },
  {
   "cell_type": "code",
   "execution_count": 30,
   "metadata": {},
   "outputs": [],
   "source": [
    "def changeShape(predictedList):\n",
    "    y_predicted=[]\n",
    "    temp=[]\n",
    "    for y in predictedList:\n",
    "        temp.append(y)\n",
    "        y_predicted.append(temp)\n",
    "        temp=[]\n",
    "    y_predicted=np.array(y_predicted)\n",
    "    return y_predicted\n",
    "y_predicted_multinomialNB=changeShape(y_predicted_multinomialNB)"
   ]
  },
  {
   "cell_type": "markdown",
   "metadata": {},
   "source": [
    "### Confusion matrix of MultinomialNB\n",
    "\n",
    "Confusion matrix for MultinomialNB is shown in the below table. As it can be seen from the table, that the model has very high accuracy except for the category \"sci.space\". We can say that there is a confusion between \"sci.space\" and \"alt.atheism\" categories. During our testing we have recieved 63 instances which are predicted \"alt.atheism\", but it were actually predicted as \"sci.space\". Except this scenario, multinomial NB has a very good accuracy for all the other categories."
   ]
  },
  {
   "cell_type": "code",
   "execution_count": 31,
   "metadata": {},
   "outputs": [],
   "source": [
    "def confusionMatrix(model,y_predicted):\n",
    "    print(\"Confusion matrix of \"+model)\n",
    "    cm=pd.DataFrame(confusion_matrix(y_test, y_predicted))\n",
    "    cm.columns=['alt.atheism', 'talk.religion.misc', 'comp.graphics', 'sci.space']\n",
    "    cm.index=['alt.atheism', 'talk.religion.misc', 'comp.graphics', 'sci.space']\n",
    "    return cm"
   ]
  },
  {
   "cell_type": "code",
   "execution_count": 32,
   "metadata": {},
   "outputs": [
    {
     "name": "stdout",
     "output_type": "stream",
     "text": [
      "Confusion matrix of MultinomialNB\n"
     ]
    },
    {
     "data": {
      "text/html": [
       "<div>\n",
       "<style scoped>\n",
       "    .dataframe tbody tr th:only-of-type {\n",
       "        vertical-align: middle;\n",
       "    }\n",
       "\n",
       "    .dataframe tbody tr th {\n",
       "        vertical-align: top;\n",
       "    }\n",
       "\n",
       "    .dataframe thead th {\n",
       "        text-align: right;\n",
       "    }\n",
       "</style>\n",
       "<table border=\"1\" class=\"dataframe\">\n",
       "  <thead>\n",
       "    <tr style=\"text-align: right;\">\n",
       "      <th></th>\n",
       "      <th>alt.atheism</th>\n",
       "      <th>talk.religion.misc</th>\n",
       "      <th>comp.graphics</th>\n",
       "      <th>sci.space</th>\n",
       "    </tr>\n",
       "  </thead>\n",
       "  <tbody>\n",
       "    <tr>\n",
       "      <th>alt.atheism</th>\n",
       "      <td>221</td>\n",
       "      <td>0</td>\n",
       "      <td>2</td>\n",
       "      <td>1</td>\n",
       "    </tr>\n",
       "    <tr>\n",
       "      <th>talk.religion.misc</th>\n",
       "      <td>0</td>\n",
       "      <td>294</td>\n",
       "      <td>3</td>\n",
       "      <td>0</td>\n",
       "    </tr>\n",
       "    <tr>\n",
       "      <th>comp.graphics</th>\n",
       "      <td>3</td>\n",
       "      <td>7</td>\n",
       "      <td>297</td>\n",
       "      <td>0</td>\n",
       "    </tr>\n",
       "    <tr>\n",
       "      <th>sci.space</th>\n",
       "      <td>63</td>\n",
       "      <td>5</td>\n",
       "      <td>10</td>\n",
       "      <td>111</td>\n",
       "    </tr>\n",
       "  </tbody>\n",
       "</table>\n",
       "</div>"
      ],
      "text/plain": [
       "                    alt.atheism  talk.religion.misc  comp.graphics  sci.space\n",
       "alt.atheism                 221                   0              2          1\n",
       "talk.religion.misc            0                 294              3          0\n",
       "comp.graphics                 3                   7            297          0\n",
       "sci.space                    63                   5             10        111"
      ]
     },
     "execution_count": 32,
     "metadata": {},
     "output_type": "execute_result"
    }
   ],
   "source": [
    "confusionMatrix(\"MultinomialNB\",y_predicted_multinomialNB)"
   ]
  },
  {
   "cell_type": "markdown",
   "metadata": {},
   "source": [
    "## Train SVM\n",
    "\n",
    "We have trained SVM with following kernels:\n",
    "\n",
    "1. Linear\n",
    "2. RBF\n",
    "3. Poly\n",
    "4. Sigmoid\n",
    "\n",
    "We have created a common function `svmClassifier(kernel)`, which accepts the kernel and implements the SVM classifier on it. Following are the performance metrices we have received for each kernel:\n",
    "\n",
    "#### Linear\n",
    "- Training Accuracy : 99% (Approximately)\n",
    "- Test Accuracy : 95% (Approximately)\n",
    "- Precision : 96% (Approximately)\n",
    "- Recall : 96% (Approximately)\n",
    "\n",
    "#### RBF\n",
    "- Training Accuracy : 29% (Approximately)\n",
    "- Test Accuracy : 30% (Approximately)\n",
    "- Precision : 9% (Approximately)\n",
    "- Recall : 30% (Approximately)\n",
    "\n",
    "#### Poly\n",
    "- Training Accuracy : 29% (Approximately)\n",
    "- Test Accuracy : 30% (Approximately)\n",
    "- Precision : 9% (Approximately)\n",
    "- Recall : 30% (Approximately)\n",
    "\n",
    "#### Sigmoid\n",
    "- Training Accuracy : 29% (Approximately)\n",
    "- Test Accuracy : 30% (Approximately)\n",
    "- Precision : 9% (Approximately)\n",
    "- Recall : 30% (Approximately)"
   ]
  },
  {
   "cell_type": "markdown",
   "metadata": {},
   "source": [
    "### Changing the kernel to train Support Vector Machine (SVM)\n",
    "\n",
    "As it can be seen in the above results, changing the kernel of SVM has a very huge impact on its performance. Linear SVM has approxmiately 95% accurancy. However, all other kernels for SVM has only 30% accuracy. Thus, Linear SVM tends to perform better than other kernel.\n",
    "\n",
    "Reference: https://scikit-learn.org/stable/modules/svm.html"
   ]
  },
  {
   "cell_type": "code",
   "execution_count": 33,
   "metadata": {},
   "outputs": [
    {
     "name": "stderr",
     "output_type": "stream",
     "text": [
      "c:\\users\\shrey amin\\appdata\\local\\programs\\python\\python37\\lib\\site-packages\\sklearn\\utils\\validation.py:761: DataConversionWarning: A column-vector y was passed when a 1d array was expected. Please change the shape of y to (n_samples, ), for example using ravel().\n",
      "  y = column_or_1d(y, warn=True)\n"
     ]
    },
    {
     "name": "stdout",
     "output_type": "stream",
     "text": [
      "Performance of Support vector machine classifier with linear kernel \n",
      "\n",
      "Training accuracy score: 0.995\n",
      "Test accuracy_score:0.956\n",
      "Precision: 0.956\n",
      "Recall: 0.956\n",
      "F1: 0.956\n",
      "\n"
     ]
    },
    {
     "name": "stderr",
     "output_type": "stream",
     "text": [
      "c:\\users\\shrey amin\\appdata\\local\\programs\\python\\python37\\lib\\site-packages\\sklearn\\svm\\base.py:196: FutureWarning: The default value of gamma will change from 'auto' to 'scale' in version 0.22 to account better for unscaled features. Set gamma explicitly to 'auto' or 'scale' to avoid this warning.\n",
      "  \"avoid this warning.\", FutureWarning)\n"
     ]
    },
    {
     "name": "stdout",
     "output_type": "stream",
     "text": [
      "Performance of Support vector machine classifier with RBF kernel \n",
      "\n",
      "Training accuracy score: 0.287\n",
      "Test accuracy_score:0.302\n",
      "Precision: 0.091\n",
      "Recall: 0.302\n",
      "F1: 0.140\n",
      "\n"
     ]
    },
    {
     "name": "stderr",
     "output_type": "stream",
     "text": [
      "c:\\users\\shrey amin\\appdata\\local\\programs\\python\\python37\\lib\\site-packages\\sklearn\\metrics\\classification.py:1143: UndefinedMetricWarning: Precision is ill-defined and being set to 0.0 in labels with no predicted samples.\n",
      "  'precision', 'predicted', average, warn_for)\n",
      "c:\\users\\shrey amin\\appdata\\local\\programs\\python\\python37\\lib\\site-packages\\sklearn\\metrics\\classification.py:1143: UndefinedMetricWarning: F-score is ill-defined and being set to 0.0 in labels with no predicted samples.\n",
      "  'precision', 'predicted', average, warn_for)\n"
     ]
    },
    {
     "name": "stdout",
     "output_type": "stream",
     "text": [
      "Performance of Support vector machine classifier with polynomial kernel \n",
      "\n",
      "Training accuracy score: 0.287\n",
      "Test accuracy_score:0.302\n",
      "Precision: 0.091\n",
      "Recall: 0.302\n",
      "F1: 0.140\n",
      "\n",
      "Performance of Support vector machine classifier with sigmoid kernel \n",
      "\n",
      "Training accuracy score: 0.287\n",
      "Test accuracy_score:0.302\n",
      "Precision: 0.091\n",
      "Recall: 0.302\n",
      "F1: 0.140\n",
      "\n"
     ]
    }
   ],
   "source": [
    "# training the SVM classifiers with different kernels\n",
    "def svmClassifier(kernel):\n",
    "    SVM_clf = SVC(random_state=42,kernel=kernel).fit(X_train,y_train)\n",
    "    return SVM_clf\n",
    "    \n",
    "SVM_clf_linear=LinearSVC(loss='hinge', penalty='l2', random_state=42).fit(X_train,y_train)\n",
    "# SVM_clf_linear=SGDClassifier(loss='hinge', penalty='l2', random_state=42).fit(X_train,y_train)\n",
    "y_predicted_SVM_linear=evaluateClassifier(classifier=SVM_clf_linear,model=\"Support vector machine classifier with linear kernel \",index=1)\n",
    "y_predicted_SVM_linear=changeShape(y_predicted_SVM_linear)\n",
    "\n",
    "SVM_clf_RBF=svmClassifier(kernel=\"rbf\")\n",
    "y_predicted_SVM_RBF=evaluateClassifier(classifier=SVM_clf_RBF,model=\"Support vector machine classifier with RBF kernel \",index=2)\n",
    "y_predicted_SVM_RBF=changeShape(y_predicted_SVM_RBF)\n",
    "\n",
    "SVM_clf_Poly=svmClassifier(kernel=\"poly\")\n",
    "y_predicted_SVM_Poly=evaluateClassifier(classifier=SVM_clf_Poly,model=\"Support vector machine classifier with polynomial kernel \",index=3)\n",
    "y_predicted_SVM_Poly=changeShape(y_predicted_SVM_Poly)\n",
    "\n",
    "SVM_clf_Sigmoid=svmClassifier(kernel=\"sigmoid\")\n",
    "y_predicted_SVM_Sigmoid=evaluateClassifier(classifier=SVM_clf_Sigmoid,model=\"Support vector machine classifier with sigmoid kernel \",index=4)\n",
    "y_predicted_SVM_Sigmoid=changeShape(y_predicted_SVM_Sigmoid)"
   ]
  },
  {
   "cell_type": "markdown",
   "metadata": {},
   "source": [
    "### Confusion matrix of SVM for all kernels\n",
    "\n",
    "#### Linear SVM\n",
    "\n",
    "Confusion matrix for Linear SVM is shown in the below table. As it can be seen from the table, that the model has very high accuracy except for the category \"sci.space\". We can say that there is a minor confusion between \"sci.space\" and \"alt.atheism\" categories. During our testing, we have recieved 12 instances which are predicted \"alt.atheism\", but it were actually predicted as \"sci.space\". However, this number is very less and except this scenario, Linear SVM has a very good accuracy for all the other categories."
   ]
  },
  {
   "cell_type": "code",
   "execution_count": 34,
   "metadata": {},
   "outputs": [
    {
     "name": "stdout",
     "output_type": "stream",
     "text": [
      "Confusion matrix of Linear SVM\n"
     ]
    },
    {
     "data": {
      "text/html": [
       "<div>\n",
       "<style scoped>\n",
       "    .dataframe tbody tr th:only-of-type {\n",
       "        vertical-align: middle;\n",
       "    }\n",
       "\n",
       "    .dataframe tbody tr th {\n",
       "        vertical-align: top;\n",
       "    }\n",
       "\n",
       "    .dataframe thead th {\n",
       "        text-align: right;\n",
       "    }\n",
       "</style>\n",
       "<table border=\"1\" class=\"dataframe\">\n",
       "  <thead>\n",
       "    <tr style=\"text-align: right;\">\n",
       "      <th></th>\n",
       "      <th>alt.atheism</th>\n",
       "      <th>talk.religion.misc</th>\n",
       "      <th>comp.graphics</th>\n",
       "      <th>sci.space</th>\n",
       "    </tr>\n",
       "  </thead>\n",
       "  <tbody>\n",
       "    <tr>\n",
       "      <th>alt.atheism</th>\n",
       "      <td>212</td>\n",
       "      <td>2</td>\n",
       "      <td>2</td>\n",
       "      <td>8</td>\n",
       "    </tr>\n",
       "    <tr>\n",
       "      <th>talk.religion.misc</th>\n",
       "      <td>0</td>\n",
       "      <td>295</td>\n",
       "      <td>2</td>\n",
       "      <td>0</td>\n",
       "    </tr>\n",
       "    <tr>\n",
       "      <th>comp.graphics</th>\n",
       "      <td>1</td>\n",
       "      <td>9</td>\n",
       "      <td>296</td>\n",
       "      <td>1</td>\n",
       "    </tr>\n",
       "    <tr>\n",
       "      <th>sci.space</th>\n",
       "      <td>12</td>\n",
       "      <td>6</td>\n",
       "      <td>2</td>\n",
       "      <td>169</td>\n",
       "    </tr>\n",
       "  </tbody>\n",
       "</table>\n",
       "</div>"
      ],
      "text/plain": [
       "                    alt.atheism  talk.religion.misc  comp.graphics  sci.space\n",
       "alt.atheism                 212                   2              2          8\n",
       "talk.religion.misc            0                 295              2          0\n",
       "comp.graphics                 1                   9            296          1\n",
       "sci.space                    12                   6              2        169"
      ]
     },
     "execution_count": 34,
     "metadata": {},
     "output_type": "execute_result"
    }
   ],
   "source": [
    "confusionMatrix(\"Linear SVM\",y_predicted_SVM_linear)"
   ]
  },
  {
   "cell_type": "markdown",
   "metadata": {},
   "source": [
    "#### RBF SVM\n",
    "\n",
    "Confusion matrix for RBF SVM is shown in the below table. As it can be seen from the table, that the model has very low accuracy. All the values are predicted as \"comp.graphics\" category regardless of original category. Hence, it has only 30% accuracy, because \"comp.graphics\" contributes to 30% of the dataset."
   ]
  },
  {
   "cell_type": "code",
   "execution_count": 35,
   "metadata": {},
   "outputs": [
    {
     "name": "stdout",
     "output_type": "stream",
     "text": [
      "Confusion matrix of RBF SVM\n"
     ]
    },
    {
     "data": {
      "text/html": [
       "<div>\n",
       "<style scoped>\n",
       "    .dataframe tbody tr th:only-of-type {\n",
       "        vertical-align: middle;\n",
       "    }\n",
       "\n",
       "    .dataframe tbody tr th {\n",
       "        vertical-align: top;\n",
       "    }\n",
       "\n",
       "    .dataframe thead th {\n",
       "        text-align: right;\n",
       "    }\n",
       "</style>\n",
       "<table border=\"1\" class=\"dataframe\">\n",
       "  <thead>\n",
       "    <tr style=\"text-align: right;\">\n",
       "      <th></th>\n",
       "      <th>alt.atheism</th>\n",
       "      <th>talk.religion.misc</th>\n",
       "      <th>comp.graphics</th>\n",
       "      <th>sci.space</th>\n",
       "    </tr>\n",
       "  </thead>\n",
       "  <tbody>\n",
       "    <tr>\n",
       "      <th>alt.atheism</th>\n",
       "      <td>0</td>\n",
       "      <td>0</td>\n",
       "      <td>224</td>\n",
       "      <td>0</td>\n",
       "    </tr>\n",
       "    <tr>\n",
       "      <th>talk.religion.misc</th>\n",
       "      <td>0</td>\n",
       "      <td>0</td>\n",
       "      <td>297</td>\n",
       "      <td>0</td>\n",
       "    </tr>\n",
       "    <tr>\n",
       "      <th>comp.graphics</th>\n",
       "      <td>0</td>\n",
       "      <td>0</td>\n",
       "      <td>307</td>\n",
       "      <td>0</td>\n",
       "    </tr>\n",
       "    <tr>\n",
       "      <th>sci.space</th>\n",
       "      <td>0</td>\n",
       "      <td>0</td>\n",
       "      <td>189</td>\n",
       "      <td>0</td>\n",
       "    </tr>\n",
       "  </tbody>\n",
       "</table>\n",
       "</div>"
      ],
      "text/plain": [
       "                    alt.atheism  talk.religion.misc  comp.graphics  sci.space\n",
       "alt.atheism                   0                   0            224          0\n",
       "talk.religion.misc            0                   0            297          0\n",
       "comp.graphics                 0                   0            307          0\n",
       "sci.space                     0                   0            189          0"
      ]
     },
     "execution_count": 35,
     "metadata": {},
     "output_type": "execute_result"
    }
   ],
   "source": [
    "confusionMatrix(\"RBF SVM\",y_predicted_SVM_RBF)"
   ]
  },
  {
   "cell_type": "markdown",
   "metadata": {},
   "source": [
    "#### Poly SVM\n",
    "\n",
    "Confusion matrix for Poly SVM is shown in the below table. As it can be seen from the table, that the model has very low accuracy. All the values are predicted as \"comp.graphics\" category regardless of original category. Hence, it has only 30% accuracy, because \"comp.graphics\" contributes to 30% of the dataset."
   ]
  },
  {
   "cell_type": "code",
   "execution_count": 36,
   "metadata": {},
   "outputs": [
    {
     "name": "stdout",
     "output_type": "stream",
     "text": [
      "Confusion matrix of Poly SVM\n"
     ]
    },
    {
     "data": {
      "text/html": [
       "<div>\n",
       "<style scoped>\n",
       "    .dataframe tbody tr th:only-of-type {\n",
       "        vertical-align: middle;\n",
       "    }\n",
       "\n",
       "    .dataframe tbody tr th {\n",
       "        vertical-align: top;\n",
       "    }\n",
       "\n",
       "    .dataframe thead th {\n",
       "        text-align: right;\n",
       "    }\n",
       "</style>\n",
       "<table border=\"1\" class=\"dataframe\">\n",
       "  <thead>\n",
       "    <tr style=\"text-align: right;\">\n",
       "      <th></th>\n",
       "      <th>alt.atheism</th>\n",
       "      <th>talk.religion.misc</th>\n",
       "      <th>comp.graphics</th>\n",
       "      <th>sci.space</th>\n",
       "    </tr>\n",
       "  </thead>\n",
       "  <tbody>\n",
       "    <tr>\n",
       "      <th>alt.atheism</th>\n",
       "      <td>0</td>\n",
       "      <td>0</td>\n",
       "      <td>224</td>\n",
       "      <td>0</td>\n",
       "    </tr>\n",
       "    <tr>\n",
       "      <th>talk.religion.misc</th>\n",
       "      <td>0</td>\n",
       "      <td>0</td>\n",
       "      <td>297</td>\n",
       "      <td>0</td>\n",
       "    </tr>\n",
       "    <tr>\n",
       "      <th>comp.graphics</th>\n",
       "      <td>0</td>\n",
       "      <td>0</td>\n",
       "      <td>307</td>\n",
       "      <td>0</td>\n",
       "    </tr>\n",
       "    <tr>\n",
       "      <th>sci.space</th>\n",
       "      <td>0</td>\n",
       "      <td>0</td>\n",
       "      <td>189</td>\n",
       "      <td>0</td>\n",
       "    </tr>\n",
       "  </tbody>\n",
       "</table>\n",
       "</div>"
      ],
      "text/plain": [
       "                    alt.atheism  talk.religion.misc  comp.graphics  sci.space\n",
       "alt.atheism                   0                   0            224          0\n",
       "talk.religion.misc            0                   0            297          0\n",
       "comp.graphics                 0                   0            307          0\n",
       "sci.space                     0                   0            189          0"
      ]
     },
     "execution_count": 36,
     "metadata": {},
     "output_type": "execute_result"
    }
   ],
   "source": [
    "confusionMatrix(\"Poly SVM\",y_predicted_SVM_Poly)"
   ]
  },
  {
   "cell_type": "markdown",
   "metadata": {},
   "source": [
    "#### Sigmoid SVM \n",
    "\n",
    "\n",
    "Confusion matrix for Sigmoid SVM is shown in the below table. As it can be seen from the table, that the model has very low accuracy. All the values are predicted as \"comp.graphics\" category regardless of original category. Hence, it has only 30% accuracy, because \"comp.graphics\" contributes to 30% of the dataset."
   ]
  },
  {
   "cell_type": "code",
   "execution_count": 37,
   "metadata": {},
   "outputs": [
    {
     "name": "stdout",
     "output_type": "stream",
     "text": [
      "Confusion matrix of Sigmoid SVM\n"
     ]
    },
    {
     "data": {
      "text/html": [
       "<div>\n",
       "<style scoped>\n",
       "    .dataframe tbody tr th:only-of-type {\n",
       "        vertical-align: middle;\n",
       "    }\n",
       "\n",
       "    .dataframe tbody tr th {\n",
       "        vertical-align: top;\n",
       "    }\n",
       "\n",
       "    .dataframe thead th {\n",
       "        text-align: right;\n",
       "    }\n",
       "</style>\n",
       "<table border=\"1\" class=\"dataframe\">\n",
       "  <thead>\n",
       "    <tr style=\"text-align: right;\">\n",
       "      <th></th>\n",
       "      <th>alt.atheism</th>\n",
       "      <th>talk.religion.misc</th>\n",
       "      <th>comp.graphics</th>\n",
       "      <th>sci.space</th>\n",
       "    </tr>\n",
       "  </thead>\n",
       "  <tbody>\n",
       "    <tr>\n",
       "      <th>alt.atheism</th>\n",
       "      <td>0</td>\n",
       "      <td>0</td>\n",
       "      <td>224</td>\n",
       "      <td>0</td>\n",
       "    </tr>\n",
       "    <tr>\n",
       "      <th>talk.religion.misc</th>\n",
       "      <td>0</td>\n",
       "      <td>0</td>\n",
       "      <td>297</td>\n",
       "      <td>0</td>\n",
       "    </tr>\n",
       "    <tr>\n",
       "      <th>comp.graphics</th>\n",
       "      <td>0</td>\n",
       "      <td>0</td>\n",
       "      <td>307</td>\n",
       "      <td>0</td>\n",
       "    </tr>\n",
       "    <tr>\n",
       "      <th>sci.space</th>\n",
       "      <td>0</td>\n",
       "      <td>0</td>\n",
       "      <td>189</td>\n",
       "      <td>0</td>\n",
       "    </tr>\n",
       "  </tbody>\n",
       "</table>\n",
       "</div>"
      ],
      "text/plain": [
       "                    alt.atheism  talk.religion.misc  comp.graphics  sci.space\n",
       "alt.atheism                   0                   0            224          0\n",
       "talk.religion.misc            0                   0            297          0\n",
       "comp.graphics                 0                   0            307          0\n",
       "sci.space                     0                   0            189          0"
      ]
     },
     "execution_count": 37,
     "metadata": {},
     "output_type": "execute_result"
    }
   ],
   "source": [
    "confusionMatrix(\"Sigmoid SVM\",y_predicted_SVM_Sigmoid)"
   ]
  },
  {
   "cell_type": "markdown",
   "metadata": {},
   "source": [
    "## Which algorithm has higher accuracy and why?\n",
    "\n",
    "### Comparing MultinomialNB and SVM\n",
    "\n",
    "We have compared the accuracies for MultinomialNB and SVM with various kenels. As it can be seen from the bar grpah, Linear SVM has higher accuracy than the MultinomialNB. However, all the other kernels for SVM have lower accuracies than MultinomialNB.\n",
    "\n",
    "### Why SVM is better?\n",
    "Multinomial is better at snippets of the documents, which means it has higher performance for small documents. However, SVM is better for full-length content, which means it has higher performance for large documents. In our example, it is a very large dataset of news articles. Approximate vocabulary count is 23000, which is very high. So, in this case SVM will perform better as compared to Multinomial NB.\n",
    "\n",
    "Other difference is that, Multinomial NB will treat words as independent. However, SVM treats the words as having some interaction between them. Hence, SVM takes into account the frequency of the words as well as how the words are related to each other. Therefore, in case of our dataset, it will have higher accuracy, because it not only focuses on the words frequency but also focuses on the interaction between words.\n",
    "\n",
    "\n",
    "Reference: https://stackoverflow.com/questions/35360081/naive-bayes-vs-svm-for-classifying-text-data"
   ]
  },
  {
   "cell_type": "code",
   "execution_count": 38,
   "metadata": {
    "scrolled": false
   },
   "outputs": [
    {
     "data": {
      "image/png": "[encoded data removed]",
      "text/plain": [
       "<Figure size 576x576 with 1 Axes>"
      ]
     },
     "metadata": {
      "needs_background": "light"
     },
     "output_type": "display_data"
    }
   ],
   "source": [
    "\n",
    "# comparing the performance of all the models\n",
    "plt.figure(figsize=(8,8))\n",
    "plt.bar(['MulinomialNB','Linear SVM','RBF SVM','Polynomial SVM','Sigmoid SVM'],evaluation[0:5],color=tuple([\"g\", \"b\",\"r\",\"y\",\"k\"]))\n",
    "plt.xlabel('Classifiers', fontsize=14)\n",
    "plt.ylabel('Accuracy Score', fontsize=14)\n",
    "plt.title(\"Bar graph of comparison between different models\", fontsize = 18,y=1.03)\n",
    "plt.show()"
   ]
  },
  {
   "cell_type": "markdown",
   "metadata": {},
   "source": [
    "# Q-2d Considering nouns"
   ]
  },
  {
   "cell_type": "markdown",
   "metadata": {},
   "source": [
    "### Performing POS tagging on raw data\n",
    "\n",
    "We have performed POS tagging on the RAW data to get the part-of-speech for every word."
   ]
  },
  {
   "cell_type": "code",
   "execution_count": 39,
   "metadata": {},
   "outputs": [
    {
     "name": "stdout",
     "output_type": "stream",
     "text": [
      "3387\n",
      "[('From', 'IN'), (':', ':'), ('healta', 'NN'), ('@', 'NN'), ('saturn.wwc.edu', 'NN'), ('(', '('), ('Tammy', 'NNP'), ('R', 'NNP'), ('Healy', 'NNP'), (')', ')'), ('Subject', 'NN'), (':', ':'), ('Re', 'NN'), (':', ':'), ('who', 'WP'), ('are', 'VBP'), ('we', 'PRP'), ('to', 'TO'), ('judge', 'VB'), (',', ','), ('Bobby', 'NNP'), ('?', '.'), ('Lines', 'NNS'), (':', ':'), ('38', 'CD'), ('Organization', 'NN'), (':', ':'), ('Walla', 'NNP'), ('Walla', 'NNP'), ('College', 'NNP'), ('Lines', 'NNP'), (':', ':'), ('38', 'CD'), ('In', 'IN'), ('article', 'NN'), ('<', '$'), ('1993Apr14.213356.22176', 'CD'), ('@', 'NNP'), ('ultb.isc.rit.edu', 'JJ'), ('>', 'NNP'), ('snm6394', 'NN'), ('@', 'NNP'), ('ultb.isc.rit.edu', 'NN'), ('(', '('), ('S.N', 'NNP'), ('.', '.'), ('Mozumder', 'NNP'), (')', ')'), ('writes', 'VBZ'), (':', ':'), ('>', 'NN'), ('From', 'IN'), (':', ':'), ('snm6394', 'NN'), ('@', 'NN'), ('ultb.isc.rit.edu', 'NN'), ('(', '('), ('S.N', 'NNP'), ('.', '.'), ('Mozumder', 'NNP'), (')', ')'), ('>', 'NN'), ('Subject', 'JJ'), (':', ':'), ('Re', 'NN'), (':', ':'), ('who', 'WP'), ('are', 'VBP'), ('we', 'PRP'), ('to', 'TO'), ('judge', 'VB'), (',', ','), ('Bobby', 'NNP'), ('?', '.'), ('>', 'NN'), ('Date', 'NN'), (':', ':'), ('Wed', 'NNP'), (',', ','), ('14', 'CD'), ('Apr', 'NNP'), ('1993', 'CD'), ('21:33:56', 'CD'), ('GMT', 'NNP'), ('>', 'NN'), ('In', 'IN'), ('article', 'NN'), ('<', 'NNP'), ('healta.56.734556346', 'NN'), ('@', 'NNP'), ('saturn.wwc.edu', 'NN'), ('>', 'NNP'), ('healta', 'NN'), ('@', 'NNP'), ('saturn.wwc.edu', 'NN'), ('(', '('), ('TAMMY', 'NNP'), ('R', 'NNP'), ('HEALY', 'NNP'), (')', ')'), ('writes', 'VBZ'), (':', ':'), ('>', 'NN'), ('>', 'NN'), ('Bobby', 'NNP'), (',', ','), ('>', 'NNP'), ('>', 'NNP'), ('>', 'NNP'), ('>', 'NNP'), ('I', 'PRP'), ('would', 'MD'), ('like', 'VB'), ('to', 'TO'), ('take', 'VB'), ('the', 'DT'), ('liberty', 'NN'), ('to', 'TO'), ('quote', 'VB'), ('from', 'IN'), ('a', 'DT'), ('Christian', 'JJ'), ('writer', 'NN'), ('named', 'VBN'), ('>', 'NNP'), ('>', 'NNP'), ('Ellen', 'NNP'), ('G.', 'NNP'), ('White', 'NNP'), ('.', '.'), ('I', 'PRP'), ('hope', 'VBP'), ('that', 'IN'), ('what', 'WP'), ('she', 'PRP'), ('said', 'VBD'), ('will', 'MD'), ('help', 'VB'), ('you', 'PRP'), ('to', 'TO'), ('edit', 'VB'), ('your', 'PRP$'), ('>', 'NN'), ('>', 'NN'), ('remarks', 'NNS'), ('in', 'IN'), ('this', 'DT'), ('group', 'NN'), ('in', 'IN'), ('the', 'DT'), ('future', 'NN'), ('.', '.'), ('>', 'JJ'), ('>', 'JJ'), ('>', 'NN'), ('>', 'NN'), (\"''\", \"''\"), ('Do', 'NNP'), ('not', 'RB'), ('set', 'VB'), ('yourself', 'PRP'), ('as', 'IN'), ('a', 'DT'), ('standard', 'NN'), ('.', '.'), ('Do', 'VBP'), ('not', 'RB'), ('make', 'VB'), ('your', 'PRP$'), ('opinions', 'NNS'), (',', ','), ('your', 'PRP$'), ('views', 'NNS'), ('>', 'VBP'), ('>', 'CD'), ('of', 'IN'), ('duty', 'NN'), (',', ','), ('your', 'PRP$'), ('interpretations', 'NNS'), ('of', 'IN'), ('scripture', 'NN'), (',', ','), ('a', 'DT'), ('criterion', 'NN'), ('for', 'IN'), ('others', 'NNS'), ('and', 'CC'), ('in', 'IN'), ('>', 'NNP'), ('>', 'NNP'), ('your', 'PRP$'), ('heart', 'NN'), ('condemn', 'VB'), ('them', 'PRP'), ('if', 'IN'), ('they', 'PRP'), ('do', 'VBP'), ('not', 'RB'), ('come', 'VB'), ('up', 'RP'), ('to', 'TO'), ('your', 'PRP$'), ('ideal', 'NN'), ('.', '.'), (\"''\", \"''\"), ('>', 'JJ'), ('>', 'NNP'), ('Thoughts', 'NNP'), ('Fromthe', 'NNP'), ('Mount', 'NNP'), ('of', 'IN'), ('Blessing', 'NNP'), ('p.', 'NN'), ('124', 'CD'), ('>', 'NN'), ('>', 'NNP'), ('>', 'NNP'), ('>', 'NNP'), ('I', 'PRP'), ('hope', 'VBP'), ('quoting', 'VBG'), ('this', 'DT'), ('does', 'VBZ'), (\"n't\", 'RB'), ('make', 'VB'), ('the', 'DT'), ('atheists', 'NNS'), ('gag', 'VBP'), (',', ','), ('but', 'CC'), ('I', 'PRP'), ('think', 'VBP'), ('Ellen', 'NNP'), ('White', 'NNP'), ('>', 'NNP'), ('>', 'NNP'), ('put', 'VBD'), ('it', 'PRP'), ('better', 'JJR'), ('than', 'IN'), ('I', 'PRP'), ('could', 'MD'), ('.', '.'), ('>', 'VB'), ('>', 'JJ'), ('>', 'NNP'), ('>', 'NNP'), ('Tammy', 'NNP'), ('>', 'NNP'), ('>', 'NNP'), ('Point', 'NNP'), ('?', '.'), ('>', 'NNP'), ('>', 'NNP'), ('Peace', 'NNP'), (',', ','), ('>', 'NNP'), ('>', 'NNP'), ('Bobby', 'NNP'), ('Mozumder', 'NNP'), ('>', 'NNP'), ('My', 'NNP'), ('point', 'NN'), ('is', 'VBZ'), ('that', 'IN'), ('you', 'PRP'), ('set', 'VBP'), ('up', 'RP'), ('your', 'PRP$'), ('views', 'NNS'), ('as', 'IN'), ('the', 'DT'), ('only', 'JJ'), ('way', 'NN'), ('to', 'TO'), ('believe', 'VB'), ('.', '.'), ('Saying', 'VBG'), ('that', 'IN'), ('all', 'DT'), ('eveil', 'NN'), ('in', 'IN'), ('this', 'DT'), ('world', 'NN'), ('is', 'VBZ'), ('caused', 'VBN'), ('by', 'IN'), ('atheism', 'NN'), ('is', 'VBZ'), ('ridiculous', 'JJ'), ('and', 'CC'), ('counterproductive', 'JJ'), ('to', 'TO'), ('dialogue', 'VB'), ('in', 'IN'), ('this', 'DT'), ('newsgroups', 'NN'), ('.', '.'), ('I', 'PRP'), ('see', 'VBP'), ('in', 'IN'), ('your', 'PRP$'), ('posts', 'NNS'), ('a', 'DT'), ('spirit', 'NN'), ('of', 'IN'), ('condemnation', 'NN'), ('of', 'IN'), ('the', 'DT'), ('atheists', 'NNS'), ('in', 'IN'), ('this', 'DT'), ('newsgroup', 'NN'), ('bacause', 'IN'), ('they', 'PRP'), (\"don'\", 'VBP'), ('t', 'JJ'), ('believe', 'VBP'), ('exactly', 'RB'), ('as', 'IN'), ('you', 'PRP'), ('do', 'VBP'), ('.', '.'), ('If', 'IN'), ('you', 'PRP'), (\"'re\", 'VBP'), ('here', 'RB'), ('to', 'TO'), ('try', 'VB'), ('to', 'TO'), ('convert', 'VB'), ('the', 'DT'), ('atheists', 'NNS'), ('here', 'RB'), (',', ','), ('you', 'PRP'), (\"'re\", 'VBP'), ('failing', 'VBG'), ('miserably', 'RB'), ('.', '.'), ('Who', 'WP'), ('wants', 'VBZ'), ('to', 'TO'), ('be', 'VB'), ('in', 'IN'), ('position', 'NN'), ('of', 'IN'), ('constantly', 'RB'), ('defending', 'VBG'), ('themselves', 'PRP'), ('agaist', 'JJ'), ('insulting', 'VBG'), ('attacks', 'NNS'), (',', ','), ('like', 'IN'), ('you', 'PRP'), ('seem', 'VBP'), ('to', 'TO'), ('like', 'VB'), ('to', 'TO'), ('do', 'VB'), ('?', '.'), ('!', '.'), ('I', 'PRP'), (\"'m\", 'VBP'), ('sorry', 'JJ'), ('you', 'PRP'), (\"'re\", 'VBP'), ('so', 'RB'), ('blind', 'IN'), ('that', 'IN'), ('you', 'PRP'), ('did', 'VBD'), (\"n't\", 'RB'), ('get', 'VB'), ('the', 'DT'), ('messgae', 'NN'), ('in', 'IN'), ('the', 'DT'), ('quote', 'NN'), (',', ','), ('everyone', 'NN'), ('else', 'RB'), ('has', 'VBZ'), ('seemed', 'VBN'), ('to', 'TO'), ('.', '.'), ('Tammy', 'VB')]\n"
     ]
    }
   ],
   "source": [
    "# performing POS tagging on cleaned token of words\n",
    "posTagged_filtered_words=[]\n",
    "for i in range(len(tokens_words_for_newsgroups)):\n",
    "    posTagged_filtered_words.append(nltk.pos_tag(tokens_words_for_newsgroups[i]))\n",
    "print(len(posTagged_filtered_words))\n",
    "print(posTagged_filtered_words[0])"
   ]
  },
  {
   "cell_type": "markdown",
   "metadata": {},
   "source": [
    "### Considering only nouns before cleaning\n",
    "\n",
    "Out of all these POS tagged words, we will now find only the noun words. We have considered four categories of nouns: \"NN\", \"NNS\", \"NNP\", and \"NNPS.\" Hence, we have found out noun words for all 3387 documents."
   ]
  },
  {
   "cell_type": "code",
   "execution_count": 40,
   "metadata": {},
   "outputs": [
    {
     "name": "stdout",
     "output_type": "stream",
     "text": [
      "3387\n",
      "['healta', '@', 'saturn.wwc.edu', 'Tammy', 'R', 'Healy', 'Subject', 'Re', 'Bobby', 'Lines', 'Organization', 'Walla', 'Walla', 'College', 'Lines', 'article', '@', '>', 'snm6394', '@', 'ultb.isc.rit.edu', 'S.N', 'Mozumder', '>', 'snm6394', '@', 'ultb.isc.rit.edu', 'S.N', 'Mozumder', '>', 'Re', 'Bobby', '>', 'Date', 'Wed', 'Apr', 'GMT', '>', 'article', '<', 'healta.56.734556346', '@', 'saturn.wwc.edu', '>', 'healta', '@', 'saturn.wwc.edu', 'TAMMY', 'R', 'HEALY', '>', '>', 'Bobby', '>', '>', '>', '>', 'liberty', 'writer', '>', '>', 'Ellen', 'G.', 'White', '>', '>', 'remarks', 'group', 'future', '>', '>', 'Do', 'standard', 'opinions', 'views', 'duty', 'interpretations', 'scripture', 'criterion', 'others', '>', '>', 'heart', 'ideal', '>', 'Thoughts', 'Fromthe', 'Mount', 'Blessing', 'p.', '>', '>', '>', '>', 'atheists', 'Ellen', 'White', '>', '>', '>', '>', 'Tammy', '>', '>', 'Point', '>', '>', 'Peace', '>', '>', 'Bobby', 'Mozumder', '>', 'My', 'point', 'views', 'way', 'eveil', 'world', 'atheism', 'newsgroups', 'posts', 'spirit', 'condemnation', 'atheists', 'newsgroup', 'atheists', 'position', 'attacks', 'messgae', 'quote', 'everyone']\n"
     ]
    }
   ],
   "source": [
    "# consider only nouns using posTagged words\n",
    "only_noun_words=[]\n",
    "words=[]\n",
    "for i in range(len(posTagged_filtered_words)):\n",
    "    words=[]\n",
    "    for word in posTagged_filtered_words[i]:\n",
    "        if word[1] in ('NN','NNS','NNP','NNPS'):\n",
    "            words.append(word[0])\n",
    "    only_noun_words.append(words)\n",
    "print(len(only_noun_words))\n",
    "print(only_noun_words[0])"
   ]
  },
  {
   "cell_type": "markdown",
   "metadata": {},
   "source": [
    "## Cleaning the dataset\n",
    "\n",
    "For cleaning the dataset we have followed 3 steps same as above:\n",
    "\n",
    "- Remove stop words\n",
    "- Remove numbers and other non-letter characters\n",
    "- Stem the words\n",
    "\n",
    "We have tokenized each news article into only noun words. \"newsGroup_filtered_tokens_nouns\" list will contain only the noun words for each document. After that, for cleaning the dataset, we have removed stopwords, non-alphabetic characters and numbers. Moreover, we have also removed numbers. Thereafter, we have performed stemming on the words. For example, \"Game\" and \"Gaming\" represents the same word, so it can be considered as the single word. For stemming, we have user PorterStemmer from nltk library. After that, we have converted the stemmed word into sentences."
   ]
  },
  {
   "cell_type": "code",
   "execution_count": 41,
   "metadata": {},
   "outputs": [
    {
     "name": "stdout",
     "output_type": "stream",
     "text": [
      "3387\n",
      "Cleaned tokens:\n",
      "\n",
      " ['healta', 'tammy', 'r', 'healy', 'subject', 're', 'bobby', 'lines', 'organization', 'walla', 'walla', 'college', 'lines', 'article', 'mozumder', 'mozumder', 're', 'bobby', 'date', 'wed', 'apr', 'gmt', 'article', 'healta', 'tammy', 'r', 'healy', 'bobby', 'liberty', 'writer', 'ellen', 'white', 'remarks', 'group', 'future', 'do', 'standard', 'opinions', 'views', 'duty', 'interpretations', 'scripture', 'criterion', 'others', 'heart', 'ideal', 'thoughts', 'fromthe', 'mount', 'blessing', 'atheists', 'ellen', 'white', 'tammy', 'point', 'peace', 'bobby', 'mozumder', 'my', 'point', 'views', 'way', 'eveil', 'world', 'atheism', 'newsgroups', 'posts', 'spirit', 'condemnation', 'atheists', 'newsgroup', 'atheists', 'position', 'attacks', 'messgae', 'quote', 'everyone']\n"
     ]
    }
   ],
   "source": [
    "#  removing stopwords, number and other non-letter characters\n",
    "newsGroup_filtered_tokens_nouns=[]\n",
    "\n",
    "for i in range(len(only_noun_words)):\n",
    "    temp=[]\n",
    "    for w in only_noun_words[i]:\n",
    "        if ((w not in stop_words_english) and w.isalpha()):\n",
    "            temp.append(w.lower())\n",
    "    newsGroup_filtered_tokens_nouns.append(temp)\n",
    "# printing cleaned tokens of first news article\n",
    "print(len(newsGroup_filtered_tokens_nouns))\n",
    "print(\"Cleaned tokens:\\n\\n\",newsGroup_filtered_tokens_nouns[0])"
   ]
  },
  {
   "cell_type": "markdown",
   "metadata": {},
   "source": [
    "## Stemming the cleaned nouns"
   ]
  },
  {
   "cell_type": "code",
   "execution_count": 42,
   "metadata": {},
   "outputs": [
    {
     "name": "stdout",
     "output_type": "stream",
     "text": [
      "3387\n",
      "Stemmed tokens\n",
      "\n",
      " ['healta', 'tammi', 'r', 'heali', 'subject', 're', 'bobbi', 'line', 'organ', 'walla', 'walla', 'colleg', 'line', 'articl', 'mozumd', 'mozumd', 're', 'bobbi', 'date', 'wed', 'apr', 'gmt', 'articl', 'healta', 'tammi', 'r', 'heali', 'bobbi', 'liberti', 'writer', 'ellen', 'white', 'remark', 'group', 'futur', 'do', 'standard', 'opinion', 'view', 'duti', 'interpret', 'scriptur', 'criterion', 'other', 'heart', 'ideal', 'thought', 'fromth', 'mount', 'bless', 'atheist', 'ellen', 'white', 'tammi', 'point', 'peac', 'bobbi', 'mozumd', 'my', 'point', 'view', 'way', 'eveil', 'world', 'atheism', 'newsgroup', 'post', 'spirit', 'condemn', 'atheist', 'newsgroup', 'atheist', 'posit', 'attack', 'messga', 'quot', 'everyon']\n"
     ]
    }
   ],
   "source": [
    "stemmed_news_group_nouns=[]\n",
    "for i in range(len(newsGroup_filtered_tokens_nouns)):\n",
    "    temp=[]\n",
    "    for w in newsGroup_filtered_tokens_nouns[i]:\n",
    "        temp.append(ps.stem(w))\n",
    "    stemmed_news_group_nouns.append(temp)\n",
    "    \n",
    "print(len(stemmed_news_group_nouns))       \n",
    "print(\"Stemmed tokens\\n\\n\",stemmed_news_group_nouns[0])"
   ]
  },
  {
   "cell_type": "code",
   "execution_count": 43,
   "metadata": {},
   "outputs": [
    {
     "name": "stdout",
     "output_type": "stream",
     "text": [
      "healta tammi r heali subject re bobbi line organ walla walla colleg line articl mozumd mozumd re bobbi date wed apr gmt articl healta tammi r heali bobbi liberti writer ellen white remark group futur do standard opinion view duti interpret scriptur criterion other heart ideal thought fromth mount bless atheist ellen white tammi point peac bobbi mozumd my point view way eveil world atheism newsgroup post spirit condemn atheist newsgroup atheist posit attack messga quot everyon\n"
     ]
    }
   ],
   "source": [
    "# converting nouns into sentences\n",
    "for i in range(len(stemmed_news_group_nouns)):\n",
    "    stemmed_news_group_nouns[i]=\" \".join(stemmed_news_group_nouns[i])\n",
    "\n",
    "print(stemmed_news_group_nouns[0])"
   ]
  },
  {
   "cell_type": "markdown",
   "metadata": {},
   "source": [
    "## Bag of words representation of nouns\n",
    "\n",
    "If we consider only nouns, the size of the vocabulary for bag-of-words has reduced to 19404. However, it was 23107 for all words in answer 2-c."
   ]
  },
  {
   "cell_type": "code",
   "execution_count": 44,
   "metadata": {},
   "outputs": [
    {
     "data": {
      "text/plain": [
       "(3387, 19404)"
      ]
     },
     "execution_count": 44,
     "metadata": {},
     "output_type": "execute_result"
    }
   ],
   "source": [
    "# bag of words representation of nouns\n",
    "count_vect = CountVectorizer()\n",
    "bagOfWords_noun= count_vect.fit_transform(stemmed_news_group_nouns)\n",
    "bagOfWords_noun.shape"
   ]
  },
  {
   "cell_type": "markdown",
   "metadata": {},
   "source": [
    "## TF-IDF weighted vector of nouns\n",
    "\n",
    "Similarly, if we consider only nouns, the size of the vocabulary for TF-IDF weighted vector representation has reduced to 19404. However, it was 23107 for all words in answer 2-c."
   ]
  },
  {
   "cell_type": "code",
   "execution_count": 45,
   "metadata": {},
   "outputs": [
    {
     "data": {
      "text/plain": [
       "(3387, 19404)"
      ]
     },
     "execution_count": 45,
     "metadata": {},
     "output_type": "execute_result"
    }
   ],
   "source": [
    "# generating tf-idf vector\n",
    "tfidf_transformer_noun = TfidfTransformer()\n",
    "tfidf_noun = tfidf_transformer.fit_transform(bagOfWords_noun)\n",
    "tfidf_noun.shape"
   ]
  },
  {
   "cell_type": "markdown",
   "metadata": {},
   "source": [
    "## Splitting data \n",
    "\n",
    "Splittng the dataset into training set and testing set as following :\n",
    "\n",
    "1. Training Set - 70%\n",
    "2. Testing Set - 30%\n",
    "\n",
    "Hence, 2370 documents are in training set and 1017 documents are in testing set."
   ]
  },
  {
   "cell_type": "code",
   "execution_count": 46,
   "metadata": {},
   "outputs": [
    {
     "name": "stdout",
     "output_type": "stream",
     "text": [
      "(2370, 19404)\n",
      "(2370,)\n",
      "(1017, 19404)\n",
      "(1017,)\n"
     ]
    }
   ],
   "source": [
    "X_train, X_test, y_train, y_test = train_test_split(tfidf_noun, newsgroups_data.target, test_size=0.30,random_state=42)\n",
    "print(X_train.shape)\n",
    "print(y_train.shape)\n",
    "print(X_test.shape)\n",
    "print(y_test.shape)\n",
    "y_train=y_train.reshape((y_train.shape[0],1))\n",
    "y_test=y_test.reshape((y_test.shape[0],1))"
   ]
  },
  {
   "cell_type": "markdown",
   "metadata": {},
   "source": [
    "## Training MultinomialNB on nouns"
   ]
  },
  {
   "cell_type": "code",
   "execution_count": 47,
   "metadata": {},
   "outputs": [],
   "source": [
    "NB_clf_noun= MultinomialNB().fit(X_train,y_train)"
   ]
  },
  {
   "cell_type": "markdown",
   "metadata": {},
   "source": [
    "### Evaluating MultinomialNB \n",
    "\n",
    "For only nouns, the results for MultinomialNB has improved by approximately 2-3%. For example, for all the words MultinomialNB had 90% accuracy. However, for only noun words it has 92% approximate accuracy. Similarly, results for Precision, and Recall has improved in case of only nouns."
   ]
  },
  {
   "cell_type": "code",
   "execution_count": 48,
   "metadata": {},
   "outputs": [
    {
     "name": "stdout",
     "output_type": "stream",
     "text": [
      "Performance of MultinomialNB classifier\n",
      "\n",
      "Training accuracy score: 0.958\n",
      "Test accuracy_score:0.920\n",
      "Precision: 0.928\n",
      "Recall: 0.920\n",
      "F1: 0.916\n",
      "\n"
     ]
    }
   ],
   "source": [
    "y_predicted_multinomialNB=evaluateClassifier(classifier=NB_clf_noun,model=\"MultinomialNB classifier\",index=5)"
   ]
  },
  {
   "cell_type": "markdown",
   "metadata": {},
   "source": [
    "### Confusion matrix of MultinomialNB\n",
    "\n",
    "As confusion matrix table below shows, we can say that if we consider only nouns, 44 instance of \"sci.shape\" are mis-classified as \"alt.atheism\". However, in case of all words, the number of wrongly-classified instances were 63. Hence, we can say that, it has improved in case of only nouns. "
   ]
  },
  {
   "cell_type": "code",
   "execution_count": 49,
   "metadata": {},
   "outputs": [
    {
     "name": "stdout",
     "output_type": "stream",
     "text": [
      "Confusion matrix of MultinomialNB\n"
     ]
    },
    {
     "data": {
      "text/html": [
       "<div>\n",
       "<style scoped>\n",
       "    .dataframe tbody tr th:only-of-type {\n",
       "        vertical-align: middle;\n",
       "    }\n",
       "\n",
       "    .dataframe tbody tr th {\n",
       "        vertical-align: top;\n",
       "    }\n",
       "\n",
       "    .dataframe thead th {\n",
       "        text-align: right;\n",
       "    }\n",
       "</style>\n",
       "<table border=\"1\" class=\"dataframe\">\n",
       "  <thead>\n",
       "    <tr style=\"text-align: right;\">\n",
       "      <th></th>\n",
       "      <th>alt.atheism</th>\n",
       "      <th>talk.religion.misc</th>\n",
       "      <th>comp.graphics</th>\n",
       "      <th>sci.space</th>\n",
       "    </tr>\n",
       "  </thead>\n",
       "  <tbody>\n",
       "    <tr>\n",
       "      <th>alt.atheism</th>\n",
       "      <td>221</td>\n",
       "      <td>0</td>\n",
       "      <td>2</td>\n",
       "      <td>1</td>\n",
       "    </tr>\n",
       "    <tr>\n",
       "      <th>talk.religion.misc</th>\n",
       "      <td>0</td>\n",
       "      <td>292</td>\n",
       "      <td>5</td>\n",
       "      <td>0</td>\n",
       "    </tr>\n",
       "    <tr>\n",
       "      <th>comp.graphics</th>\n",
       "      <td>2</td>\n",
       "      <td>6</td>\n",
       "      <td>299</td>\n",
       "      <td>0</td>\n",
       "    </tr>\n",
       "    <tr>\n",
       "      <th>sci.space</th>\n",
       "      <td>44</td>\n",
       "      <td>5</td>\n",
       "      <td>16</td>\n",
       "      <td>124</td>\n",
       "    </tr>\n",
       "  </tbody>\n",
       "</table>\n",
       "</div>"
      ],
      "text/plain": [
       "                    alt.atheism  talk.religion.misc  comp.graphics  sci.space\n",
       "alt.atheism                 221                   0              2          1\n",
       "talk.religion.misc            0                 292              5          0\n",
       "comp.graphics                 2                   6            299          0\n",
       "sci.space                    44                   5             16        124"
      ]
     },
     "execution_count": 49,
     "metadata": {},
     "output_type": "execute_result"
    }
   ],
   "source": [
    "confusionMatrix(\"MultinomialNB\",y_predicted_multinomialNB)"
   ]
  },
  {
   "cell_type": "markdown",
   "metadata": {},
   "source": [
    "## Training and evaluating Linear SVM on nouns\n",
    "\n",
    "Performance of Linear SVM in case of onnly noun words is shown in below table. As it can be seen in the table, we can say that, the results are almost similar to that of all words. Hence, the accuracy of Linear SVM has not improves even if we consider only the noun words. The evaluation metrices remains the same."
   ]
  },
  {
   "cell_type": "code",
   "execution_count": 50,
   "metadata": {},
   "outputs": [
    {
     "name": "stdout",
     "output_type": "stream",
     "text": [
      "Performance of Support vector machine classifier with linear kernel \n",
      "\n",
      "Training accuracy score: 0.994\n",
      "Test accuracy_score:0.954\n",
      "Precision: 0.954\n",
      "Recall: 0.954\n",
      "F1: 0.954\n",
      "\n"
     ]
    },
    {
     "name": "stderr",
     "output_type": "stream",
     "text": [
      "c:\\users\\shrey amin\\appdata\\local\\programs\\python\\python37\\lib\\site-packages\\sklearn\\utils\\validation.py:761: DataConversionWarning: A column-vector y was passed when a 1d array was expected. Please change the shape of y to (n_samples, ), for example using ravel().\n",
      "  y = column_or_1d(y, warn=True)\n"
     ]
    }
   ],
   "source": [
    "SVM_clf_linear_noun=LinearSVC(loss='hinge', penalty='l2', random_state=42).fit(X_train,y_train)\n",
    "y_predicted_SVM_linear=evaluateClassifier(classifier=SVM_clf_linear_noun,model=\"Support vector machine classifier with linear kernel \",index=6)"
   ]
  },
  {
   "cell_type": "markdown",
   "metadata": {},
   "source": [
    "### Confusion matrix of linear SVM\n",
    "\n",
    "As confusion matrix table below shows, we can say that even if we consider only nouns, the number of wrongly-classified instances remains the same and it is 12. Hence, we can say that, Linear SVM has the same results in case of all words and noun words both."
   ]
  },
  {
   "cell_type": "code",
   "execution_count": 51,
   "metadata": {},
   "outputs": [
    {
     "name": "stdout",
     "output_type": "stream",
     "text": [
      "Confusion matrix of Linear SVM\n"
     ]
    },
    {
     "data": {
      "text/html": [
       "<div>\n",
       "<style scoped>\n",
       "    .dataframe tbody tr th:only-of-type {\n",
       "        vertical-align: middle;\n",
       "    }\n",
       "\n",
       "    .dataframe tbody tr th {\n",
       "        vertical-align: top;\n",
       "    }\n",
       "\n",
       "    .dataframe thead th {\n",
       "        text-align: right;\n",
       "    }\n",
       "</style>\n",
       "<table border=\"1\" class=\"dataframe\">\n",
       "  <thead>\n",
       "    <tr style=\"text-align: right;\">\n",
       "      <th></th>\n",
       "      <th>alt.atheism</th>\n",
       "      <th>talk.religion.misc</th>\n",
       "      <th>comp.graphics</th>\n",
       "      <th>sci.space</th>\n",
       "    </tr>\n",
       "  </thead>\n",
       "  <tbody>\n",
       "    <tr>\n",
       "      <th>alt.atheism</th>\n",
       "      <td>209</td>\n",
       "      <td>1</td>\n",
       "      <td>4</td>\n",
       "      <td>10</td>\n",
       "    </tr>\n",
       "    <tr>\n",
       "      <th>talk.religion.misc</th>\n",
       "      <td>0</td>\n",
       "      <td>295</td>\n",
       "      <td>2</td>\n",
       "      <td>0</td>\n",
       "    </tr>\n",
       "    <tr>\n",
       "      <th>comp.graphics</th>\n",
       "      <td>1</td>\n",
       "      <td>10</td>\n",
       "      <td>295</td>\n",
       "      <td>1</td>\n",
       "    </tr>\n",
       "    <tr>\n",
       "      <th>sci.space</th>\n",
       "      <td>12</td>\n",
       "      <td>5</td>\n",
       "      <td>1</td>\n",
       "      <td>171</td>\n",
       "    </tr>\n",
       "  </tbody>\n",
       "</table>\n",
       "</div>"
      ],
      "text/plain": [
       "                    alt.atheism  talk.religion.misc  comp.graphics  sci.space\n",
       "alt.atheism                 209                   1              4         10\n",
       "talk.religion.misc            0                 295              2          0\n",
       "comp.graphics                 1                  10            295          1\n",
       "sci.space                    12                   5              1        171"
      ]
     },
     "execution_count": 51,
     "metadata": {},
     "output_type": "execute_result"
    }
   ],
   "source": [
    "confusionMatrix(\"Linear SVM\",y_predicted_SVM_linear)"
   ]
  },
  {
   "cell_type": "markdown",
   "metadata": {},
   "source": [
    "## Comparing performance on stemmed all words and stemmed noun words\n",
    "\n",
    "We have shown the comparison of Multinomial NB and Linear SVM in case of both noun words and all the words. As it can be seen in the table, the accuracy score of Multinomial Naive Bayes increases to approximately 92% for noun words from 90% for all words. Whereas, the accuracy score remains the same approximately (95%) in case of Linear SVM for both the noun words and all words case."
   ]
  },
  {
   "cell_type": "code",
   "execution_count": 52,
   "metadata": {},
   "outputs": [
    {
     "name": "stdout",
     "output_type": "stream",
     "text": [
      "Accuracy score in both the approaches\n"
     ]
    },
    {
     "data": {
      "text/html": [
       "<div>\n",
       "<style scoped>\n",
       "    .dataframe tbody tr th:only-of-type {\n",
       "        vertical-align: middle;\n",
       "    }\n",
       "\n",
       "    .dataframe tbody tr th {\n",
       "        vertical-align: top;\n",
       "    }\n",
       "\n",
       "    .dataframe thead th {\n",
       "        text-align: right;\n",
       "    }\n",
       "</style>\n",
       "<table border=\"1\" class=\"dataframe\">\n",
       "  <thead>\n",
       "    <tr style=\"text-align: right;\">\n",
       "      <th></th>\n",
       "      <th>MultinomialNB</th>\n",
       "      <th>Linear SVM</th>\n",
       "    </tr>\n",
       "  </thead>\n",
       "  <tbody>\n",
       "    <tr>\n",
       "      <th>Stemmed features</th>\n",
       "      <td>0.907571</td>\n",
       "      <td>0.955752</td>\n",
       "    </tr>\n",
       "    <tr>\n",
       "      <th>Noun features</th>\n",
       "      <td>0.920354</td>\n",
       "      <td>0.953786</td>\n",
       "    </tr>\n",
       "  </tbody>\n",
       "</table>\n",
       "</div>"
      ],
      "text/plain": [
       "                  MultinomialNB  Linear SVM\n",
       "Stemmed features       0.907571    0.955752\n",
       "Noun features          0.920354    0.953786"
      ]
     },
     "execution_count": 52,
     "metadata": {},
     "output_type": "execute_result"
    }
   ],
   "source": [
    "# comparing the performance with stemmed tokens and noun tokens\n",
    "evaluation_score_list=[0,0,0,0]\n",
    "evaluation_score_list[0]=evaluation[0]\n",
    "evaluation_score_list[1]=evaluation[5]\n",
    "evaluation_score_list[2]=evaluation[1]\n",
    "evaluation_score_list[3]=evaluation[6]\n",
    "comparison_df=pd.DataFrame([[evaluation[0],evaluation[1]],[evaluation[5],evaluation[6]]],index=[\"Stemmed features\",\"Noun features\"],columns=[\"MultinomialNB\",\"Linear SVM\"])\n",
    "print(\"Accuracy score in both the approaches\")\n",
    "comparison_df\n"
   ]
  },
  {
   "cell_type": "markdown",
   "metadata": {},
   "source": [
    "### Bar Graph for comparison\n",
    "\n",
    "We have also shown the bar graph for both Multinomial NB and Linear SVM in case of both the noun words and all words."
   ]
  },
  {
   "cell_type": "code",
   "execution_count": 53,
   "metadata": {},
   "outputs": [
    {
     "data": {
      "image/png": "[encoded data removed]",
      "text/plain": [
       "<Figure size 576x576 with 1 Axes>"
      ]
     },
     "metadata": {
      "needs_background": "light"
     },
     "output_type": "display_data"
    }
   ],
   "source": [
    "plt.figure(figsize=(8,8))\n",
    "plt.bar(['MulinomialNB','MulinomialNB_Noun','Linear SVM','Linear SVM_Noun'],evaluation_score_list,color=tuple([\"g\", \"b\",\"r\",\"y\",\"k\"]))\n",
    "plt.xlabel('Classifiers', fontsize=14)\n",
    "plt.ylabel('Accuracy Score', fontsize=14)\n",
    "plt.title(\"Bar graph of comparison between different models with only stemmed features vs stemmed noun features\", fontsize = 18,y=1.03)\n",
    "plt.show()"
   ]
  },
  {
   "cell_type": "markdown",
   "metadata": {},
   "source": [
    "## Comparing size of vocabularies\n",
    "\n",
    "As discussed above, the size of vocabulary for all words was 23107 and for noun words it was 19404. We have plotted the bar graph to show the comparison between both. Moreover, with less number of features the perfromance of both the models does not decrease. So, its better if we consider only nouns as the feature vector."
   ]
  },
  {
   "cell_type": "code",
   "execution_count": 54,
   "metadata": {},
   "outputs": [
    {
     "name": "stdout",
     "output_type": "stream",
     "text": [
      "Total features in stemming:  23107\n",
      "Total features in considering only nouns:  19404\n"
     ]
    },
    {
     "data": {
      "image/png": "[encoded data removed]",
      "text/plain": [
       "<Figure size 576x576 with 1 Axes>"
      ]
     },
     "metadata": {
      "needs_background": "light"
     },
     "output_type": "display_data"
    }
   ],
   "source": [
    "#  comparing vocabularies\n",
    "print(\"Total features in stemming: \",bagOfWords.shape[1])\n",
    "print(\"Total features in considering only nouns: \",bagOfWords_noun.shape[1])\n",
    "plt.figure(figsize=(8,8))\n",
    "plt.bar(['Stemmed Features','Noun Features'],[bagOfWords.shape[1],bagOfWords_noun.shape[1]],color=tuple([\"g\", \"b\",\"r\",\"y\",\"k\"]))\n",
    "plt.xlabel('Approach', fontsize=14)\n",
    "plt.ylabel('Total Vocabularies', fontsize=14)\n",
    "plt.title(\"Bar graph of comparison between of total vocabularies\", fontsize = 18,y=1.03)\n",
    "plt.show()"
   ]
  },
  {
   "cell_type": "markdown",
   "metadata": {},
   "source": [
    "## References\n",
    "\n",
    "- Tutorial 6\n",
    "- Collocations : https://medium.com/@nicharuch/collocations-identifying-phrases-that-act-like-individual-words-in-nlp-f58a93a2f84a\n",
    "- Bag-of-words representation : https://machinelearningmastery.com/gentle-introduction-bag-words-model/\n",
    "- TF-IDF weighted vector representation : https://www.commonlounge.com/discussion/99e86c9c15bb4d23a30b111b23e7b7b1\n",
    "- SVM with different kernels : https://scikit-learn.org/stable/modules/svm.html\n",
    "- Comparison between Multinomial NB and SVM - https://stackoverflow.com/questions/35360081/naive-bayes-vs-svm-for-classifying-text-data"
   ]
  }
 ],
 "metadata": {
  "kernelspec": {
   "display_name": "Python 3",
   "language": "python",
   "name": "python3"
  },
  "language_info": {
   "codemirror_mode": {
    "name": "ipython",
    "version": 3
   },
   "file_extension": ".py",
   "mimetype": "text/x-python",
   "name": "python",
   "nbconvert_exporter": "python",
   "pygments_lexer": "ipython3",
   "version": "3.7.2"
  }
 },
 "nbformat": 4,
 "nbformat_minor": 2
}
